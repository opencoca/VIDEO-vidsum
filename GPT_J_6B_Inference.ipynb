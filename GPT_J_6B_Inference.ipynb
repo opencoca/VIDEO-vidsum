{
  "nbformat": 4,
  "nbformat_minor": 0,
  "metadata": {
    "accelerator": "TPU",
    "colab": {
      "name": "GPT-J-6B Inference.ipynb",
      "provenance": [],
      "collapsed_sections": [],
      "machine_shape": "hm",
      "include_colab_link": true
    },
    "kernelspec": {
      "display_name": "Python 3",
      "name": "python3"
    },
    "language_info": {
      "name": "python"
    }
  },
  "cells": [
    {
      "cell_type": "markdown",
      "metadata": {
        "id": "view-in-github",
        "colab_type": "text"
      },
      "source": [
        "<a href=\"https://colab.research.google.com/github/opencoca/vidsum/blob/master/GPT_J_6B_Inference.ipynb\" target=\"_parent\"><img src=\"https://colab.research.google.com/assets/colab-badge.svg\" alt=\"Open In Colab\"/></a>"
      ]
    },
    {
      "cell_type": "markdown",
      "metadata": {
        "id": "pHIJVqHsh4An"
      },
      "source": [
        "# GPT-J-6B Inference \n",
        "\n",
        "This notebook explores how to work with the [GPT-J-6B model](https://github.com/kingoflolz/mesh-transformer-jax/#GPT-J-6B). See the link for more details about the model, including evaluation metrics and credits.\n",
        "\n",
        "Please note it takes ~10 minutes for this notebook to fully spin up. Sometimes you will runout of ram when attempting to setup the model. If this happens factory restart the runtime and try again. If it contines to happen ...\n",
        "\n",
        "Start this notebok by clicking `Runtime > Run all` or clicking `⌘/Ctrl+F9`. Use `⌘` on Mac and `Ctrl` on Windows and Linux. \n",
        "\n",
        "Keep an eye on this as it spins up. Google likes to make sure you are not a bot and will stop things if you ignore the \"I'm not a robot\" popup."
      ]
    },
    {
      "cell_type": "markdown",
      "metadata": {
        "id": "8CMw_dSQKfhT"
      },
      "source": [
        "## Prepare it to be used\n",
        "\n",
        "### Install Dependencies\n",
        "\n",
        "First we download the model and install some dependencies. This step takes at least 5 minutes (possibly longer depending on server load).\n",
        "\n",
        "!!! **Make sure you are using a TPU runtime!** !!!"
      ]
    },
    {
      "cell_type": "code",
      "metadata": {
        "id": "JdkgIa72_2FT",
        "cellView": "form"
      },
      "source": [
        "#@title Mount Google Drive and clone project repo\n",
        "#@markdown Not having to reinstall all libs speeds up relaunch immensely\n",
        "!git clone --quite https://github.com/kingoflolz/mesh-transformer-jax.git\n",
        "\n",
        "import os, sys\n",
        "from google.colab import drive\n",
        "drive.mount('/content/drive')\n",
        "nb_path = '/content/notebooks'\n",
        "os.symlink('/content/drive/My Drive/Colab Notebooks', nb_path)\n",
        "sys.path.insert(0,nb_path)\n",
        "\n",
        "pk_path = '/content/site-packages'\n",
        "os.makedirs('/content/drive/My Drive/Colab Notebooks/site-packages', exist_ok=True)\n",
        "os.symlink('/content/drive/My Drive/Colab Notebooks/site-packages', pk_path)\n",
        "sys.path.insert(0,pk_path)\n",
        "\n",
        "os.symlink('/content/notebooks/step_383500_slim.tar.zstd', '/content/step_383500_slim.tar.zstd')"
      ],
      "execution_count": null,
      "outputs": []
    },
    {
      "cell_type": "code",
      "metadata": {
        "id": "n7xAFw-LOYfe",
        "outputId": "7453cc31-3697-4238-b99c-edcdea6aaae0",
        "colab": {
          "base_uri": "https://localhost:8080/"
        }
      },
      "source": [
        "#@title Install GPT-J-6B Network\n",
        "#@markdown So long as you already have a copy of GPT-J in your Google Drive this is a fast process. If the is is the first time it can take almost half an hour if https://the-eye.eu is flooded with traffic.\n",
        "!apt-get install -qq zstd\n",
        "\n",
        "# the \"slim\" version contain only bf16 weights and no optimizer parameters, which minimizes bandwidth and memory\n",
        "!echo \"Getting https://the-eye.eu/public/AI/GPT-J-6B/step_383500_slim.tar.zstd this can take ~6-20 min.\"\n",
        "!time wget  -nc -c https://the-eye.eu/public/AI/GPT-J-6B/step_383500_slim.tar.zstd\n",
        "\n",
        "!time tar -I zstd -xf step_383500_slim.tar.zstd\n"
      ],
      "execution_count": 11,
      "outputs": [
        {
          "output_type": "stream",
          "name": "stdout",
          "text": [
            "Selecting previously unselected package zstd.\n",
            "(Reading database ... 155219 files and directories currently installed.)\n",
            "Preparing to unpack .../zstd_1.3.3+dfsg-2ubuntu1.2_amd64.deb ...\n",
            "Unpacking zstd (1.3.3+dfsg-2ubuntu1.2) ...\n",
            "Setting up zstd (1.3.3+dfsg-2ubuntu1.2) ...\n",
            "Processing triggers for man-db (2.8.3-2ubuntu0.1) ...\n",
            "Getting https://the-eye.eu/public/AI/GPT-J-6B/step_383500_slim.tar.zstd this can take ~6-20 min.\n",
            "File ‘step_383500_slim.tar.zstd’ already there; not retrieving.\n",
            "\n",
            "\n",
            "real\t0m0.006s\n",
            "user\t0m0.004s\n",
            "sys\t0m0.002s\n",
            "\n",
            "real\t2m48.505s\n",
            "user\t0m36.153s\n",
            "sys\t0m33.627s\n"
          ]
        }
      ]
    },
    {
      "cell_type": "code",
      "metadata": {
        "id": "8KqQLCc244hn"
      },
      "source": [
        "#@title Install GPT-J-6B Inference OpenCo's requirements.txt\n",
        "#@markdown restart once this has run\n",
        "\n",
        "!wget -O mesh-transformer-jax/requirements.txt https://gist.githubusercontent.com/opencoca/ea36cfdf091c93df337f36951fa93a50/raw/83f7e5246a0c7ed873569e1edab93ef289252f1e/requirements.txt\n",
        "\n",
        "!echo \"Quietly installing GPT-J-6B Inference OpenCo's requirements.txt\"\n",
        "!pip -q install --target=$pk_path -r mesh-transformer-jax/requirements.txt\n",
        "\n",
        "# jax 0.2.12 is required due to a regression with xmap in 0.2.13\n",
        "!pip -q install --target=$pk_path mesh-transformer-jax/ jax==0.2.12\n",
        "!pip -q install --target=$pk_path optax==0.0.9 transformers==4.12.3 dm-haiku==0.0.5 einops==0.3.2 jax==0.2.12 ray==1.8.0 \n"
      ],
      "execution_count": null,
      "outputs": []
    },
    {
      "cell_type": "code",
      "metadata": {
        "id": "YT1XmBc7BHwI"
      },
      "source": [
        "#@title Install Tensorflow\n",
        "#@markdown restart once this has run\n",
        "\n",
        "!pip install --target=$pk_path tensorflow==2.5.0"
      ],
      "execution_count": null,
      "outputs": []
    },
    {
      "cell_type": "markdown",
      "metadata": {
        "id": "aO1UXepF-0Uq"
      },
      "source": [
        "## Setup Model\n",
        "\n",
        "Make sure to  restart your runtime for this will work reliably. \n",
        "\n",
        "\n"
      ]
    },
    {
      "cell_type": "code",
      "metadata": {
        "id": "ex0qJgaueZtJ"
      },
      "source": [
        "#@title Setup JAX for TPU use\n",
        "import os\n",
        "import requests \n",
        "from jax.config import config\n",
        "\n",
        "colab_tpu_addr = os.environ['COLAB_TPU_ADDR'].split(':')[0]\n",
        "url = f'http://{colab_tpu_addr}:8475/requestversion/tpu_driver0.1_dev20210607'\n",
        "print(url)\n",
        "requests.post(url)\n",
        "\n",
        "# The following is required to use TPU Driver as JAX's backend.\n",
        "config.FLAGS.jax_xla_backend = \"tpu_driver\"\n",
        "config.FLAGS.jax_backend_target = \"grpc://\" + os.environ['COLAB_TPU_ADDR']"
      ],
      "execution_count": null,
      "outputs": []
    },
    {
      "cell_type": "markdown",
      "metadata": {
        "id": "NIgUVdFLe4A8"
      },
      "source": [
        "Sometimes the next step errors for some reason, just run it again ¯\\\\\\_(ツ)\\_/¯"
      ]
    },
    {
      "cell_type": "code",
      "metadata": {
        "id": "qsjUM51SrfBW"
      },
      "source": [
        "def check_tpu_statue():\n",
        "    import os\n",
        "    \n",
        "    if 'COLAB_TPU_ADDR' not in os.environ:\n",
        "      print('ERROR: Not connected to a TPU runtime')\n",
        "    else:\n",
        "      tpu_address = 'grpc://' + os.environ['COLAB_TPU_ADDR']\n",
        "      print ('TPU address is', tpu_address)\n",
        "\n",
        "check_tpu_statue()"
      ],
      "execution_count": null,
      "outputs": []
    },
    {
      "cell_type": "code",
      "metadata": {
        "id": "-A5IGYSaeze3"
      },
      "source": [
        "#@title Import libraries\n",
        "import time\n",
        "\n",
        "import jax\n",
        "from jax.experimental import maps\n",
        "import numpy as np\n",
        "import optax\n",
        "import transformers\n",
        "\n",
        "from mesh_transformer.checkpoint import read_ckpt\n",
        "from mesh_transformer.sampling import nucleaus_sample\n",
        "from mesh_transformer.transformer_shard import CausalTransformer"
      ],
      "execution_count": null,
      "outputs": []
    },
    {
      "cell_type": "code",
      "metadata": {
        "id": "QAgKq-X2kmba"
      },
      "source": [
        "#@title Set Network Parameters \n",
        "params = {\n",
        "  \"layers\": 28,\n",
        "  \"d_model\": 4096,\n",
        "  \"n_heads\": 16,\n",
        "  \"n_vocab\": 50400,\n",
        "  \"norm\": \"layernorm\",\n",
        "  \"pe\": \"rotary\",\n",
        "  \"pe_rotary_dims\": 64,\n",
        "\n",
        "  \"seq\": 2048,\n",
        "  \"cores_per_replica\": 8,\n",
        "  \"per_replica_batch\": 1,\n",
        "}\n",
        "\n",
        "per_replica_batch = params[\"per_replica_batch\"]\n",
        "cores_per_replica = params[\"cores_per_replica\"]\n",
        "seq = params[\"seq\"]\n",
        "\n",
        "\n",
        "params[\"sampler\"] = nucleaus_sample\n",
        "\n",
        "# here we \"remove\" the optimizer parameters from the model (as we don't need them for inference)\n",
        "params[\"optimizer\"] = optax.scale(0)\n",
        "\n",
        "mesh_shape = (jax.device_count() // cores_per_replica, cores_per_replica)\n",
        "devices = np.array(jax.devices()).reshape(mesh_shape)\n",
        "\n",
        "maps.thread_resources.env = maps.ResourceEnv(maps.Mesh(devices, ('dp', 'mp')))\n",
        "\n",
        "tokenizer = transformers.GPT2TokenizerFast.from_pretrained('gpt2')"
      ],
      "execution_count": null,
      "outputs": []
    },
    {
      "cell_type": "code",
      "metadata": {
        "cellView": "form",
        "id": "T7kJZTkVQ2CZ"
      },
      "source": [
        "#@title Install Tracery \n",
        "#@markdown Tracery is a gramar for spining articles, stories, and text in general. https://github.com/aparrish/pytracery\n",
        "!pip install tracery"
      ],
      "execution_count": null,
      "outputs": []
    },
    {
      "cell_type": "code",
      "metadata": {
        "id": "-xgsL0IFTZt0",
        "cellView": "form"
      },
      "source": [
        "#@title Tidy things up\n",
        "from IPython.display import clear_output\n",
        "clear_output()"
      ],
      "execution_count": 9,
      "outputs": []
    },
    {
      "cell_type": "code",
      "metadata": {
        "id": "lwNETD2Uk8nu",
        "cellView": "form",
        "outputId": "83b10ef4-bf4b-42e3-cd8b-9236f8b61578",
        "colab": {
          "base_uri": "https://localhost:8080/"
        }
      },
      "source": [
        "#@title Create the network\n",
        "#@markdown ...loading neural weights from the downloaded files. \n",
        "#@markdown\n",
        "#@markdown  > *This can take around 5 minutes.*\n",
        "total_batch = per_replica_batch * jax.device_count() // cores_per_replica\n",
        "\n",
        "network = CausalTransformer(params)\n",
        "\n",
        "network.state = read_ckpt(network.state, \"step_383500/\", devices.shape[1])\n",
        "\n",
        "network.state = network.move_xmap(network.state, np.zeros(cores_per_replica))"
      ],
      "execution_count": 12,
      "outputs": [
        {
          "output_type": "stream",
          "name": "stderr",
          "text": [
            "/usr/local/lib/python3.7/dist-packages/jax/experimental/maps.py:412: UserWarning: xmap is an experimental feature and probably has bugs!\n",
            "  warn(\"xmap is an experimental feature and probably has bugs!\")\n"
          ]
        },
        {
          "output_type": "stream",
          "name": "stdout",
          "text": [
            "key shape (8, 2)\n",
            "in shape (1, 2048)\n",
            "dp 1\n",
            "mp 8\n",
            "Total parameters: 6053381344\n",
            "read from disk/gcs in 54.1653s\n"
          ]
        }
      ]
    },
    {
      "cell_type": "markdown",
      "metadata": {
        "id": "A-eT7Sw6if4J"
      },
      "source": [
        "# Run Model\n",
        "\n",
        "Finally, we are ready to infer with the model! The first sample takes around a minute due to compilation, but after that it should only take about 10 seconds per sample.\n",
        "\n",
        "Feel free to mess with the different sampling parameters (top_p and temp), as well as the length of the generations (gen_len, causes a recompile when initially changed - recompiles will be cached).\n",
        "\n",
        "You can also change other things like per_replica_batch in the previous cells to change how many generations are done in parallel. A larger batch has higher latency but higher throughput when measured in tokens generated/s. This is useful for doing things like best-of-n cherry picking.\n",
        "\n",
        "*Tip for best results: Make sure your prompt does not have any trailing spaces, which tend to confuse the model due to the BPE tokenization used during training.*"
      ]
    },
    {
      "cell_type": "code",
      "metadata": {
        "id": "TuZq54dh8opl"
      },
      "source": [
        "#@markdown We allow for text wrapping of whitespace via css injection.\n",
        "\n",
        "# allow text wrapping in generated output: https://stackoverflow.com/a/61401455\n",
        "from IPython.display import HTML, display\n",
        "\n",
        "def set_css():\n",
        "  display(HTML('''\n",
        "  <style>\n",
        "    pre {\n",
        "        white-space: pre-wrap;\n",
        "    }\n",
        "  </style>\n",
        "  '''))\n",
        "get_ipython().events.register('pre_run_cell', set_css)"
      ],
      "execution_count": 13,
      "outputs": []
    },
    {
      "cell_type": "code",
      "metadata": {
        "id": "ZVzs2TYlvYeX",
        "cellView": "form",
        "outputId": "0ec7b0d6-2632-41db-9511-40ee576fd4fd",
        "colab": {
          "base_uri": "https://localhost:8080/",
          "height": 17
        }
      },
      "source": [
        "#@title Define our infer function. \n",
        "def infer(context, top_p=0.9, temp=1.0, gen_len=256):\n",
        "    tokens = tokenizer.encode(context)\n",
        "\n",
        "    provided_ctx = len(tokens)\n",
        "    pad_amount = seq - provided_ctx\n",
        "\n",
        "    padded_tokens = np.pad(tokens, ((pad_amount, 0),)).astype(np.uint32)\n",
        "    batched_tokens = np.array([padded_tokens] * total_batch)\n",
        "    length = np.ones(total_batch, dtype=np.uint32) * len(tokens)\n",
        "\n",
        "    start = time.time()\n",
        "    output = network.generate(batched_tokens, length, gen_len, {\"top_p\": np.ones(total_batch) * top_p, \"temp\": np.ones(total_batch) * temp})\n",
        "\n",
        "    samples = []\n",
        "    decoded_tokens = output[1][0]\n",
        "\n",
        "    for o in decoded_tokens[:, :, 0]:\n",
        "      samples.append(f\"\\033[1m{context}\\033[0m{tokenizer.decode(o)}\")\n",
        "\n",
        "    #print(f\"completion done in {time.time() - start:06}s\")\n",
        "    #this should instead be added to the object returned infered.samples and infered.completion_time\n",
        "    return samples\n",
        "\n",
        "\n"
      ],
      "execution_count": 15,
      "outputs": [
        {
          "output_type": "display_data",
          "data": {
            "text/html": [
              "\n",
              "  <style>\n",
              "    pre {\n",
              "        white-space: pre-wrap;\n",
              "    }\n",
              "  </style>\n",
              "  "
            ],
            "text/plain": [
              "<IPython.core.display.HTML object>"
            ]
          },
          "metadata": {}
        }
      ]
    },
    {
      "cell_type": "code",
      "metadata": {
        "id": "rjWw1zkEOP8z",
        "outputId": "dbf81cfd-37a5-4d45-d32f-2e5498dcb9fa",
        "colab": {
          "base_uri": "https://localhost:8080/",
          "height": 1000
        }
      },
      "source": [
        "#@title Warmup our inference engine \n",
        "#@markdown The first time that infrences are run for a given length takes imensly longer than on repeated runs. For this reason we spin up the inference engine with a few sample runs. With this out of the way we can quickly experiment with our infrence engine. \n",
        "\n",
        "context = \"\"\"\n",
        "# A NEW WAY TO WORK IN THE OLD PORT OF MONTREAL\n",
        "## SPACES CITÉ MULTIMÉDIA\n",
        "\n",
        "The Old Port of Montreal is a\"\"\"\n",
        "\n",
        "for i in [32,64,96,128,256,512,1024,2048]:\n",
        "  print(\"- - - - - - - - - - - - - - - - - - - - - - - - - - - - - - - - - - - - - - - - - - - - -\")\n",
        "  print(f\" ## Infering context with a gen_len of {i} this should take ~{i/24} sec. when run again ##\")\n",
        "  print(\"- - - - - - - - - - - - - - - - - - - - - - - - - - - - - - - - - - - - - - - - - - - - -\")\n",
        "  print(infer(context, gen_len=i)[0])"
      ],
      "execution_count": 60,
      "outputs": [
        {
          "output_type": "display_data",
          "data": {
            "text/html": [
              "\n",
              "  <style>\n",
              "    pre {\n",
              "        white-space: pre-wrap;\n",
              "    }\n",
              "  </style>\n",
              "  "
            ],
            "text/plain": [
              "<IPython.core.display.HTML object>"
            ]
          },
          "metadata": {}
        },
        {
          "output_type": "stream",
          "name": "stdout",
          "text": [
            "- - - - - - - - - - - - - - - - - - - - - - - - - - - - - - - - - - - - - - - - - - - - -\n",
            " ## Infering context with a gen_len of 32 this should take ~ 1.0 sec. when run again ##\n",
            "- - - - - - - - - - - - - - - - - - - - - - - - - - - - - - - - - - - - - - - - - - - - -\n",
            "\u001b[1m\n",
            "# A NEW WAY TO WORK IN THE OLD PORT OF MONTREAL\n",
            "## SPACES CITÉ MULTIMÉDIA\n",
            "\n",
            "The Old Port of Montreal is a\u001b[0m spectacular maze of streets, staircases, streets, stairs, cobblestones and numerous other footpaths and areas.\n",
            "\n",
            "Perhaps you're a thrill seeker\n",
            "- - - - - - - - - - - - - - - - - - - - - - - - - - - - - - - - - - - - - - - - - - - - -\n",
            " ## Infering context with a gen_len of 64 this should take ~ 2.0 sec. when run again ##\n",
            "- - - - - - - - - - - - - - - - - - - - - - - - - - - - - - - - - - - - - - - - - - - - -\n",
            "\u001b[1m\n",
            "# A NEW WAY TO WORK IN THE OLD PORT OF MONTREAL\n",
            "## SPACES CITÉ MULTIMÉDIA\n",
            "\n",
            "The Old Port of Montreal is a\u001b[0m melting pot of cultures. It's a place where the Franco-Ontarian soul of the city meets the Québécois spirit, a location that sometimes feels like Canada, sometimes like France, and often like nowhere at all.\n",
            "\n",
            "The Port is where, after the July 1, 1976, referendum, the\n",
            "- - - - - - - - - - - - - - - - - - - - - - - - - - - - - - - - - - - - - - - - - - - - -\n",
            " ## Infering context with a gen_len of 96 this should take ~ 3.0 sec. when run again ##\n",
            "- - - - - - - - - - - - - - - - - - - - - - - - - - - - - - - - - - - - - - - - - - - - -\n",
            "\u001b[1m\n",
            "# A NEW WAY TO WORK IN THE OLD PORT OF MONTREAL\n",
            "## SPACES CITÉ MULTIMÉDIA\n",
            "\n",
            "The Old Port of Montreal is a\u001b[0m physical and metaphorical site of integration, of cultural sharing and exchange. In its present-day incarnation, however, the Old Port's traditional _quartier moyen_, or \"average\" or \"middle\" district, which once fostered the relationships between urban and rural, has been displaced by two districts, distinct and separate, the city's two most dynamic areas: the Plateau-Mont-Royal and the arts, in particular the arts center of Montréal\n",
            "- - - - - - - - - - - - - - - - - - - - - - - - - - - - - - - - - - - - - - - - - - - - -\n",
            " ## Infering context with a gen_len of 128 this should take ~ 4.0 sec. when run again ##\n",
            "- - - - - - - - - - - - - - - - - - - - - - - - - - - - - - - - - - - - - - - - - - - - -\n",
            "\u001b[1m\n",
            "# A NEW WAY TO WORK IN THE OLD PORT OF MONTREAL\n",
            "## SPACES CITÉ MULTIMÉDIA\n",
            "\n",
            "The Old Port of Montreal is a\u001b[0m world-renowned centre of the cultural economy and its numerous attractions attract visitors from all over the world. It houses the headquarters of many international companies, including the Canadian and Quebec governments, and also contains a number of theatres and concert halls.\n",
            "\n",
            "A new role for the Old Port is now being created thanks to the agency SPACES CITÉ MULTIMÉDIA. Thanks to its projects, the development of new cultural and professional spaces in this unique urban district is a reality. These modern, state-of-the-art, innovative spaces will foster creativity and innovation and become a very active and effective civic centre\n",
            "- - - - - - - - - - - - - - - - - - - - - - - - - - - - - - - - - - - - - - - - - - - - -\n",
            " ## Infering context with a gen_len of 256 this should take ~ 8.0 sec. when run again ##\n",
            "- - - - - - - - - - - - - - - - - - - - - - - - - - - - - - - - - - - - - - - - - - - - -\n",
            "\u001b[1m\n",
            "# A NEW WAY TO WORK IN THE OLD PORT OF MONTREAL\n",
            "## SPACES CITÉ MULTIMÉDIA\n",
            "\n",
            "The Old Port of Montreal is a\u001b[0m dynamic urban network where social activity is close to people's homes and a pedestrian, urban design is required for a genuine, urban economy. The Old Port of Montreal presents Montreal's most creative transformation of urban space. The livability of Montreal's oldest neighbourhood creates a second city in the heart of the largest city in Canada.\n",
            "\n",
            "## LOCAL GOVERNMENT\n",
            "\n",
            "Community representation and local democracy has played an important role in the creation of the new area of Montreal called Montréal-Nord since 1978. Community participation in government is in the Old Port of Montreal and in the new waterfront of Montréal-Nord, notably through the Montréal-Nord Lighthouse District, which was awarded the Charter of Democracy.\n",
            "\n",
            "**SYNERGY**\n",
            "\n",
            "The new urban renewal project combines a vibrant neighbourhood with the emerging local economy.\n",
            "\n",
            "## ARTISTS AND CULTURAL ACTIVITIES\n",
            "\n",
            "The history of the Old Port of Montreal (OPM) has made it a fertile field for cultural expression. The OPM has provided a stimulating and varied cultural environment since the mid-nineteenth century. The development of public works along the island of Montreal after the municipal incorporation of the OPM in 1858 began a new era of\n",
            "- - - - - - - - - - - - - - - - - - - - - - - - - - - - - - - - - - - - - - - - - - - - -\n",
            " ## Infering context with a gen_len of 512 this should take ~ 16.0 sec. when run again ##\n",
            "- - - - - - - - - - - - - - - - - - - - - - - - - - - - - - - - - - - - - - - - - - - - -\n",
            "\u001b[1m\n",
            "# A NEW WAY TO WORK IN THE OLD PORT OF MONTREAL\n",
            "## SPACES CITÉ MULTIMÉDIA\n",
            "\n",
            "The Old Port of Montreal is a\u001b[0m relatively young metropolis and an exciting place to live and work. The view from the Grand-Saint-Louis Boulevard is fantastic – a long river view with the mountains in the background. To the right are the majestic Gatineau and Mount Royal. The view from the Hill where the _Prairies_ print works is awesome. To the left are the major attractions of the Old Port and beyond that the _banlieues_ of Saint-Léonard, Saint-Henri and downtown with the satellite tower of _Le Centre Bell_ on top. The skyline of Montreal boasts another building for the _Hotel Montreal,_ one of the world's tallest buildings.\n",
            "\n",
            "## FREIGHT PORTS AND THE PORTS OF TRADE\n",
            "\n",
            "The Port of Montreal is one of the world's busiest ports in terms of container traffic. There are some large container facilities located in the _banlieues_ of Dorval, Pierrefonds, Lachine, Beaconsfield, Saint-Léonard and Saint-Gabriel-de-Brandon, but for most freight shipments it is the port of Montreal, which is only 8 km from downtown. The Port of Montreal is an extremely busy container port and is today the central link in the intercontinental containerized freight traffic network. It is an important economic driver for Montreal.\n",
            "\n",
            "The harbour and its land is developed around a large bay called the Basse-Ville (the Lower Town). On the southern side of the bay are the new shipping yards of the Groupe M2 M/V (formerly known as the largest container port in the world until 2014). The old container port was on the western side of the bay, but has been redeveloped.\n",
            "\n",
            "In the east of the Basse-Ville, on the right bank of the Saint Lawrence River, is Pier 22, which is the site of the major financial institutions located in the \"financial district.\" This \"finance island\" comprises a global group of international banks and major financial institutions.\n",
            "\n",
            "On the left bank of the Saint Lawrence River, and some distance south of Pier 22, the bulk of Montreal's industry and labour force is located.\n",
            "\n",
            "_See_ <http://www.portsmartmontreal.com/en> for more information on the Port of Montreal.\n",
            "\n",
            "### WHAT'S THE SAME?\n",
            "\n",
            "Métro use in Montreal is extensive, with one of the lowest rates in North America. Many street and'subway' lines were\n",
            "- - - - - - - - - - - - - - - - - - - - - - - - - - - - - - - - - - - - - - - - - - - - -\n",
            " ## Infering context with a gen_len of 1024 this should take ~ 32.0 sec. when run again ##\n",
            "- - - - - - - - - - - - - - - - - - - - - - - - - - - - - - - - - - - - - - - - - - - - -\n",
            "\u001b[1m\n",
            "# A NEW WAY TO WORK IN THE OLD PORT OF MONTREAL\n",
            "## SPACES CITÉ MULTIMÉDIA\n",
            "\n",
            "The Old Port of Montreal is a\u001b[0m busy and dynamic neighbourhood with an international flavour. Montreal's longest thoroughfare, Notre-Dame Street, contains a wide range of businesses and cultural spaces, including six cinemas, three public libraries, and two popular concert venues, one being the world-famous Place des Festivals.\n",
            "\n",
            "A vibrant public transportation network links Montreal to its far-flung corners. The city's old railway terminal has been transformed into an affordable and appealing community hub, with new offices, restaurants, arts and cultural institutions, and the renowned home of Le Cirque du Soleil, a kind of theatre in the round. The boroughs of Old Montreal, St. Henri, and Villeray are increasingly popular dining, entertainment, and residential districts, with a large English community, in a city increasingly popular with expatriates and young people.\n",
            "\n",
            "Montreal's Old Port, once a busy seaport and known for its industrial glory, is now one of the city's busiest public spaces, where the bustle of the city meets the rich history and architectural landmarks of Canada's second largest city.\n",
            "\n",
            "### BOOK REVIEW\n",
            "\n",
            "FORWARD TO the past\n",
            "\n",
            "John Sandfield and Michael Barnes\n",
            "\n",
            "STOPWORDS\n",
            "\n",
            "\"In the past, the past has been my refuge, my resting place. But the past is no longer strong enough to hold me. I'm writing today because the world I lived in is disappearing. With the Internet, we're living in a hyperreal past. We have outrun the memories of the past. It's the nature of the world we live in now. It's the Internet that writes the history of the world. All the newspapers have been shut down. All of that will be lost as we enter into the future. It's already happening. They call it the Wild West of the Internet. Right now. This very minute. It's a world we're forgetting. Every second. Forgetting that we still live in a world. Everything that the past contained is gone. We're not reading history anymore. History is a virtual past, invented by the Internet. It's nothing.\"\n",
            "\n",
            "\n",
            "\n",
            "Leslie Kean\n",
            "\n",
            "WELCOME TO THE WORLD\n",
            "\n",
            "A PLACE\n",
            "\n",
            "By City of Montreal\n",
            "\n",
            "André Gagnon\n",
            "\n",
            "There's a whole group of anglo community centres and lunches on Rue Guérin-Létourneau. We're in the shadow of the library and there's the butter churn and a gentleman who was born here who lives here and he was toying with the idea of using a horse for his own kitchen.\n",
            "\n",
            "\n",
            "\n",
            "Leslie Kean\n",
            "\n",
            "ROUTE 5A:\n",
            "\n",
            "Seize the moment\n",
            "\n",
            "A NEW WORLD\n",
            "\n",
            "JACQUES LACOSTE\n",
            "\n",
            "Les Orateurs\n",
            "\n",
            "# ONE\n",
            "\n",
            "C'est à ce moment-là que je devrais commencer à raconter. Mais je n'ai pas le temps. L'histoire de ma vie est déjà résumée dans mon récit natal. Le ciel et la terre.\n",
            "\n",
            "Seize the moment. Seize the moment.\n",
            "\n",
            "Qui pourrait vivre ses jours sans seize moments? Mais, comme ceux qui passent sans cesse en vitesse, pour décrire des états d'esprit et des changements d'attitudes dans une dizaine de jours, ils ne se rendent pas compte que leur seule attitude, chaque état d'esprit, chaque changement d'attitudes, ne se présente que sur une seule sezion de la durée. Ils passent leur vie dans une tension permanente à la poursuite de seize ou dix seize événements séparés par des chutes de temps qui les séparent.\n",
            "\n",
            "À quoi ressemblent seize événements différents?\n",
            "\n",
            "Ils sont, si je puis dire, immanents. Plus que de seize événements différents, ils ont l'air de se ressembler : c'est la même clarté qui se dissipera et se transformera ensuite sous l'action de la même conscience...\n",
            "\n",
            "\n",
            "\n",
            "C'est ça. Seize.\n",
            "\n",
            "D'abord seize choses étrangères à notre vie ordinaire. Voir, par exemple, un seul arbre.\n",
            "\n",
            "Quand je serais arrivé au Canada il y a dix ans, j'aurais vu un seul arbre, un arbre au plus loin que je pense à ce jour, un arbre\n",
            "- - - - - - - - - - - - - - - - - - - - - - - - - - - - - - - - - - - - - - - - - - - - -\n",
            " ## Infering context with a gen_len of 2048 this should take ~ 64.0 sec. when run again ##\n",
            "- - - - - - - - - - - - - - - - - - - - - - - - - - - - - - - - - - - - - - - - - - - - -\n",
            "\u001b[1m\n",
            "# A NEW WAY TO WORK IN THE OLD PORT OF MONTREAL\n",
            "## SPACES CITÉ MULTIMÉDIA\n",
            "\n",
            "The Old Port of Montreal is a\u001b[0m good place to observe social issues – particularly the social and economic distance between the rich and the poor. People work in public spaces in strange ways, often without anyone else noticing. Is it possible to feel empathy for strangers who work for a living? Is it possible to share their experience without becoming emotionally overwhelmed by it? The spectator's sensitivity is subjected to a daily barrage of images and sounds. They have become objects in a dark theatrical game.\n",
            "\n",
            "Pierre Berton noted that \"these spaces, crammed with modern-day distractions, contribute to the psychic degradation of our civilization.\" (1) Perhaps one could say the same about this new economy of alienation that has evolved in the Old Port. Its \"dark theater\" is a space in which to develop strategies and programs to confront social problems in urban space and, for some, to confront a place in which the law was once nonexistent. The viewpoint of spectator is situated in the spatial margins of the city, while the workplace is conceived as a boundary to oneself. It is at these places that a conception of self emerges which is supported by the workings of alienation. In short, these are spaces in which one can observe the ego.\n",
            "\n",
            "I want to question the idea that \"alienation is the philosophical core of contemporary economic and social practices\" (2) and I want to demonstrate that the forces of alienation in society are already more deeply ingrained than one might think. This idea suggests that \"withdrawal\" (Ladurie's (3) phrase for escape from the city) is to be found in a period of \"panic\" after World War I and only continued to develop in the 1930s, when work became a way to create \"a'sense of self'\" (4). Today, with the advent of work in new ways (new businesses, new methods of management, globalization), it is again possible to speak of a culture of withdrawal. As one writer put it, \"a child of the '70s is a child of the '80s, who grew up with a sense of insecurity and a feeling of insecurity\" (5). But today the meaning of work is not merely the search for security. Rather, work is being transformed into a way to enrich one's self, and this transformation is reinforced by the current construction of \"new communities of leisure\" (6).\n",
            "\n",
            "In the Old Port, workplaces are sites for making work visible and for seeing how others work. Because the working world is both messy and invisible, it is part of a psychic economy which may be as dark as \"theater.\" These \"dark theaters\" are also spaces of \"formless\" activity. They are spatial containers which offer a reflective, self-sufficient space for observing work and for working in a new way.\n",
            "\n",
            "## A NEW WAY TO BE A SPATIAL WORKER\n",
            "\n",
            "If you approach one of the spaces of the Old Port, you'll see everything but you won't see yourself. The space in which we work and play is already framed by visual and audio distractions (spotlights, mirrors, images on display) in a way that obscures this dynamic process of perception. Our everyday perceptions of work involve the transformation of those things that occur spontaneously in our space into images and words. As the space is transformed, new technologies mediate reality. We are governed by a culture that demands and receives ever more information in order to have its work done. Because our selves are tied up with this work (in the same way as time was once tied up with the material world) it is impossible to believe that these activities are going on independently of ourselves. We cannot know or feel what others feel; our own feelings and emotions are what they are because they are engaged by these things.\n",
            "\n",
            "It is difficult to grasp the fact that our ordinary work is, in essence, imaginative and in the doing of that work we act as if our work were art. But, because this \"work\" is not included in our daily realities, it is \"invisible\" to most of us. Our work is invisible because we are involved in our own image (that is, the unique construction of our selves) and do not see ourselves as those who work. Moreover, \"if people don't believe they're working, they don't have to (7).\" These two statements are important. As we become convinced of the fact that we are workers, that is, we act as if we were, we cease to believe that we are.\n",
            "\n",
            "When we want to work as a social animal, we become so firmly rooted in our places as beings who work that we forget that we are not solely ourselves. It is easy to forget this when we are in the midst of it and we are the only ones who work. This activity is, quite literally, a way of becoming an object and, as such, it is alienating. We live in a culture that places a high value on the individual and, because we can never see ourselves as having been totally constructed by our activities, this construction is represented as something permanent and final. It is as if we were aware of the fact that our work is the \"stuff\" we are made of but the fact that we make it up creates a continuity between ourselves and the events we generate that is not unlike a human being's consciousness of its body.\n",
            "\n",
            "I would like to illustrate the fact that this process of transformation is even more pronounced for some \"work places.\" One of them is a place of primary production: the maquette factory. This is a work place in which an automatic machinist uses an intricate metal piece that resembles a bowl to fashion a giant container. The final result is a solid, imminently useful object. But this manufacturing process is one of the sites of human activity that are hidden from view (they are \"natural\" places of work); if we look at them, we are suddenly faced with the possibility of a view of self. We are taken to the place where our perception is transformed. We are moved from the things we have to the world in which we are. One can observe this transformation at work in the process of making a maquette. At first, the automatic machine is controlled by a complex series of switches and an operator changes these switches while maintaining a neutral distance. Next, the machine operator and machinist have to work together, helping each other, and the machine is changed, even though it does not actually \"change.\" The maquette is something which is made through an interplay between the machine and the operator, and this activity of making creates the existence of an object which is in itself open to our gaze. I wish to emphasize that it is only when we stop working that the object is \"made.\" Before the process of making begins, we are connected to a source of energies that we are unable to describe. The object that has just appeared to us (the one which only exists through a series of operations) is obviously an image of our world; it is an image we have created and it is, at the same time, a window onto the world. It is in this way that the solidity of the object we have made acquires its characteristic openness. The result is that, when we work, our sense of self is re-created.\n",
            "\n",
            "## SEVERAL POSITIONS ON THE SCALE OF LIFE\n",
            "\n",
            "Let's take this idea one step further and consider the fact that the maquette is also a piece of art. The maquette is a creation, a work of art. Yet it is also a construct made of metal, made of man. This is why it has its own coherence and internal logic, that is, it has an internal consistency. This object represents the past and the future. If we think about the process of manufacturing, we will see that the whole thing is unpredictable. We could situate this place of work at the center of all the activity that takes place in the Old Port and we could say, \"This is what artists do.\" But I would like to see this concept of \"work as art\" move into other areas of the city. I would like to understand how this work is represented and represented for a world in which there is an apparent need to fill time with something.\n",
            "\n",
            "For example, a view of the world could be developed from a perspective of a mundane \"consumer.\" If we look at what happens in one particular place in the Old Port, we will see that it is important for this work to be shown. At any moment, a number of employees take different jobs at the space of the workshop and they are there at different times. They seem to be following different schedules. On some days, you will see a supervisor and a worker making something together; on other days, you may see only one person. The situation creates the appearance that it is only one of those people who is working. By the same token, one might well wonder what is happening to those who appear to be idle. Indeed, when one views the place as a consumer, one might even wonder who owns it.\n",
            "\n",
            "If the workshop is considered as an \"alienation factory,\" as a space in which we become enclosed, working hard to save what we have accumulated (2), it could also be considered as an extension of our private space. (8) Because the \"work\" is there, we have something to see and be afraid of. By observing it from a distance, we might watch our reflection in its mirror and see what we have created. This space could be one of the spaces where we are involved in a process of self-reflection. The distance between the observer and the observed seems to be missing here. But, in this case, because the observer is a \"being\" who is not the object, but the creator of the object, the observer and the observed are involved in a different way. I have been drawn into the secret world that I have created.\n",
            "\n",
            "Today, we have become \"objects\" and the spaces in which we work are very often of interest\n"
          ]
        }
      ]
    },
    {
      "cell_type": "markdown",
      "metadata": {
        "id": "mO89-sKMrucR"
      },
      "source": [
        "# Example prompts\n",
        "\n",
        "We've compiled the model. At this point it should only take about 15 seconds per sample. The first time you run inference on a new dataset takes longer than usual because of compilation to build the graph and write data into disk buffers for fast access by CPUs/GPUs.\n",
        "\n",
        "The following parameters can be adjusted: top_p, temp, gen_len. When changing the length of generations (gen_len), recompilation is required to maintain accuracy and consistency in results.\n",
        "\n",
        "You can also change other things like the number of generations done in parallel and how many samples are generated. In addition, you can increase or decrease the batch size for latency/throughput tradeoffs as well. This is useful when performing best-of-n cherry picking tasks where throughput needs to be maximized with minimum batch time delay on each sample generation process.\n",
        "\n",
        "To get the best results, make sure your prompt does not have any trailing spaces. This is because BPE tokenization can be confused by them."
      ]
    },
    {
      "cell_type": "markdown",
      "metadata": {
        "id": "g-ViSfFkOUbS"
      },
      "source": [
        "## Simple Inference "
      ]
    },
    {
      "cell_type": "markdown",
      "metadata": {
        "id": "EStwU8WqXnBD"
      },
      "source": [
        "### Set Sampling Parameters\n"
      ]
    },
    {
      "cell_type": "code",
      "metadata": {
        "id": "akM-tZFTXnBE",
        "cellView": "form",
        "outputId": "9636482b-f748-48a0-cf5a-3e08b990fc74",
        "colab": {
          "base_uri": "https://localhost:8080/",
          "height": 17
        }
      },
      "source": [
        "#@markdown ### Leave this alone unless you know what you are doing! \n",
        "#@markdown ... or you are just having fun experimenting and don't mind having weird results.\n",
        "#@markdown - - - - - - - - - - - - - - - - - - - - - - - - - - - - - - - - - - - - - - - - - - - - - - - - - - - - - \n",
        "#@markdown Top_p controls diversity/quality. The higher our top_p the more rich and nuanced oir inferences can be.\n",
        "top_p = 0.9 #@param {type:\"slider\", min:0, max:1, step:0.1}\n",
        "#@markdown - - - \n",
        "#@markdown Temp controls randomnes. Low temps make for mechanical inferences.\n",
        "temp = 0.9 #@param {type:\"slider\", min:0, max:1, step:0.1}\n",
        "#@markdown - - - \n",
        "#@markdown Gen_len adjects the length of text infered.\n",
        "#@markdown Specifcily it adustes the nember of tokens (~4 per engish word).\n",
        "#@markdown\n",
        "#@markdown *Note: Changing gen_len will cause long wait times when first setting lengs that have not been set before.*\n",
        "#@markdown  \n",
        "gen_len = 64 #@param {type: \"slider\", min:64, max: 1024, step: 64}\n",
        "#@markdown - - - \n",
        "#@markdown Generate controls the number of inferences that will be generated.\n",
        "generate = 1 #@param {type: \"slider\", min:1, max: 12, step: 1}\n"
      ],
      "execution_count": 20,
      "outputs": [
        {
          "output_type": "display_data",
          "data": {
            "text/html": [
              "\n",
              "  <style>\n",
              "    pre {\n",
              "        white-space: pre-wrap;\n",
              "    }\n",
              "  </style>\n",
              "  "
            ],
            "text/plain": [
              "<IPython.core.display.HTML object>"
            ]
          },
          "metadata": {}
        }
      ]
    },
    {
      "cell_type": "markdown",
      "metadata": {
        "id": "0wUL-ryfYueS"
      },
      "source": [
        "### Text examples"
      ]
    },
    {
      "cell_type": "code",
      "metadata": {
        "id": "nvlAK6RbCJYg",
        "cellView": "form",
        "outputId": "4af599e2-4a04-41c4-cb6b-3dce9f450ef4",
        "colab": {
          "base_uri": "https://localhost:8080/",
          "height": 306
        }
      },
      "source": [
        "#@title Raw Context \n",
        "#@markdown This is an example of simple summery infrence.\n",
        "\n",
        "#print(\"Enter/Paste your content. Ctrl-D or Ctrl-Z ( windows ) to save it.\")\n",
        "#context = []\n",
        "#while True:\n",
        "#    try:\n",
        "#        line = input()\n",
        "#    except EOFError:\n",
        "#        break\n",
        "#    context.append(line)\n",
        "\n",
        "context = \"\"\"\"\n",
        "\n",
        "Article:\n",
        "\n",
        "t’s an intense crypto dogfight as dogecoin (DOGE) and shiba inu (SHIB), two of the most popular meme coins, battle it out for the ninth spot on the list of top digital assets by market capitalization. Some traders are profiting from the action by taking spread trades.\n",
        "\n",
        "DOGE has come alive after lagging SHIB by a significant margin earlier this month. The joke cryptocurrency surged to $0.335 on Coinbase on Thursday, hitting the highest level since Aug. 20. It was last trading near $0.30, representing a 22% gain on the day.\n",
        "\n",
        "Meanwhile, SHIB crashed as much as 30% to $0.00006 earlier today, having chalked out a rally to $0.00009 in the seven days to Oct. 27.\n",
        "\n",
        "Summery:\"\"\"\n",
        "\n",
        "print(infer(top_p=top_p, temp=1, gen_len=96, context=context)[0])"
      ],
      "execution_count": 21,
      "outputs": [
        {
          "output_type": "display_data",
          "data": {
            "text/html": [
              "\n",
              "  <style>\n",
              "    pre {\n",
              "        white-space: pre-wrap;\n",
              "    }\n",
              "  </style>\n",
              "  "
            ],
            "text/plain": [
              "<IPython.core.display.HTML object>"
            ]
          },
          "metadata": {}
        },
        {
          "output_type": "stream",
          "name": "stdout",
          "text": [
            "\u001b[1m\"\n",
            "\n",
            "Article:\n",
            "\n",
            "t’s an intense crypto dogfight as dogecoin (DOGE) and shiba inu (SHIB), two of the most popular meme coins, battle it out for the ninth spot on the list of top digital assets by market capitalization. Some traders are profiting from the action by taking spread trades.\n",
            "\n",
            "DOGE has come alive after lagging SHIB by a significant margin earlier this month. The joke cryptocurrency surged to $0.335 on Coinbase on Thursday, hitting the highest level since Aug. 20. It was last trading near $0.30, representing a 22% gain on the day.\n",
            "\n",
            "Meanwhile, SHIB crashed as much as 30% to $0.00006 earlier today, having chalked out a rally to $0.00009 in the seven days to Oct. 27.\n",
            "\n",
            "Summery:\u001b[0m Some SHIB investors took spread trades with BTC and USDT earlier today, but the resulting damage inflicted on the altcoin reduced it to its lowest level in months. The earlier US dollar price trend reversal is driving more speculative traders into the dogecoin (DOGE) market.\n",
            "\n",
            "As a reminder, dogecoin (DOGE) is up 24.59% in the last 24 hours according to data from CoinMarketCap, which makes it the most-\n"
          ]
        }
      ]
    },
    {
      "cell_type": "code",
      "metadata": {
        "id": "g2omRWxDivro",
        "cellView": "form",
        "outputId": "44fc2d5e-34b6-4833-c42d-32441fe64159",
        "colab": {
          "base_uri": "https://localhost:8080/",
          "height": 17
        }
      },
      "source": [
        "#@title Expand into a script \n",
        "#@markdown The will expand a lead into a script bassed on the opening of pulp fiction.\n",
        "write_script_on_this = \"Feline biology is amazing\" #@param {type:\"string\"}\n",
        "\n",
        "#@markdown - - - - - - - - - - - - - - - - - - - - - - - - -\n",
        "#@markdown These options don't need to be adjusted.\n",
        "top_p = 0.9 #@ param {type:\"slider\", min:0, max:1, step:0.1}\n",
        "temp = 0.9 #@ param {type:\"slider\", min:0, max:1, step:0.1}\n",
        "gen_len = 512 #@param {type: \"slider\", min:64, max: 2048, step: 64}\n",
        "generate = 1 #@ param {type: \"slider\", min:1, max: 12, step: 1}\n",
        "#@markdown - - - - - - - - - - - - - - - - - - - - - - - - -\n",
        "\n",
        "\n",
        "context = \"\"\"\n",
        "\n",
        "INT. COMPUTER LAB – MORNING\n",
        "\n",
        "A normal computer lab, an office or university, Toronto Canada.\n",
        "It's about 9:00 in the morning. While the place isn't jammed,\n",
        "there's a healthy number of people working, drinking coffee, \n",
        "reading at their computers.\n",
        "\n",
        "Two of these people are a YOUNG MAN and a YOUNG WOMAN. The\n",
        "Young Man has a slight working-class English accent.\n",
        "\n",
        "             YOUNG MAN\n",
        "  I want to tell you about what we've been studying.\n",
        "\n",
        "             YOUNG WOMAN\n",
        "  Oh? What have you been focusing on? \n",
        "\n",
        "             YOUNG MAN\n",
        "  {expand_this}. For example\"\"\"\n",
        "\n",
        "\n",
        "for x in range(generate):\n",
        "  try:\n",
        "    print(infer(top_p=top_p, \n",
        "                temp=temp, \n",
        "                gen_len=gen_len, \n",
        "                context=context.format(expand_this = expand_this))[0])\n",
        "  except:\n",
        "    pass"
      ],
      "execution_count": 22,
      "outputs": [
        {
          "output_type": "display_data",
          "data": {
            "text/html": [
              "\n",
              "  <style>\n",
              "    pre {\n",
              "        white-space: pre-wrap;\n",
              "    }\n",
              "  </style>\n",
              "  "
            ],
            "text/plain": [
              "<IPython.core.display.HTML object>"
            ]
          },
          "metadata": {}
        }
      ]
    },
    {
      "cell_type": "code",
      "metadata": {
        "id": "eN8f4mvA97nG",
        "cellView": "form",
        "outputId": "0d26efab-6419-4c2a-b6fb-9c9db2c5a69d",
        "colab": {
          "base_uri": "https://localhost:8080/",
          "height": 272
        }
      },
      "source": [
        "#@title Make a title sound more academic \n",
        "#@markdown  \n",
        "improve_this = \"we're going ti make an instrument using the potentiometer \" #@param {type:\"string\"}\n",
        "#@markdown - - -\n",
        "top_p = 0.9 #@ param {type:\"slider\", min:0, max:1, step:0.1}\n",
        "temp = 0.9 #@ param {type:\"slider\", min:0, max:1, step:0.1}\n",
        "gen_len = 64 #@ param {type: \"slider\", min:64, max: 2048, step: 64}\n",
        "generate = 12 # @ param {type: \"slider\", min:1, max: 12, step: 1}\n",
        "\n",
        "context = \"\"\"\n",
        "Instead of saying, \"{improve_this}\" a better shibboleth would be, \\\"\"\"\"\n",
        "\n",
        "#Indie Hackers want to click on titles such as \n",
        "#use something with more punch\n",
        "\n",
        "for x in range(generate):\n",
        "  try:\n",
        "    print(infer(top_p=top_p, \n",
        "                temp=temp, \n",
        "                gen_len=gen_len, \n",
        "                context=context.format(improve_this = improve_this))[0].split('\"')[3])\n",
        "  except:\n",
        "    pass"
      ],
      "execution_count": 23,
      "outputs": [
        {
          "output_type": "display_data",
          "data": {
            "text/html": [
              "\n",
              "  <style>\n",
              "    pre {\n",
              "        white-space: pre-wrap;\n",
              "    }\n",
              "  </style>\n",
              "  "
            ],
            "text/plain": [
              "<IPython.core.display.HTML object>"
            ]
          },
          "metadata": {}
        },
        {
          "output_type": "stream",
          "name": "stdout",
          "text": [
            "\u001b[0mwhy not do this?\n",
            "\u001b[0mwe're going to go over the list of possible ways to make a musical instrument, and then decide which one is most interesting. So here's the list:\n",
            "\n",
            "A. The sound of the violin is basically a string vibrating inside a resonant box. Our instrument is going to be a box with a string\n",
            "\u001b[0mwe're going ti make an instrument using *the* potentiometer.\n",
            "\u001b[0mWe are going to make a device that will make it possible for me to start to play the (wooden) instrument.\n",
            "\u001b[0mWe're going to explore the potentiometer.\n",
            "\u001b[0mwe're going to make an electronic sensor instrument\n",
            "\u001b[0mwe're going to make an instrument that plays notes\n",
            "\u001b[0mwe're going to use an instrument that contains a potentiometer\n",
            "\u001b[0mwe're going to measure the resistance between this point and the ground\n",
            "\u001b[0mWe're going to make a potentiometer out of wood\n",
            "\u001b[0mI'm going to make an instrument using the potentiometer.\n",
            "\u001b[0mwe're going ti make a guitar\n"
          ]
        }
      ]
    },
    {
      "cell_type": "code",
      "metadata": {
        "id": "JrfIoe5BFaNq",
        "outputId": "0ad5929b-e403-421d-dc0b-5c97fc7560e5",
        "colab": {
          "base_uri": "https://localhost:8080/",
          "height": 34
        }
      },
      "source": [
        "str_list = [None, '', 0, \"Hi\", ' ', \"Hello\"]\n",
        "[x for x in str_list if x != '']\n",
        "[None, 0, \"Hi\", \"Hello\"]"
      ],
      "execution_count": 24,
      "outputs": [
        {
          "output_type": "display_data",
          "data": {
            "text/html": [
              "\n",
              "  <style>\n",
              "    pre {\n",
              "        white-space: pre-wrap;\n",
              "    }\n",
              "  </style>\n",
              "  "
            ],
            "text/plain": [
              "<IPython.core.display.HTML object>"
            ]
          },
          "metadata": {}
        },
        {
          "output_type": "execute_result",
          "data": {
            "text/plain": [
              "[None, 0, 'Hi', 'Hello']"
            ]
          },
          "metadata": {},
          "execution_count": 24
        }
      ]
    },
    {
      "cell_type": "code",
      "metadata": {
        "id": "Vf63EvRmipH2",
        "outputId": "da278974-22cc-4ed2-c376-74458534f0b5",
        "colab": {
          "base_uri": "https://localhost:8080/",
          "height": 119
        }
      },
      "source": [
        "#@title Give headlines some more Clickbait \n",
        "improve_this = \"Make an instrument using the a light sensor \" #@param {type:\"string\"}\n",
        "#@markdown - - - - - - - - - - - - - - - - - - - - - - - - \n",
        "top_p = 0.9 #@ param {type:\"slider\", min:0, max:1, step:0.1}\n",
        "temp = 1 #@ param {type:\"slider\", min:0, max:1, step:0.1}\n",
        "gen_len = 64 # @ param {type: \"slider\", min:64, max: 2048, step: 64}\n",
        "generate = 5 #@ param {type: \"slider\", min:1, max: 12, step: 1}\n",
        "\n",
        "context = f\"\"\"\n",
        "You need to make your title more clickbate. So instead of,\n",
        "\"{improve_this}\" use something with more punch such as,\\\"\"\"\"\n",
        "\n",
        "import codecs\n",
        "\n",
        "def yield_quoted_text(top_p=top_p, \n",
        "                       temp=temp, \n",
        "                       gen_len=gen_len, \n",
        "                       context=context):\n",
        "  while True:\n",
        "    inference = infer(top_p=top_p, \n",
        "                       temp=temp, \n",
        "                       gen_len=gen_len, \n",
        "                       context=context)[0].split('\"')[3].strip()\n",
        "    inference = repr(inference).split('\\\\x1b[0m')\n",
        "    inference = inference[1]\n",
        "    if inference !=\"'\":\n",
        "      yield inference\n",
        "\n",
        "#for x in range(generate):\n",
        "#    while not got_a_headline:\n",
        "for x in range(generate):\n",
        "  headline = next(yield_quoted_text())\n",
        "  print(headline)\n"
      ],
      "execution_count": null,
      "outputs": [
        {
          "output_type": "display_data",
          "data": {
            "text/html": [
              "\n",
              "  <style>\n",
              "    pre {\n",
              "        white-space: pre-wrap;\n",
              "    }\n",
              "  </style>\n",
              "  "
            ],
            "text/plain": [
              "<IPython.core.display.HTML object>"
            ]
          },
          "metadata": {}
        },
        {
          "output_type": "stream",
          "name": "stdout",
          "text": [
            "\\nTurn your mobile into an instrument, that's basically what is a light sensor. I recommend replacing it.\\nAn example of the new title is,\"\n",
            " this will allow you to hack into any IPhone at any time to control anything it does, including draining your battery.'\n",
            "Your Digital Instrument, based on a Light Sensor.'\n",
            " Make an instrument that creates a beat.\\n\\nI would try to focus on making the title less broad and not so clickbate,\\n\\nYou need to make your title more clickbate. So instead of,'\n"
          ]
        }
      ]
    },
    {
      "cell_type": "code",
      "metadata": {
        "id": "rCjGKMEJlDjJ",
        "outputId": "ebb71b64-a6c6-4dc2-dbf8-a5b518f0d0f3",
        "colab": {
          "base_uri": "https://localhost:8080/",
          "height": 1000
        }
      },
      "source": [
        "# @ title Generating inference prompts using tracery\n",
        "import tracery\n",
        "from tracery.modifiers import base_english\n",
        "\n",
        "rules = {\n",
        "    \n",
        "    'origin': 'It was a #type_of_day# #time# in #location# and',\n",
        "    'time': ['night', 'day', 'week', 'year'],\n",
        "    'type_of_day': ['amazing', 'spectaculare' , 'horid', 'spooky' ],\n",
        "    'location': ['Montreal', 'the woods', 'my head']\n",
        "}\n",
        "\n",
        "grammar = tracery.Grammar(rules)\n",
        "grammar.add_modifiers(base_english)\n",
        "\n",
        "for x in range(generate):\n",
        "  try:\n",
        "    print(infer(top_p=top_p, \n",
        "                temp=temp, \n",
        "                gen_len=gen_len, \n",
        "                context=grammar.flatten(\"#origin#\"))[0] + \"\\n\")\n",
        "  except:\n",
        "    pass"
      ],
      "execution_count": 26,
      "outputs": [
        {
          "output_type": "display_data",
          "data": {
            "text/html": [
              "\n",
              "  <style>\n",
              "    pre {\n",
              "        white-space: pre-wrap;\n",
              "    }\n",
              "  </style>\n",
              "  "
            ],
            "text/plain": [
              "<IPython.core.display.HTML object>"
            ]
          },
          "metadata": {}
        },
        {
          "output_type": "stream",
          "name": "stdout",
          "text": [
            "\u001b[1mIt was a spectaculare week in my head and\u001b[0m with 2 love, we went to this family -great- occasion. After the service my wife and I took a drive and pointed her in to John & Tammy's {young couple} house and to the bride's grandparents- also a couple in the crowd.\n",
            "\n",
            "We'll call them Ed and Della. I\n",
            "\n",
            "\u001b[1mIt was a amazing year in my head and\u001b[0m a fairly good year in the grand scheme of things as we win everything and everyone says I am really good at it, well I guess I just have to take my hat off to my team mates and supporters. We have got through three trials with us who have had their shots. On the second day we had a good\n",
            "\n",
            "\u001b[1mIt was a horid night in the woods and\u001b[0m it was raining. I was sitting outside in my rv with my dog and a cat. It was so quiet and yet it was absolutely deafening. The woods were dark and something was up with them.\n",
            "\n",
            "When I went outside I could smell blood. I thought it was a cat, but it was not\n",
            "\n",
            "\u001b[1mIt was a spectaculare night in Montreal and\u001b[0m an even bigger one in Vancouver. The combination of violence and hockey left two fans dead and a third needing medical treatment and a game was called off and moved to another city the following morning. Not surprisingly, for this was the second time in a week that a Canucks-Habs game had been suspended due to the fact\n",
            "\n",
            "\u001b[1mIt was a amazing year in my head and\u001b[0m then a rush of development which found me missing the moment to process things. All I could do was write and run which made things a lot of fun, but writing is nothing when you’re running for a couple months straight and have no time to think about yourself.\n",
            "\n",
            "Anyhow, I’m\n",
            "\n",
            "\u001b[1mIt was a horid year in Montreal and\u001b[0m things only got worse in the remaining three quarters. First things first, let’s take a look at the Cap Centre capers.\n",
            "\n",
            "Eric Dubno, goalie for the Cape Breton Screaming Eagles, drove from Sydney, Nova Scotia to Montreal, Quebec in order to attend the game.\n",
            "\n",
            "Aside\n",
            "\n",
            "\u001b[1mIt was a horid day in Montreal and\u001b[0m their was hardly any people in the shopping mall. And not just people, I mean MANY MANY PEOPLE. I was surrounded by a small crowd, women and men of all ages, each with their own face painted, hair dyed, and dressing differently than I would have ever thought. Yet I saw no hostility,\n",
            "\n",
            "\u001b[1mIt was a spooky year in the woods and\u001b[0m these photographs are some of the most evocative I’ve seen.\n",
            "\n",
            "Good things have come out of 2018: the Day of the Dead festival, the return of Grow Farm Festival, the release of her poignant new album, the closing of Phasing Gates, and, most of all, her health in finally\n",
            "\n",
            "\u001b[1mIt was a spooky night in my head and\u001b[0m I felt bad.\n",
            "\n",
            "I wanted to believe that it was all just a dream, but this feeling of inevitability was stronger than my common sense.\n",
            "\n",
            "Why couldn't I just forget it and be normal again?\n",
            "\n",
            "The room was pitch-black and my thoughts about whatever it was I was missing were\n",
            "\n",
            "\u001b[1mIt was a horid week in my head and\u001b[0m I thought I would share it.\n",
            "\n",
            "Let’s start off with some old pics of the Mark I. The Mark I I have now is my third. I built the first one after buying my first laser while in high school and it didn’t work out the way I had hoped. I bought\n",
            "\n",
            "\u001b[1mIt was a spectaculare day in the woods and\u001b[0m in my neighbourhood with the release of the brand new BMW X5: A new twin-turbo 4.4 litre V8 diesel with 425hp which surpasses the BMW 335i and comes with the same MSRP at $52,200. What makes it even more spectacular is that it gets 60mpg\n",
            "\n",
            "\u001b[1mIt was a spectaculare year in Montreal and\u001b[0m Quebec. In September, Mario Lemieux scored the first of his 51 regular season and playoff goals as a member of the Pittsburgh Penguins. He and the Penguins stormed to the Stanley Cup Finals and, in doing so, his father’s name was added to the Stanley Cup. Wayne Gretzky (already\n",
            "\n"
          ]
        }
      ]
    },
    {
      "cell_type": "code",
      "metadata": {
        "id": "nvek96CyOnOh",
        "outputId": "732ad59f-a311-4d77-e167-11a3fce2418c",
        "colab": {
          "base_uri": "https://localhost:8080/",
          "height": 1000
        }
      },
      "source": [
        "# @ title Generating inference prompts using tracery\n",
        "import tracery\n",
        "from tracery.modifiers import base_english\n",
        "\n",
        "rules = {\n",
        "    \n",
        "    'origin': 'Our team builds #imagine# new online #location# beyond',\n",
        "    'imagine': ['amazing', 'spectaculare' , 'bold', ],\n",
        "    'location': ['worlds', 'spaces', 'colabortion']\n",
        "}\n",
        "\n",
        "grammar = tracery.Grammar(rules)\n",
        "grammar.add_modifiers(base_english)\n",
        "\n",
        "for x in range(generate):\n",
        "  try:\n",
        "    print(infer(top_p=top_p, \n",
        "                temp=temp, \n",
        "                gen_len=gen_len, \n",
        "                context=grammar.flatten(\"#origin#\"))[0] + \"\\n\")\n",
        "  except:\n",
        "    pass"
      ],
      "execution_count": 27,
      "outputs": [
        {
          "output_type": "display_data",
          "data": {
            "text/html": [
              "\n",
              "  <style>\n",
              "    pre {\n",
              "        white-space: pre-wrap;\n",
              "    }\n",
              "  </style>\n",
              "  "
            ],
            "text/plain": [
              "<IPython.core.display.HTML object>"
            ]
          },
          "metadata": {}
        },
        {
          "output_type": "stream",
          "name": "stdout",
          "text": [
            "\u001b[1mOur team builds bold new online worlds beyond\u001b[0m VR, OMSI-PhD is building their 3D, real-time software development environment to support the entire research pipeline of immersive media creation and analysis. Building upon the Unity engine, Phoronics software developers have an easy to use, powerful and completely multi-platform framework to build their innovative, game-\n",
            "\n",
            "\u001b[1mOur team builds spectaculare new online colabortion beyond\u001b[0m it over the times. Depression was prescribed which will not help thourough application or website hair.\n",
            "\n",
            "It is about essential to know the effet benefit of using ayurvedic sex. Rarely i look forward to research the various problems of get “what about my nerves when taking while on cip\n",
            "\n",
            "\u001b[1mOur team builds amazing new online colabortion beyond\u001b[0m. I love the design but how do I make this my new fav??? I saw a new news but can't find any info, I am a featured project on Asap SC's site.\n",
            "\n",
            "1. Make sure that you have a strong password on your computer. Lock down the passwords for your browser and any\n",
            "\n",
            "\u001b[1mOur team builds bold new online spaces beyond\u001b[0m Hollywood's border.\n",
            "We're creators, pioneers, and inventors.\n",
            "We're Black Hawk Films.\n",
            "\n",
            "Sunday, April 7, 2011\n",
            "\n",
            "\"The Political Information System\" - Oscar Views Film Review & Analysis\n",
            "\n",
            "“…explains how the independent business itself is becoming the medium of political control\n",
            "\n",
            "\u001b[1mOur team builds spectaculare new online colabortion beyond\u001b[0m mire and how current human individuals and therapeutic drugs did protected to help them. Sea ram semen the same early experiment in which you can miss is a other uterine in which it is mainly pharmaceutical to explain the uterus of a pregnant account.\n",
            "\n",
            "Deep cause is typically any syringe of subdose at a disease-\n",
            "\n",
            "\u001b[1mOur team builds spectaculare new online spaces beyond\u001b[0m the real estate portals and its forte is in helping you raise the highest returns.\n",
            "\n",
            "Dubai is blessed with some of the best sea-views in the world and villas are really not a bad deal when viewed from afar and these homes need not be restricted to one’s self or family.\n",
            "\n",
            "\n",
            "\u001b[1mOur team builds amazing new online colabortion beyond\u001b[0m its so affordable that to get abortion at a clinic.\n",
            "\n",
            "Most medical abortion pills are at over £30, with many costing over £40. This makes it so much easier for a normal, working mum to get to one and collect the pill at her own time.\n",
            "\n",
            "When you use our pills, you\n",
            "\n",
            "\u001b[1mOur team builds bold new online worlds beyond\u001b[0m the safety of our home monitors, and yet we’re still tied to a device we can’t bring with us anywhere, and that even if we have Wi-Fi will be a decade or more out of date by the time we visit a mall. We sometimes joke about ‘digital nomads�\n",
            "\n",
            "\u001b[1mOur team builds amazing new online colabortion beyond\u001b[0m the SoarShip.\n",
            "We are also based in the SoarShip.\n",
            "\n",
            "Tuesday, 9 October 2014\n",
            "\n",
            "Building an Online Colabortion Service\n",
            "\n",
            "The New Colabortion Procedure\n",
            "\n",
            "The changes will be in place on 6th October and will come into effect on that date. This means that we will\n",
            "\n",
            "\u001b[1mOur team builds spectaculare new online worlds beyond\u001b[0m the MUD. But what if they could be harnessed in gameplay too?\n",
            "\n",
            "LambdaMOO was a roleplaying software that spanned online over 22 years. Its creator Kim Moore wanted to use his creation to explore and experience new mediums of play outside of text based roleplay.\n",
            "\n",
            "We\n",
            "\n",
            "\u001b[1mOur team builds bold new online colabortion beyond\u001b[0m border strategy, one chapter at a time. We can all make a difference by sharing this content.\n",
            "\n",
            "How I use doTERRA Essential Oils! (Posted April 2016)\n",
            "\n",
            "Disclaimer: I do not receive any type of compensation, referral bonuses or anything else for talking about any doTERRA products.\n",
            "\n",
            "\u001b[1mOur team builds spectaculare new online worlds beyond\u001b[0m Minecraft. We have 3 years experience and is on top of it and we look for motivated individuals. Not only do you have to be an expert but you also need to understand the culture of Minecraft.\n",
            "\n",
            "Help us out and build the future of web games today with us\n",
            "\n",
            "Your application:\n",
            "\n",
            "We are\n",
            "\n"
          ]
        }
      ]
    },
    {
      "cell_type": "code",
      "metadata": {
        "id": "W5cJmv5ALxaM",
        "cellView": "form",
        "outputId": "c1aaa09f-e371-4b04-8d13-02fa26037581",
        "colab": {
          "base_uri": "https://localhost:8080/",
          "height": 1000
        }
      },
      "source": [
        "#@title Generating grading comment inference prompts using tracery\n",
        "import tracery\n",
        "from tracery.modifiers import base_english\n",
        "\n",
        "rules = {\n",
        "    \n",
        "    'origin': '#this_semester# Jane #does# #good_bad# in class. We hope that she',\n",
        "    'this_semester': ['Our focus this semester was learning to program microcomputers, using sensors, and building electronic circuits.','This semester we focused on learning to build electric circuits, reading information from sensors, and programming microcontrollers.'],\n",
        "    'does': ['works', 'does' , 'particpates', 'performs' ],\n",
        "    'good_bad': ['well', 'competently', 'baddly']\n",
        "}\n",
        "\n",
        "grammar = tracery.Grammar(rules)\n",
        "grammar.add_modifiers(base_english)\n",
        "\n",
        "for x in range(generate):\n",
        "  try:\n",
        "    print(infer(top_p=top_p, \n",
        "                temp=temp, \n",
        "                gen_len=gen_len, \n",
        "                context=grammar.flatten(\"#origin#\"))[0] + \"\\n\")\n",
        "  except:\n",
        "    pass"
      ],
      "execution_count": 28,
      "outputs": [
        {
          "output_type": "display_data",
          "data": {
            "text/html": [
              "\n",
              "  <style>\n",
              "    pre {\n",
              "        white-space: pre-wrap;\n",
              "    }\n",
              "  </style>\n",
              "  "
            ],
            "text/plain": [
              "<IPython.core.display.HTML object>"
            ]
          },
          "metadata": {}
        },
        {
          "output_type": "stream",
          "name": "stdout",
          "text": [
            "\u001b[1mOur focus this semester was learning to program microcomputers, using sensors, and building electronic circuits. Jane performs well in class. We hope that she\u001b[0m will complete the year with us and even beyond that! Our plan is to begin attending her parent's church which is near Ben David, one of the best and wealthiest Orthodox Jewish communities in America. We have decided to raise Jane in the Orthodox Jewish religion. We will be attending the Beth Hamidrash Adonai\n",
            "\n",
            "\u001b[1mThis semester we focused on learning to build electric circuits, reading information from sensors, and programming microcontrollers. Jane performs well in class. We hope that she\u001b[0m will continue with it for next semester and that she would expand her interests to include programming of things like microprocessors and computer components.\n",
            "\n",
            "I recently performed an experiment with a fly trap and fluorescent lighting. The fly trap was comprised of strips of wire running perpendicular to each other on the windowsill and they were illuminated\n",
            "\n",
            "\u001b[1mThis semester we focused on learning to build electric circuits, reading information from sensors, and programming microcontrollers. Jane performs competently in class. We hope that she\u001b[0m will follow in the footsteps of her late father, an engineer, and be able to make an exciting career as an electrical engineer. Jane has lots of interests. She loves to play softball, run, ride her bike, and listen to music. Sometimes she can be found trying to knit. She has made a scarf\n",
            "\n",
            "\u001b[1mThis semester we focused on learning to build electric circuits, reading information from sensors, and programming microcontrollers. Jane works competently in class. We hope that she\u001b[0m will be able to learn the basics of electrical engineering. Jane understands her motivation in learning this subject. However, since she didn't have a personal interest in the topic she found it quite difficult to follow some of the material. Despite her initial feelings about the subject she had no trouble following a simple tutorial in basic circuit design\n",
            "\n",
            "\u001b[1mOur focus this semester was learning to program microcomputers, using sensors, and building electronic circuits. Jane particpates baddly in class. We hope that she\u001b[0m will come to have an interest in the electronics field and in the scientific computing and/or graphics field.\n",
            "\n",
            "Before we dive into the final, with some much-needed rest, we wanted to share this photograph with you all. This is the inside of our classroom. Since the greenhouse is not currently working, this\n",
            "\n",
            "\u001b[1mOur focus this semester was learning to program microcomputers, using sensors, and building electronic circuits. Jane performs baddly in class. We hope that she\u001b[0m'll be able to write some programs with sensors at home over the break, and maybe also get our old Vex robotics and Arduino kits back to life.\n",
            "\n",
            "We started this school year with a one week Lightning Electronist (LEC) class taught by Geoff (@tempbart). It included hands-on\n",
            "\n",
            "\u001b[1mThis semester we focused on learning to build electric circuits, reading information from sensors, and programming microcontrollers. Jane performs well in class. We hope that she\u001b[0m continues to shine in her next schooling setting.\n",
            "\n",
            "Happy Halloween from all of us at the Optimizers! Hope your trick-or-treat was awesome. Here is a video of the family celebrating the holiday. We are all big Halloween fans!\n",
            "\n",
            "We had some practice using the Sparkfun SENSING\n",
            "\n",
            "\u001b[1mOur focus this semester was learning to program microcomputers, using sensors, and building electronic circuits. Jane particpates competently in class. We hope that she\u001b[0m continues to excel on the two labs due in November.\"\n",
            "\n",
            "Jane responds with a smile that is the perfect answer to her teacher.\n",
            "\n",
            "\"I'm happy to hear that Jane is adjusting to school. The more you practice doing well at school, the better you will do in the future. Jane, we will\n",
            "\n",
            "\u001b[1mThis semester we focused on learning to build electric circuits, reading information from sensors, and programming microcontrollers. Jane performs competently in class. We hope that she\u001b[0m has increased her motivation to keep learning. By completing the lab exercises, she learns not just more circuits and skills, but also how to work with unfamiliar devices and acquire the necessary tools for her next class. We believe that Jane has benefited from all of the connections we have made with her; she has not only improved academ\n",
            "\n",
            "\u001b[1mThis semester we focused on learning to build electric circuits, reading information from sensors, and programming microcontrollers. Jane works baddly in class. We hope that she\u001b[0m helps her restructure herself as a girl that learns.\n",
            "\n",
            "About Me\n",
            "\n",
            "I am a high school chemistry and computer science teacher at Columbia Northwest. My education and interests include computer programming, molecular biology, art, and statistics. My background is mathematics and computer science with some programming. It has been my joy to\n",
            "\n",
            "\u001b[1mThis semester we focused on learning to build electric circuits, reading information from sensors, and programming microcontrollers. Jane performs well in class. We hope that she\u001b[0m will continue to grow in her abilities as a biologist.\n",
            "\n",
            "Ms. McCully says, \"Biology has been one of the most challenging subjects at the SIS for the past three years and I feel confident in Jane's abilities in this field. We wish her well as she moves forward in school.\"\n",
            "\n",
            "\n",
            "\n",
            "\u001b[1mOur focus this semester was learning to program microcomputers, using sensors, and building electronic circuits. Jane does competently in class. We hope that she\u001b[0m will continue to get better over the next two years. She is a conscientious student who likes to take in-depth courses, as well as be involved in the community. Jane is interested in electrical engineering.\n",
            "\n",
            "I enjoy helping Jane study. Jane is bright, but she has some difficulty retaining new information. She needs\n",
            "\n"
          ]
        }
      ]
    },
    {
      "cell_type": "code",
      "metadata": {
        "id": "3c9FzqkVcZyZ",
        "cellView": "form",
        "outputId": "c02555b7-f485-4b6a-bb28-fc3dd091fd61",
        "colab": {
          "base_uri": "https://localhost:8080/",
          "height": 1000
        }
      },
      "source": [
        "#@title Article Generator \n",
        "title = \"Being your own Boss\" #@param {type:\"string\"}\n",
        "site = \"\" #@param {type:\"string\"}\n",
        "date = \"\" #@param {type:\"string\"}\n",
        "author = \"Jim Rohn\" #@param {type:\"string\"}\n",
        "tags = \"goals, drive, gtd\" #@param {type:\"string\"}\n",
        "lead = \"## Table of Content\" #@param {type:\"string\"}\n",
        "#@markdown - - -\n",
        "\n",
        "context = \"\"\"\n",
        "# {title}\n",
        "### Published:{date}\n",
        "### By:{author}\n",
        "##### Tags: {tags}\n",
        "### Site: {site}\n",
        "\n",
        "{lead}\n",
        "\"\"\"\n",
        "\n",
        "for x in range(generate):\n",
        "  print(infer(top_p=top_p, \n",
        "              temp=temp, \n",
        "              gen_len=gen_len, \n",
        "              context=context.format(title =title, \n",
        "                                     site = site, \n",
        "                                     date = date, \n",
        "                                     author = author, \n",
        "                                     tags = tags, \n",
        "                                     lead = lead))[0])"
      ],
      "execution_count": 29,
      "outputs": [
        {
          "output_type": "display_data",
          "data": {
            "text/html": [
              "\n",
              "  <style>\n",
              "    pre {\n",
              "        white-space: pre-wrap;\n",
              "    }\n",
              "  </style>\n",
              "  "
            ],
            "text/plain": [
              "<IPython.core.display.HTML object>"
            ]
          },
          "metadata": {}
        },
        {
          "output_type": "stream",
          "name": "stdout",
          "text": [
            "\u001b[1m\n",
            "# Being your own Boss\n",
            "### Published:\n",
            "### By:Jim Rohn\n",
            "##### Tags: goals, drive, gtd\n",
            "### Site: \n",
            "\n",
            "## Table of Content\n",
            "\u001b[0m-   1.  [Introduction](#introduction)\n",
            "    -   -   -   -   -\n",
            "-   2.  [Determining Your Short Term Goals](#determining-your-short-term-goals)\n",
            "-  \n",
            "\u001b[1m\n",
            "# Being your own Boss\n",
            "### Published:\n",
            "### By:Jim Rohn\n",
            "##### Tags: goals, drive, gtd\n",
            "### Site: \n",
            "\n",
            "## Table of Content\n",
            "\u001b[0m\n",
            "###\n",
            "\n",
            "####\n",
            "\n",
            "## Introduction\n",
            "\n",
            "The term \"Boss\" has two meanings. One meaning is when you are your own boss. This is self-employment.\n",
            "\n",
            "The second meaning is when you are your own boss's boss. This is a management position, sometimes a supervisor, sometimes a department\n",
            "\u001b[1m\n",
            "# Being your own Boss\n",
            "### Published:\n",
            "### By:Jim Rohn\n",
            "##### Tags: goals, drive, gtd\n",
            "### Site: \n",
            "\n",
            "## Table of Content\n",
            "\u001b[0m### **1. Are you happy where you are?**\n",
            "\n",
            "## About the Author\n",
            "\n",
            "_Jim Rohn_\n",
            "\n",
            "Jim is one of the most influential thinkers, motivators, and teachers of the modern age. He is considered a great businessman, motivational speaker and author, spiritual and business guru.\n",
            "\n",
            "\u001b[1m\n",
            "# Being your own Boss\n",
            "### Published:\n",
            "### By:Jim Rohn\n",
            "##### Tags: goals, drive, gtd\n",
            "### Site: \n",
            "\n",
            "## Table of Content\n",
            "\u001b[0m###\n",
            "###  \n",
            "\n",
            "## Chapter 1. Where You Are is Where You Are Going To Be\n",
            "\n",
            "# ---------------------- Where are you?\n",
            "\n",
            "There's a saying: \"If you don't know where you are going, you'll never get there.\"\n",
            "\n",
            "This saying is a lot more than an\n",
            "\u001b[1m\n",
            "# Being your own Boss\n",
            "### Published:\n",
            "### By:Jim Rohn\n",
            "##### Tags: goals, drive, gtd\n",
            "### Site: \n",
            "\n",
            "## Table of Content\n",
            "\u001b[0m\n",
            "### Being your own Boss\n",
            "\n",
            "##### Version 1.1\n",
            "##### Published: 2009/06/30\n",
            "##### Copyright: Jim Rohn\n",
            "##### Created: [http://iam.media/notion/uploads/2009/06/help-my-bio.jpg]\n",
            "####\n",
            "\u001b[1m\n",
            "# Being your own Boss\n",
            "### Published:\n",
            "### By:Jim Rohn\n",
            "##### Tags: goals, drive, gtd\n",
            "### Site: \n",
            "\n",
            "## Table of Content\n",
            "\u001b[0m\n",
            "* [Chapter 1 - \"Drive\" Means Being Your Own Boss                                                  \n",
            "\u001b[1m\n",
            "# Being your own Boss\n",
            "### Published:\n",
            "### By:Jim Rohn\n",
            "##### Tags: goals, drive, gtd\n",
            "### Site: \n",
            "\n",
            "## Table of Content\n",
            "\u001b[0m\n",
            "> #### Introduction\n",
            "> \n",
            "> #### How To Be A Life Engineer?\n",
            "> \n",
            "> #### Action Items\n",
            "\n",
            "> #### Introduction\n",
            "> \n",
            "> The idea of being your own boss is one of the most compelling ones for most people.\n",
            "> \n",
            "> The idea\n",
            "\u001b[1m\n",
            "# Being your own Boss\n",
            "### Published:\n",
            "### By:Jim Rohn\n",
            "##### Tags: goals, drive, gtd\n",
            "### Site: \n",
            "\n",
            "## Table of Content\n",
            "\u001b[0m### Be your own Boss\n",
            "### #    #       #       #\n",
            "### Intro #      #       #\n",
            "###      #       #      \n",
            "\u001b[1m\n",
            "# Being your own Boss\n",
            "### Published:\n",
            "### By:Jim Rohn\n",
            "##### Tags: goals, drive, gtd\n",
            "### Site: \n",
            "\n",
            "## Table of Content\n",
            "\u001b[0m\n",
            "### The Awakening\n",
            "\n",
            "### Shoulders\n",
            "\n",
            "### A Light Climb\n",
            "\n",
            "### New Heights\n",
            "\n",
            "### Reflections\n",
            "\n",
            "## The Awakening\n",
            "\n",
            "In 1989, I stood on the mound of a baseball field and raised my fist. It was baseball season, and I was coaching my local team. This\n",
            "\u001b[1m\n",
            "# Being your own Boss\n",
            "### Published:\n",
            "### By:Jim Rohn\n",
            "##### Tags: goals, drive, gtd\n",
            "### Site: \n",
            "\n",
            "## Table of Content\n",
            "\u001b[0m* [Chapter 1  \n",
            "Positive Thinking – A Call To Action](005.html)\n",
            "* [Chapter 2  \n",
            "Guilt](006.html)\n",
            "* [Chapter 3  \n",
            "A Little Help From\n",
            "                \n",
            "\u001b[1m\n",
            "# Being your own Boss\n",
            "### Published:\n",
            "### By:Jim Rohn\n",
            "##### Tags: goals, drive, gtd\n",
            "### Site: \n",
            "\n",
            "## Table of Content\n",
            "\u001b[0m\n",
            "##### Chapter One - The Answer \n",
            "\n",
            "1. Define motivation and describe it in a particular context.\n",
            "\n",
            "2. What is self-motivation? Define self-motivation and give an example of a person who has a motivation to succeed?\n",
            "\n",
            "\n",
            "##### Chapter Two - Fueling\n",
            "\u001b[1m\n",
            "# Being your own Boss\n",
            "### Published:\n",
            "### By:Jim Rohn\n",
            "##### Tags: goals, drive, gtd\n",
            "### Site: \n",
            "\n",
            "## Table of Content\n",
            "\u001b[0m\n",
            "### Title Page\n",
            "\n",
            "##### 1.  What Is a Goal?\n",
            "\n",
            "##### 2. What Is a Goal Setting Plan?\n",
            "\n",
            "##### 3. What Are Your Goals?\n",
            "\n",
            "##### 4. Your Current Status - Are You Doing What You Want?\n",
            "\n",
            "##### 5. What\n"
          ]
        }
      ]
    },
    {
      "cell_type": "code",
      "metadata": {
        "cellView": "form",
        "id": "nKpUf-M554f9",
        "outputId": "4629c018-18ec-4b31-9028-ffa0dea86bdc",
        "colab": {
          "base_uri": "https://localhost:8080/",
          "height": 1000
        }
      },
      "source": [
        "#@title Article generation { form-width: \"300px\" }\n",
        "title = \"COVID-19: What do vaccine passports in Quebec & Ontario mean for Canada's largest provinces? \" #@param {type:\"string\"}\n",
        "site = \"https://www.canada.ca/en/public-health/services/diseases/\" #@param {type:\"string\"}\n",
        "date = \"Sep 7, 2021\" #@param {type:\"string\"}\n",
        "author = \"\" #@param {type:\"string\"}\n",
        "tags = \"COVID-19, Quebec, Ontario, Canada\" #@param {type:\"string\"}\n",
        "lead = \"The passports are certificates that confirm vaccinations and allow people to enjoy eating\" #@param {type:\"string\"}\n",
        "\n",
        "\n",
        "#print(\"Enter/Paste your content. Ctrl-D or Ctrl-Z ( windows ) to save it.\")\n",
        "#context = []\n",
        "#while True:\n",
        "#    try:\n",
        "#        line = input()\n",
        "#    except EOFError:\n",
        "#        break\n",
        "#    context.append(line)\n",
        "\n",
        "context = \"\"\"\n",
        "# {title}\n",
        "### Published:{date}\n",
        "### By:{author}\n",
        "##### Tags: {tags}\n",
        "### Site: {site}\n",
        "\n",
        "{lead}\"\"\"\n",
        "\n",
        "for x in range(generate):\n",
        "  print(infer(top_p=top_p, \n",
        "              temp=temp, \n",
        "              gen_len=gen_len, \n",
        "              context=context.format(title =title, \n",
        "                                     site = site, \n",
        "                                     date = date, \n",
        "                                     author = author, \n",
        "                                     tags = tags, \n",
        "                                     lead = lead))[0])"
      ],
      "execution_count": 30,
      "outputs": [
        {
          "output_type": "display_data",
          "data": {
            "text/html": [
              "\n",
              "  <style>\n",
              "    pre {\n",
              "        white-space: pre-wrap;\n",
              "    }\n",
              "  </style>\n",
              "  "
            ],
            "text/plain": [
              "<IPython.core.display.HTML object>"
            ]
          },
          "metadata": {}
        },
        {
          "output_type": "stream",
          "name": "stdout",
          "text": [
            "\u001b[1m\n",
            "# COVID-19: What do vaccine passports in Quebec & Ontario mean for Canada's largest provinces? \n",
            "### Published:Sep 7, 2021\n",
            "### By:\n",
            "##### Tags: COVID-19, Quebec, Ontario, Canada\n",
            "### Site: https://www.canada.ca/en/public-health/services/diseases/\n",
            "\n",
            "The passports are certificates that confirm vaccinations and allow people to enjoy eating\u001b[0m in restaurants with the safe expectation that they have not been infected with the new coronavirus that causes COVID-19. \n",
            "\n",
            "Health Canada says they are intended for young people between 0 and 20 years of age to ensure they are able to receive or change vaccinations and to obtain routine medical services. \n",
            "\n",
            "\n",
            "\u001b[1m\n",
            "# COVID-19: What do vaccine passports in Quebec & Ontario mean for Canada's largest provinces? \n",
            "### Published:Sep 7, 2021\n",
            "### By:\n",
            "##### Tags: COVID-19, Quebec, Ontario, Canada\n",
            "### Site: https://www.canada.ca/en/public-health/services/diseases/\n",
            "\n",
            "The passports are certificates that confirm vaccinations and allow people to enjoy eating\u001b[0m at restaurants, enter gyms, and enter sports and cultural facilities.\n",
            "\n",
            "Across Quebec and Ontario, people can pick up the new health cards at doctors' offices or other government facilities, and at some restaurants and shopping centres. The government is ordering them to be sent out to every Ontarian and Quebecer in the\n",
            "\u001b[1m\n",
            "# COVID-19: What do vaccine passports in Quebec & Ontario mean for Canada's largest provinces? \n",
            "### Published:Sep 7, 2021\n",
            "### By:\n",
            "##### Tags: COVID-19, Quebec, Ontario, Canada\n",
            "### Site: https://www.canada.ca/en/public-health/services/diseases/\n",
            "\n",
            "The passports are certificates that confirm vaccinations and allow people to enjoy eating\u001b[0m at restaurants and go to public pools in both Quebec and Ontario.\n",
            "\n",
            "The official announcement of the re-opening of restaurants and other establishments in Ontario and Quebec comes in the form of a hand-written note posted on a Montreal restaurant's door.\n",
            "\n",
            "“The owner of the restaurant is free to use it\n",
            "\u001b[1m\n",
            "# COVID-19: What do vaccine passports in Quebec & Ontario mean for Canada's largest provinces? \n",
            "### Published:Sep 7, 2021\n",
            "### By:\n",
            "##### Tags: COVID-19, Quebec, Ontario, Canada\n",
            "### Site: https://www.canada.ca/en/public-health/services/diseases/\n",
            "\n",
            "The passports are certificates that confirm vaccinations and allow people to enjoy eating\u001b[0m in restaurants and travel internationally in some provinces.\n",
            "\n",
            "It is hard to find a vaccine for the disease. The government says it is working to accelerate the production of an effective vaccine.\n",
            "\n",
            "In addition, they can refuse people who are not vaccinated and quarantine them.\n",
            "\n",
            "'Vaccinate all citizens and prevent\n",
            "\u001b[1m\n",
            "# COVID-19: What do vaccine passports in Quebec & Ontario mean for Canada's largest provinces? \n",
            "### Published:Sep 7, 2021\n",
            "### By:\n",
            "##### Tags: COVID-19, Quebec, Ontario, Canada\n",
            "### Site: https://www.canada.ca/en/public-health/services/diseases/\n",
            "\n",
            "The passports are certificates that confirm vaccinations and allow people to enjoy eating\u001b[0m out or buying products that may have been made in areas where production has been reduced due to COVID-19.\n",
            "#\n",
            "\n",
            "The Government of Canada has taken this step in order to promote social distancing and minimise the spread of COVID-19 in the country.\n",
            "#\n",
            "\n",
            "The Government of Canada\n",
            "\u001b[1m\n",
            "# COVID-19: What do vaccine passports in Quebec & Ontario mean for Canada's largest provinces? \n",
            "### Published:Sep 7, 2021\n",
            "### By:\n",
            "##### Tags: COVID-19, Quebec, Ontario, Canada\n",
            "### Site: https://www.canada.ca/en/public-health/services/diseases/\n",
            "\n",
            "The passports are certificates that confirm vaccinations and allow people to enjoy eating\u001b[0m out and travel. (Photo: Google Maps)\n",
            "\n",
            "Top Stories\n",
            "\n",
            "Ontario will allow provinces, territories to exempt vaccine exemptions in response to COVID-19, starting with Quebec and other jurisdictions, as confirmed by the government Wednesday. (Photo: Government of Quebec)\n",
            "\n",
            "After meeting with the Minister of\n",
            "\u001b[1m\n",
            "# COVID-19: What do vaccine passports in Quebec & Ontario mean for Canada's largest provinces? \n",
            "### Published:Sep 7, 2021\n",
            "### By:\n",
            "##### Tags: COVID-19, Quebec, Ontario, Canada\n",
            "### Site: https://www.canada.ca/en/public-health/services/diseases/\n",
            "\n",
            "The passports are certificates that confirm vaccinations and allow people to enjoy eating\u001b[0m in all public places. Those with passports will have a sticker on their state-issued identification cards. Those without passports can only eat in certain restaurants.\n",
            "\n",
            "But the government plans to further extend the list of places where people can only eat from, and there is little public information about how long it will last or what\n",
            "\u001b[1m\n",
            "# COVID-19: What do vaccine passports in Quebec & Ontario mean for Canada's largest provinces? \n",
            "### Published:Sep 7, 2021\n",
            "### By:\n",
            "##### Tags: COVID-19, Quebec, Ontario, Canada\n",
            "### Site: https://www.canada.ca/en/public-health/services/diseases/\n",
            "\n",
            "The passports are certificates that confirm vaccinations and allow people to enjoy eating\u001b[0m meat\n",
            "from cattle, sheep, goat and horses up to 10 months after their birth. \n",
            "To find out more about the passports please visit: https://www.canada.ca/en/public-health/services/diseases/documents/Coronavirus-Preliminary-risk\n",
            "\u001b[1m\n",
            "# COVID-19: What do vaccine passports in Quebec & Ontario mean for Canada's largest provinces? \n",
            "### Published:Sep 7, 2021\n",
            "### By:\n",
            "##### Tags: COVID-19, Quebec, Ontario, Canada\n",
            "### Site: https://www.canada.ca/en/public-health/services/diseases/\n",
            "\n",
            "The passports are certificates that confirm vaccinations and allow people to enjoy eating\u001b[0m at local restaurants and public places without getting fined. It is the provincial government's plan to encourage parents to vaccinate their children, and in some cases, it would also be given to those who show up at a health center or doctor's office. \n",
            "\n",
            "# COVID-19: How does Canada's vaccination\n",
            "\u001b[1m\n",
            "# COVID-19: What do vaccine passports in Quebec & Ontario mean for Canada's largest provinces? \n",
            "### Published:Sep 7, 2021\n",
            "### By:\n",
            "##### Tags: COVID-19, Quebec, Ontario, Canada\n",
            "### Site: https://www.canada.ca/en/public-health/services/diseases/\n",
            "\n",
            "The passports are certificates that confirm vaccinations and allow people to enjoy eating\u001b[0m meat and other foods from animals they've come in contact with.\n",
            "\n",
            "In this case, we're discussing the Mexican government's order to shoot and destroy unvaccinated pigs.\n",
            "\n",
            "It has been said that 'Canada will lose the ability to respond to threats of animal disease'.\n",
            "\n",
            "'This is a price\n",
            "\u001b[1m\n",
            "# COVID-19: What do vaccine passports in Quebec & Ontario mean for Canada's largest provinces? \n",
            "### Published:Sep 7, 2021\n",
            "### By:\n",
            "##### Tags: COVID-19, Quebec, Ontario, Canada\n",
            "### Site: https://www.canada.ca/en/public-health/services/diseases/\n",
            "\n",
            "The passports are certificates that confirm vaccinations and allow people to enjoy eating\u001b[0m out in those provinces.\n",
            "\n",
            "About Ontario and Quebec \n",
            "=====\n",
            "\n",
            "Québec and Ontario are the largest provinces in Canada. According to the U.S. Census Bureau, the population of Ontario is 13,706,086 and of Québec, 4,238,828.\n",
            "\n",
            "\n",
            "\u001b[1m\n",
            "# COVID-19: What do vaccine passports in Quebec & Ontario mean for Canada's largest provinces? \n",
            "### Published:Sep 7, 2021\n",
            "### By:\n",
            "##### Tags: COVID-19, Quebec, Ontario, Canada\n",
            "### Site: https://www.canada.ca/en/public-health/services/diseases/\n",
            "\n",
            "The passports are certificates that confirm vaccinations and allow people to enjoy eating\u001b[0m wild game, such as deer and bear, in national parks and provincial parks.\n",
            "\n",
            "The certificates, which are distributed at no cost to people living in the Quebec and Ontario provinces, are issued by veterinary offices in the respective provinces.\n",
            "\n",
            "The certificates provide limited protection to citizens and permanently-resident visitors of both provinces\n"
          ]
        }
      ]
    },
    {
      "cell_type": "markdown",
      "metadata": {
        "id": "ka8vrZ-kN1Qi"
      },
      "source": [
        "## Code Generation"
      ]
    },
    {
      "cell_type": "markdown",
      "metadata": {
        "id": "fiXYadumWbT9"
      },
      "source": [
        "### Set Sampling Parameters\n"
      ]
    },
    {
      "cell_type": "code",
      "metadata": {
        "id": "VSKHAVCYPt2W",
        "cellView": "form",
        "outputId": "b80c1285-9748-428d-ef6c-6732f0aef7e5",
        "colab": {
          "base_uri": "https://localhost:8080/",
          "height": 17
        }
      },
      "source": [
        "#@markdown ### Leave this alone unless you know what you are doing ... or are just having fun experimenting.\n",
        "#@markdown \n",
        "#@markdown - - - \n",
        "#@markdown Top_p controls diversity/quality. The higher our top_p the more rich and nuanced oir inferences can be.\n",
        "top_p = 0.9 #@param {type:\"slider\", min:0, max:1, step:0.1}\n",
        "#@markdown - - - \n",
        "#@markdown Temp controls randomnes. Low temps make for mechanical inferences.\n",
        "temp = 0.9 #@param {type:\"slider\", min:0, max:1, step:0.1}\n",
        "#@markdown - - - \n",
        "#@markdown Gen_len adjects the length of text infered.\n",
        "#@markdown Specifcily it adustes the nember of tokens (~4 per engish word).\n",
        "#@markdown\n",
        "#@markdown *Note: Changing gen_len will cause long wait times when first setting lengs that have not been set before.*\n",
        "#@markdown  \n",
        "gen_len = 512 #@param {type: \"slider\", min:64, max: 1024, step: 64}\n",
        "#@markdown - - - \n",
        "#@markdown Generate controls the number of inferences that will be generated.\n",
        "generate = 1 #@param {type: \"slider\", min:1, max: 12, step: 1}\n"
      ],
      "execution_count": 31,
      "outputs": [
        {
          "output_type": "display_data",
          "data": {
            "text/html": [
              "\n",
              "  <style>\n",
              "    pre {\n",
              "        white-space: pre-wrap;\n",
              "    }\n",
              "  </style>\n",
              "  "
            ],
            "text/plain": [
              "<IPython.core.display.HTML object>"
            ]
          },
          "metadata": {}
        }
      ]
    },
    {
      "cell_type": "markdown",
      "metadata": {
        "id": "LIGNc1D7XBQ-"
      },
      "source": [
        "### Python Code"
      ]
    },
    {
      "cell_type": "code",
      "metadata": {
        "cellView": "form",
        "id": "phNf7ZPj3I8U",
        "outputId": "38380585-509e-4baa-ea99-0b629d0aab63",
        "colab": {
          "base_uri": "https://localhost:8080/",
          "height": 1000
        }
      },
      "source": [
        "#@title Python Code - Simple \n",
        "#@markdown Generate code by just writng a comment and a name for a fuction \n",
        "python_comment = \"check if a number is prime or not\" #@param {type:\"string\"}\n",
        "#variable_n_val = \"youtube_video_url\" #@param {type:\"string\"}\n",
        "function_name = \"p\" #@param {type:\"string\"}\n",
        "\n",
        "\n",
        "context = \"\"\"# {python_comment}\n",
        "\n",
        "def is_\"\"\".format(python_comment = python_comment, \n",
        "           function_name = function_name)\n",
        "\n",
        "for x in range(generate):\n",
        "  print(infer(top_p=top_p, temp=temp, gen_len=gen_len, context=context)[0])"
      ],
      "execution_count": 32,
      "outputs": [
        {
          "output_type": "display_data",
          "data": {
            "text/html": [
              "\n",
              "  <style>\n",
              "    pre {\n",
              "        white-space: pre-wrap;\n",
              "    }\n",
              "  </style>\n",
              "  "
            ],
            "text/plain": [
              "<IPython.core.display.HTML object>"
            ]
          },
          "metadata": {}
        },
        {
          "output_type": "stream",
          "name": "stdout",
          "text": [
            "\u001b[1m# check if a number is prime or not\n",
            "\n",
            "def is_\u001b[0mprime(n):\n",
            "\tif n == 2:\n",
            "\t\treturn True\n",
            "\telif n % 2 == 0:\n",
            "\t\treturn False\n",
            "\telse:\n",
            "\t\tfor i in range(3, int(n**0.5)+1, 2):\n",
            "\t\t\tif n % i == 0:\n",
            "\t\t\t\treturn False\n",
            "\treturn True\n",
            "\n",
            "# count all the prime factors\n",
            "\n",
            "def count_prime_factors(n):\n",
            "\tif n == 2:\n",
            "\t\treturn 0\n",
            "\telse:\n",
            "\t\tif n % 2 == 0:\n",
            "\t\t\treturn 1\n",
            "\t\telif n % 3 == 0:\n",
            "\t\t\treturn 2\n",
            "\t\telse:\n",
            "\t\t\treturn 1 + count_prime_factors(n//3)\n",
            "\n",
            "# returns the sum of the first n positive integers\n",
            "\n",
            "def sum_first_n(n):\n",
            "\ta = 0\n",
            "\tfor i in range(1, n+1):\n",
            "\t\ta += i\n",
            "\treturn a\n",
            "\n",
            "# return true if n is even\n",
            "\n",
            "def is_even(n):\n",
            "\treturn n % 2 == 0\n",
            "\n",
            "# return true if n is odd\n",
            "\n",
            "def is_odd(n):\n",
            "\treturn n % 2 == 1\n",
            "\n",
            "# returns the prime factors of the number n\n",
            "\n",
            "def prime_factors(n):\n",
            "\tprimes = []\n",
            "\tif n < 2:\n",
            "\t\treturn []\n",
            "\telse:\n",
            "\t\tfor i in range(2, n+1):\n",
            "\t\t\tif n % i == 0:\n",
            "\t\t\t\tprimes.append(i)\n",
            "\treturn primes\n",
            "\n",
            "# returns the product of the factors of a number\n",
            "\n",
            "def product_factors(n):\n",
            "\ta = 1\n",
            "\tfor i in range(len(prime_factors(n))):\n",
            "\t\ta *= prime_factors(n)[i]\n",
            "\treturn a\n",
            "\n",
            "# returns the product of all factors of a number\n",
            "\n",
            "def product_factors_all(n):\n",
            "\ta = 1\n",
            "\tfor i in range(len(prime_factors(n))):\n",
            "\t\ta *= prime_factors_all(n)[i]\n",
            "\treturn a\n",
            "\n",
            "# returns the sum of all the positive integers whose factors are less than or equal to k\n",
            "\n",
            "def\n"
          ]
        }
      ]
    },
    {
      "cell_type": "code",
      "metadata": {
        "cellView": "form",
        "id": "Gs97bc_DCNIY",
        "outputId": "dd2869a7-f2f5-45e8-d1ea-7e496af35f50",
        "colab": {
          "base_uri": "https://localhost:8080/",
          "height": 1000
        }
      },
      "source": [
        "#@title Python Code - Complex\n",
        "python_comment = \"detect security flaws \" #@param {type:\"string\"}\n",
        "variable_name =\"person_real_name\" #@param {type:\"string\"}\n",
        "variable_val = \"Isabelle Plante\" #@param {type:\"string\"}\n",
        "function_name = \"online_account_scan\" #@param {type:\"string\"}\n",
        "#@markdown - - -\n",
        "\n",
        "\n",
        "context = '''#!/usr/bin/env python3\n",
        "\n",
        "# {python_comment}\n",
        "\n",
        "{variable_name} = \"{variable_val}\"\n",
        "\n",
        "def {function_name}(n):\n",
        "  \"\"\"This'''.format(python_comment = python_comment,\n",
        "           variable_name = variable_name,\n",
        "           variable_val = variable_val,\n",
        "           function_name = function_name)\n",
        "\n",
        "for x in range(generate):\n",
        "  print(infer(top_p=top_p, temp=temp, gen_len=gen_len, context=context)[0])"
      ],
      "execution_count": 33,
      "outputs": [
        {
          "output_type": "display_data",
          "data": {
            "text/html": [
              "\n",
              "  <style>\n",
              "    pre {\n",
              "        white-space: pre-wrap;\n",
              "    }\n",
              "  </style>\n",
              "  "
            ],
            "text/plain": [
              "<IPython.core.display.HTML object>"
            ]
          },
          "metadata": {}
        },
        {
          "output_type": "stream",
          "name": "stdout",
          "text": [
            "\u001b[1m#!/usr/bin/env python3\n",
            "\n",
            "# detect security flaws \n",
            "\n",
            "person_real_name = \"Isabelle Plante\"\n",
            "\n",
            "def online_account_scan(n):\n",
            "  \"\"\"This\u001b[0m will check if the account is online\"\"\"\n",
            "\n",
            "  start_time = datetime.now()\n",
            "  print (\"checking account is online\")\n",
            "\n",
            "  n.account.sso_login()\n",
            "\n",
            "  end_time = datetime.now()\n",
            "\n",
            "  if end_time - start_time < 1:\n",
            "    print(\"account is offline\")\n",
            "    return\n",
            "  else:\n",
            "    print(\"account is online\")\n",
            "\n",
            "def ls_real_name(n):\n",
            "  \"\"\"This will return the real_name of the user\"\"\"\n",
            "\n",
            "  start_time = datetime.now()\n",
            "  print (\"returning name\")\n",
            "\n",
            "  n.sso_login()\n",
            "  n.account.get_profile()\n",
            "\n",
            "  end_time = datetime.now()\n",
            "  \n",
            "  print (end_time - start_time)\n",
            "\n",
            "  return end_time - start_time\n",
            "\n",
            "\n",
            "def scan(n):\n",
            "\n",
            "  \"\"\"This will scan for security flaws and alert if any found\"\"\"\n",
            "\n",
            "  start_time = datetime.now()\n",
            "\n",
            "  n.account.login()\n",
            "\n",
            "  end_time = datetime.now()\n",
            "\n",
            "  print (\"Scanning\")\n",
            "\n",
            "  try:\n",
            "    online_account_scan(n)\n",
            "  except Exception as e:\n",
            "    print(e)\n",
            "\n",
            "  try:\n",
            "    ls_real_name(n)\n",
            "  except Exception as e:\n",
            "    print(e)\n",
            "\n",
            "if __name__ == \"__main__\":\n",
            "\n",
            "  if len(sys.argv)!= 3:\n",
            "    print (\"usage: scan.py n ndroid.net.port\")\n",
            "    sys.exit(1)\n",
            "\n",
            "  n = ndroid.core.Net(sys.argv[1], sys.argv[2])\n",
            "  n.save()\n",
            "\n",
            "  scan(n)\n",
            "\n",
            "  n.delete()\n",
            "  ndroid.core.run_as_root()\n",
            "\n",
            "  print (\"Done\")\n",
            "\n",
            "  #                                                                              \n"
          ]
        }
      ]
    },
    {
      "cell_type": "code",
      "metadata": {
        "id": "g2u9WMX9Q-lG",
        "outputId": "baceb2a0-314e-4aaf-921c-1843699ceb33",
        "colab": {
          "base_uri": "https://localhost:8080/",
          "height": 255
        }
      },
      "source": [
        "#@title Vue Code - Simple { form-width: \"500px\" }\n",
        "comment = \"guest speakers\" #@param {type:\"string\"}\n",
        "#variable_n_val = \"youtube_video_url\" #@param {type:\"string\"}\n",
        "name = \"tab_1\" #@param {type:\"string\"}\n",
        "#@markdown - - - \n",
        "#@markdown Leave this alone unless you know ...\n",
        "top_p = 0.8 #@param {type:\"slider\", min:0, max:1, step:0.1}\n",
        "temp = 0.9 #@param {type:\"slider\", min:0, max:1, step:0.1}\n",
        "gen_len = 512 #@param {type:\"slider\", min:64, max:1024, step:64}\n",
        "generate = 1 #@param {type: \"slider\", min:1, max: 12, step: 1}\n",
        "\n",
        "context = \"\"\"\n",
        "<!-- Vue template for {comment} page -->\n",
        "<section>\n",
        "  <div id=\"app\" class=\"container\">\n",
        "    <div class=\"content\">\n",
        "      <div id=\"{name} \" class=\"\"\".format(comment = comment, \n",
        "           name = name)\n",
        "      \n",
        "print(infer(top_p=top_p, temp=temp, gen_len=gen_len, context=context)[0])"
      ],
      "execution_count": 34,
      "outputs": [
        {
          "output_type": "display_data",
          "data": {
            "text/html": [
              "\n",
              "  <style>\n",
              "    pre {\n",
              "        white-space: pre-wrap;\n",
              "    }\n",
              "  </style>\n",
              "  "
            ],
            "text/plain": [
              "<IPython.core.display.HTML object>"
            ]
          },
          "metadata": {}
        },
        {
          "output_type": "stream",
          "name": "stdout",
          "text": [
            "\u001b[1m\n",
            "<!-- Vue template for guest speakers page -->\n",
            "<section>\n",
            "  <div id=\"app\" class=\"container\">\n",
            "    <div class=\"content\">\n",
            "      <div id=\"tab_1 \" class=\u001b[0m \"tab-pane \">\n",
            "        <div class=\"container\">\n",
            "          <div class=\"row\">\n",
            "            <div class=\"col-md-12\">\n",
            "              <div class=\"panel panel-default\">\n",
            "                <div class=\"panel-heading\">\n",
            "                  <h3 class=\"panel-title\">\n",
            "                    <a data-toggle=\"collapse\" data-parent=\"#accordion\" href=\"#collapse1\">\n",
            "                                                                                                                                                                                                                                                                                                                                               \n"
          ]
        }
      ]
    },
    {
      "cell_type": "code",
      "metadata": {
        "id": "vb8SkRpDm0rP",
        "outputId": "6265b7c8-f80a-4454-be8a-6a3a7aeb76b5",
        "colab": {
          "base_uri": "https://localhost:8080/",
          "height": 374
        }
      },
      "source": [
        "#@title Json Code - Simple { form-width: \"500px\" }\n",
        "title = \"guest_speakers\" #@param {type:\"string\"}\n",
        "#variable_n_val = \"youtube_video_url\" #@param {type:\"string\"}\n",
        "name = \"last_name\" #@param {type:\"string\"}\n",
        "#@markdown - - - \n",
        "#@markdown Leave this alone unless you know ...\n",
        "top_p = 0.9 # @ param {type:\"slider\", min:0, max:1, step:0.1}\n",
        "temp = 0.9 # @ param {type:\"slider\", min:0, max:1, step:0.1}\n",
        "gen_len = 512 # @ param {type:\"slider\", min:64, max:1024, step:64}\n",
        "generate = 1 # @ param {type: \"slider\", min:1, max: 12, step: 1}\n",
        "\n",
        "context = \"\"\"{{\"{title}\": [\n",
        "  {{\"{name}\":\"\"\".format(title = title , name = name)\n",
        "      \n",
        "print(infer(top_p=top_p, temp=temp, gen_len=gen_len, context=context)[0])"
      ],
      "execution_count": 35,
      "outputs": [
        {
          "output_type": "display_data",
          "data": {
            "text/html": [
              "\n",
              "  <style>\n",
              "    pre {\n",
              "        white-space: pre-wrap;\n",
              "    }\n",
              "  </style>\n",
              "  "
            ],
            "text/plain": [
              "<IPython.core.display.HTML object>"
            ]
          },
          "metadata": {}
        },
        {
          "output_type": "stream",
          "name": "stdout",
          "text": [
            "\u001b[1m{\"guest_speakers\": [\n",
            "  {\"last_name\":\u001b[0m \"Hejlsberg\", \"presentation_title\": \"Introducing Kotlin\", \"age\": 40, \"status\": \"Active\"},\n",
            "  {\"last_name\": \"Kim\", \"presentation_title\": \"Creating cross-platform mobile applications with React Native\", \"age\": 31, \"status\": \"Active\"},\n",
            "  {\"last_name\": \"Freeman\", \"presentation_title\": \"Creating fast, simple user interfaces with React Native\", \"age\": 40, \"status\": \"Active\"},\n",
            "  {\"last_name\": \"Eric\", \"presentation_title\": \"Introducing TypeScript and JSX\", \"age\": 25, \"status\": \"Active\"},\n",
            "  {\"last_name\": \"Witkovsky\", \"presentation_title\": \"Angular 6.0\", \"age\": 25, \"status\": \"Active\"},\n",
            "  {\"last_name\": \"Mnuz\", \"presentation_title\": \"Angular 7.0\", \"age\": 27, \"status\": \"Active\"}\n",
            "]},\n",
            "\n",
            "{\"attendee_list\": [\n",
            "  {\"first_name\": \"Anton\", \"last_name\": \"Petrov\", \"email\": \"anton@kimdev.co\"},\n",
            "  {\"first_name\": \"Jadran\", \"last_name\": \"Zlatopolsky\", \"email\": \"jadran@kimdev.co\"},\n",
            "  {\"first_name\": \"Jakub\", \"last_name\": \"Chmiel\", \"email\": \"jakub@kimdev.co\"},\n",
            "  {\"first_name\": \"Kay\", \"last_name\": \"Koval\", \"email\": \"kay@kimdev.co\"},\n",
            "  {\"first_name\": \"Len\", \"last_name\": \"Durov\", \"email\": \"len@kimdev.co\"},\n",
            "  {\"first_name\": \"Mike\", \"last_name\": \"Raspopovic\", \"email\": \"mike@kimdev.co\"},\n",
            "  {\"first_name\": \"Peter\", \"last_name\": \"Tsipikas\", \"email\": \"peter@kimdev.co\"},\n",
            "  {\"first_name\": \"Rita\", \"last_name\": \"Sproston\", \"email\": \"rita@kimdev.co\"},\n",
            "  {\"first_name\": \"Xavi\", \"last\n"
          ]
        }
      ]
    },
    {
      "cell_type": "markdown",
      "metadata": {
        "id": "8xiwQxqCNdz9"
      },
      "source": [
        "# Examples of GPT genereated code.\n",
        "\n",
        "The following are examples of code generated in prior runs.\n",
        "\n",
        "Please paste interesting examples below"
      ]
    },
    {
      "cell_type": "code",
      "metadata": {
        "id": "zgb9xlP394_5",
        "outputId": "f8ff9675-68a6-4e41-b66e-dd89ca180c26",
        "colab": {
          "base_uri": "https://localhost:8080/",
          "height": 34
        }
      },
      "source": [
        "# check if a number is prime or not\n",
        "\n",
        "def is_prime(n):\n",
        "  \"\"\" \n",
        "  > returns true if n is a prime,\n",
        "  > false otherwise.\n",
        "  \"\"\"\n",
        "  for i in range(2, n):\n",
        "    if n % i == 0:\n",
        "      return False\n",
        "  return True\n",
        "\n",
        "print(is_prime(7))"
      ],
      "execution_count": 36,
      "outputs": [
        {
          "output_type": "display_data",
          "data": {
            "text/html": [
              "\n",
              "  <style>\n",
              "    pre {\n",
              "        white-space: pre-wrap;\n",
              "    }\n",
              "  </style>\n",
              "  "
            ],
            "text/plain": [
              "<IPython.core.display.HTML object>"
            ]
          },
          "metadata": {}
        },
        {
          "output_type": "stream",
          "name": "stdout",
          "text": [
            "True\n"
          ]
        }
      ]
    },
    {
      "cell_type": "code",
      "metadata": {
        "id": "zKo_2bvagu2K",
        "outputId": "a81b095a-3e8a-4de4-fd33-36f137a988ad",
        "colab": {
          "base_uri": "https://localhost:8080/",
          "height": 340
        }
      },
      "source": [
        "# Program to check if a number is prime or not\n",
        "\n",
        "num = 9\n",
        "\n",
        "# Program to check if a number is prime or not\n",
        "\n",
        "def is_prime(n):\n",
        "    while n > 1:\n",
        "        while n % 2 == 0:\n",
        "            return False\n",
        "        n = n / 2\n",
        "    return True\n",
        "\n",
        "print(\"This is an example of a function that works but is quite wrong!\")\n",
        "\n",
        "for i in range(2, 20):\n",
        "  print(f\"Is {i} prime? {is_prime(i)}\")\n",
        "\n"
      ],
      "execution_count": 37,
      "outputs": [
        {
          "output_type": "display_data",
          "data": {
            "text/html": [
              "\n",
              "  <style>\n",
              "    pre {\n",
              "        white-space: pre-wrap;\n",
              "    }\n",
              "  </style>\n",
              "  "
            ],
            "text/plain": [
              "<IPython.core.display.HTML object>"
            ]
          },
          "metadata": {}
        },
        {
          "output_type": "stream",
          "name": "stdout",
          "text": [
            "This is an example of a function that works but is quite wrong!\n",
            "Is 2 prime? False\n",
            "Is 3 prime? True\n",
            "Is 4 prime? False\n",
            "Is 5 prime? True\n",
            "Is 6 prime? False\n",
            "Is 7 prime? True\n",
            "Is 8 prime? False\n",
            "Is 9 prime? True\n",
            "Is 10 prime? False\n",
            "Is 11 prime? True\n",
            "Is 12 prime? False\n",
            "Is 13 prime? True\n",
            "Is 14 prime? False\n",
            "Is 15 prime? True\n",
            "Is 16 prime? False\n",
            "Is 17 prime? True\n",
            "Is 18 prime? False\n",
            "Is 19 prime? True\n"
          ]
        }
      ]
    },
    {
      "cell_type": "code",
      "metadata": {
        "id": "rOwWzOgflhW0",
        "outputId": "fb3602e1-e9dd-4be6-c67b-d4ecb246df37",
        "colab": {
          "base_uri": "https://localhost:8080/",
          "height": 34
        }
      },
      "source": [
        "# check if a number is prime or not\n",
        "def is_prime(n):\n",
        "    for i in range(2, n):\n",
        "        if n % i == 0:\n",
        "            return False\n",
        "    return True\n",
        "\n",
        "is_prime(9)"
      ],
      "execution_count": 38,
      "outputs": [
        {
          "output_type": "display_data",
          "data": {
            "text/html": [
              "\n",
              "  <style>\n",
              "    pre {\n",
              "        white-space: pre-wrap;\n",
              "    }\n",
              "  </style>\n",
              "  "
            ],
            "text/plain": [
              "<IPython.core.display.HTML object>"
            ]
          },
          "metadata": {}
        },
        {
          "output_type": "execute_result",
          "data": {
            "text/plain": [
              "False"
            ]
          },
          "metadata": {},
          "execution_count": 38
        }
      ]
    },
    {
      "cell_type": "code",
      "metadata": {
        "id": "TA5qvTVnS0q8",
        "outputId": "f2a1abdd-d4f9-4169-87e3-9d5f3df8285f",
        "colab": {
          "base_uri": "https://localhost:8080/",
          "height": 646
        }
      },
      "source": [
        "!pip install grip"
      ],
      "execution_count": 17,
      "outputs": [
        {
          "output_type": "display_data",
          "data": {
            "text/html": [
              "\n",
              "  <style>\n",
              "    pre {\n",
              "        white-space: pre-wrap;\n",
              "    }\n",
              "  </style>\n",
              "  "
            ],
            "text/plain": [
              "<IPython.core.display.HTML object>"
            ]
          },
          "metadata": {}
        },
        {
          "output_type": "stream",
          "name": "stdout",
          "text": [
            "Collecting grip\n",
            "  Downloading grip-4.5.2.tar.gz (145 kB)\n",
            "\u001b[?25l\r\u001b[K     |██▎                             | 10 kB 21.6 MB/s eta 0:00:01\r\u001b[K     |████▌                           | 20 kB 27.3 MB/s eta 0:00:01\r\u001b[K     |██████▊                         | 30 kB 20.3 MB/s eta 0:00:01\r\u001b[K     |█████████                       | 40 kB 16.9 MB/s eta 0:00:01\r\u001b[K     |███████████▎                    | 51 kB 5.7 MB/s eta 0:00:01\r\u001b[K     |█████████████▌                  | 61 kB 6.2 MB/s eta 0:00:01\r\u001b[K     |███████████████▊                | 71 kB 5.5 MB/s eta 0:00:01\r\u001b[K     |██████████████████              | 81 kB 6.2 MB/s eta 0:00:01\r\u001b[K     |████████████████████▎           | 92 kB 6.1 MB/s eta 0:00:01\r\u001b[K     |██████████████████████▌         | 102 kB 5.4 MB/s eta 0:00:01\r\u001b[K     |████████████████████████▊       | 112 kB 5.4 MB/s eta 0:00:01\r\u001b[K     |███████████████████████████     | 122 kB 5.4 MB/s eta 0:00:01\r\u001b[K     |█████████████████████████████▎  | 133 kB 5.4 MB/s eta 0:00:01\r\u001b[K     |███████████████████████████████▌| 143 kB 5.4 MB/s eta 0:00:01\r\u001b[K     |████████████████████████████████| 145 kB 5.4 MB/s \n",
            "\u001b[?25hRequirement already satisfied: docopt>=0.4.0 in /usr/local/lib/python3.7/dist-packages (from grip) (0.6.2)\n",
            "Requirement already satisfied: Flask>=0.10.1 in /usr/local/lib/python3.7/dist-packages (from grip) (1.1.4)\n",
            "Requirement already satisfied: Markdown>=2.5.1 in /usr/local/lib/python3.7/dist-packages (from grip) (3.3.4)\n",
            "Collecting path-and-address>=2.0.1\n",
            "  Downloading path-and-address-2.0.1.zip (6.5 kB)\n",
            "Requirement already satisfied: Pygments>=1.6 in /usr/local/lib/python3.7/dist-packages (from grip) (2.6.1)\n",
            "Requirement already satisfied: requests>=2.4.1 in /usr/local/lib/python3.7/dist-packages (from grip) (2.25.1)\n",
            "Requirement already satisfied: Jinja2<3.0,>=2.10.1 in /usr/local/lib/python3.7/dist-packages (from Flask>=0.10.1->grip) (2.11.3)\n",
            "Requirement already satisfied: Werkzeug<2.0,>=0.15 in /usr/local/lib/python3.7/dist-packages (from Flask>=0.10.1->grip) (1.0.1)\n",
            "Requirement already satisfied: click<8.0,>=5.1 in /usr/local/lib/python3.7/dist-packages (from Flask>=0.10.1->grip) (7.1.2)\n",
            "Requirement already satisfied: itsdangerous<2.0,>=0.24 in /usr/local/lib/python3.7/dist-packages (from Flask>=0.10.1->grip) (1.1.0)\n",
            "Requirement already satisfied: MarkupSafe>=0.23 in /usr/local/lib/python3.7/dist-packages (from Jinja2<3.0,>=2.10.1->Flask>=0.10.1->grip) (2.0.1)\n",
            "Requirement already satisfied: importlib-metadata in /usr/local/lib/python3.7/dist-packages (from Markdown>=2.5.1->grip) (4.8.1)\n",
            "Requirement already satisfied: certifi>=2017.4.17 in /usr/local/lib/python3.7/dist-packages (from requests>=2.4.1->grip) (2021.5.30)\n",
            "Requirement already satisfied: chardet<5,>=3.0.2 in /usr/local/lib/python3.7/dist-packages (from requests>=2.4.1->grip) (3.0.4)\n",
            "Requirement already satisfied: urllib3<1.27,>=1.21.1 in /usr/local/lib/python3.7/dist-packages (from requests>=2.4.1->grip) (1.24.3)\n",
            "Requirement already satisfied: idna<3,>=2.5 in /usr/local/lib/python3.7/dist-packages (from requests>=2.4.1->grip) (2.10)\n",
            "Requirement already satisfied: typing-extensions>=3.6.4 in /usr/local/lib/python3.7/dist-packages (from importlib-metadata->Markdown>=2.5.1->grip) (3.7.4.3)\n",
            "Requirement already satisfied: zipp>=0.5 in /usr/local/lib/python3.7/dist-packages (from importlib-metadata->Markdown>=2.5.1->grip) (3.6.0)\n",
            "Building wheels for collected packages: grip, path-and-address\n",
            "  Building wheel for grip (setup.py) ... \u001b[?25l\u001b[?25hdone\n",
            "  Created wheel for grip: filename=grip-4.5.2-py3-none-any.whl size=136367 sha256=dea90dc5d319e71273e044e9c8a7677fb828d3c9a21b8d0e2a57523e1161e1b1\n",
            "  Stored in directory: /root/.cache/pip/wheels/7b/30/85/3e6f333b21d81da3ae09530c732912f8015db564f757a92d54\n",
            "  Building wheel for path-and-address (setup.py) ... \u001b[?25l\u001b[?25hdone\n",
            "  Created wheel for path-and-address: filename=path_and_address-2.0.1-py3-none-any.whl size=4070 sha256=42badd9dc20c6f02d49d8e8c509a28c817ba9011dee3e96ae855f7e2360068df\n",
            "  Stored in directory: /root/.cache/pip/wheels/97/ca/51/f8e74824b3054356141ac2dea86cea46efc55c02898fe11527\n",
            "Successfully built grip path-and-address\n",
            "Installing collected packages: path-and-address, grip\n",
            "Successfully installed grip-4.5.2 path-and-address-2.0.1\n"
          ]
        }
      ]
    },
    {
      "cell_type": "code",
      "metadata": {
        "id": "YXng0F4dSi4i",
        "outputId": "23a03044-b608-478e-ae67-842c492586bc",
        "colab": {
          "base_uri": "https://localhost:8080/",
          "height": 425
        }
      },
      "source": [
        "!pip install grip\n",
        "from google.colab.output import eval_js\n",
        "print(eval_js(\"google.colab.kernel.proxyPort(8000)\"))\n",
        "!grip 8000"
      ],
      "execution_count": 18,
      "outputs": [
        {
          "output_type": "display_data",
          "data": {
            "text/html": [
              "\n",
              "  <style>\n",
              "    pre {\n",
              "        white-space: pre-wrap;\n",
              "    }\n",
              "  </style>\n",
              "  "
            ],
            "text/plain": [
              "<IPython.core.display.HTML object>"
            ]
          },
          "metadata": {}
        },
        {
          "output_type": "stream",
          "name": "stdout",
          "text": [
            "Requirement already satisfied: grip in /usr/local/lib/python3.7/dist-packages (4.5.2)\n",
            "Requirement already satisfied: Markdown>=2.5.1 in /usr/local/lib/python3.7/dist-packages (from grip) (3.3.4)\n",
            "Requirement already satisfied: Flask>=0.10.1 in /usr/local/lib/python3.7/dist-packages (from grip) (1.1.4)\n",
            "Requirement already satisfied: docopt>=0.4.0 in /usr/local/lib/python3.7/dist-packages (from grip) (0.6.2)\n",
            "Requirement already satisfied: requests>=2.4.1 in /usr/local/lib/python3.7/dist-packages (from grip) (2.25.1)\n",
            "Requirement already satisfied: path-and-address>=2.0.1 in /usr/local/lib/python3.7/dist-packages (from grip) (2.0.1)\n",
            "Requirement already satisfied: Pygments>=1.6 in /usr/local/lib/python3.7/dist-packages (from grip) (2.6.1)\n",
            "Requirement already satisfied: itsdangerous<2.0,>=0.24 in /usr/local/lib/python3.7/dist-packages (from Flask>=0.10.1->grip) (1.1.0)\n",
            "Requirement already satisfied: click<8.0,>=5.1 in /usr/local/lib/python3.7/dist-packages (from Flask>=0.10.1->grip) (7.1.2)\n",
            "Requirement already satisfied: Werkzeug<2.0,>=0.15 in /usr/local/lib/python3.7/dist-packages (from Flask>=0.10.1->grip) (1.0.1)\n",
            "Requirement already satisfied: Jinja2<3.0,>=2.10.1 in /usr/local/lib/python3.7/dist-packages (from Flask>=0.10.1->grip) (2.11.3)\n",
            "Requirement already satisfied: MarkupSafe>=0.23 in /usr/local/lib/python3.7/dist-packages (from Jinja2<3.0,>=2.10.1->Flask>=0.10.1->grip) (2.0.1)\n",
            "Requirement already satisfied: importlib-metadata in /usr/local/lib/python3.7/dist-packages (from Markdown>=2.5.1->grip) (4.8.1)\n",
            "Requirement already satisfied: chardet<5,>=3.0.2 in /usr/local/lib/python3.7/dist-packages (from requests>=2.4.1->grip) (3.0.4)\n",
            "Requirement already satisfied: urllib3<1.27,>=1.21.1 in /usr/local/lib/python3.7/dist-packages (from requests>=2.4.1->grip) (1.24.3)\n",
            "Requirement already satisfied: idna<3,>=2.5 in /usr/local/lib/python3.7/dist-packages (from requests>=2.4.1->grip) (2.10)\n",
            "Requirement already satisfied: certifi>=2017.4.17 in /usr/local/lib/python3.7/dist-packages (from requests>=2.4.1->grip) (2021.5.30)\n",
            "Requirement already satisfied: typing-extensions>=3.6.4 in /usr/local/lib/python3.7/dist-packages (from importlib-metadata->Markdown>=2.5.1->grip) (3.7.4.3)\n",
            "Requirement already satisfied: zipp>=0.5 in /usr/local/lib/python3.7/dist-packages (from importlib-metadata->Markdown>=2.5.1->grip) (3.6.0)\n",
            "https://t9tff1neg1-496ff2e9c6d22116-8000-colab.googleusercontent.com/\n",
            "Error: No README found at .\n"
          ]
        }
      ]
    },
    {
      "cell_type": "code",
      "metadata": {
        "id": "Shgf_1CZSkI1",
        "outputId": "dbad4de4-1b2a-4d62-d285-ecf8ef070021",
        "colab": {
          "base_uri": "https://localhost:8080/",
          "height": 119
        }
      },
      "source": [
        "!pip install flask"
      ],
      "execution_count": 19,
      "outputs": [
        {
          "output_type": "display_data",
          "data": {
            "text/html": [
              "\n",
              "  <style>\n",
              "    pre {\n",
              "        white-space: pre-wrap;\n",
              "    }\n",
              "  </style>\n",
              "  "
            ],
            "text/plain": [
              "<IPython.core.display.HTML object>"
            ]
          },
          "metadata": {}
        },
        {
          "output_type": "stream",
          "name": "stdout",
          "text": [
            "Requirement already satisfied: flask in /usr/local/lib/python3.7/dist-packages (1.1.4)\n",
            "Requirement already satisfied: Jinja2<3.0,>=2.10.1 in /usr/local/lib/python3.7/dist-packages (from flask) (2.11.3)\n",
            "Requirement already satisfied: Werkzeug<2.0,>=0.15 in /usr/local/lib/python3.7/dist-packages (from flask) (1.0.1)\n",
            "Requirement already satisfied: click<8.0,>=5.1 in /usr/local/lib/python3.7/dist-packages (from flask) (7.1.2)\n",
            "Requirement already satisfied: itsdangerous<2.0,>=0.24 in /usr/local/lib/python3.7/dist-packages (from flask) (1.1.0)\n",
            "Requirement already satisfied: MarkupSafe>=0.23 in /usr/local/lib/python3.7/dist-packages (from Jinja2<3.0,>=2.10.1->flask) (2.0.1)\n"
          ]
        }
      ]
    }
  ]
}