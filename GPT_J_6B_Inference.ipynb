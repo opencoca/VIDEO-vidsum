{
  "nbformat": 4,
  "nbformat_minor": 0,
  "metadata": {
    "accelerator": "TPU",
    "colab": {
      "name": "Working GPT-J-6B Inference.ipynb",
      "provenance": [],
      "collapsed_sections": [],
      "toc_visible": true,
      "machine_shape": "hm",
      "include_colab_link": true
    },
    "kernelspec": {
      "display_name": "Python 3",
      "name": "python3"
    },
    "language_info": {
      "name": "python"
    }
  },
  "cells": [
    {
      "cell_type": "markdown",
      "metadata": {
        "id": "view-in-github",
        "colab_type": "text"
      },
      "source": [
        "<a href=\"https://colab.research.google.com/github/opencoca/vidsum/blob/master/GPT_J_6B_Inference.ipynb\" target=\"_parent\"><img src=\"https://colab.research.google.com/assets/colab-badge.svg\" alt=\"Open In Colab\"/></a>"
      ]
    },
    {
      "cell_type": "markdown",
      "metadata": {
        "id": "pHIJVqHsh4An"
      },
      "source": [
        "# GPT-J-6B Inference \n",
        "\n",
        "This notebook explores how to work with the [GPT-J-6B model](https://github.com/kingoflolz/mesh-transformer-jax/#GPT-J-6B). See the link for more details about the model, including evaluation metrics and credits.\n",
        "\n",
        "Please note it takes ~10 minutes for this notebook to fully spin up. Sometimes you will runout of ram when attempting to setup the model. If this happens factory restart the runtime and try again. If it contines to happen ...\n",
        "\n",
        "Start this notebok by clicking `Runtime > Run all` or clicking `⌘/Ctrl+F9`. Use `⌘` on Mac and `Ctrl` on Windows and Linux. \n",
        "\n",
        "Keep an eye on this as it spins up. Google likes to make sure you are not a bot and will stop things if you ignore the \"I'm not a robot\" popup."
      ]
    },
    {
      "cell_type": "markdown",
      "metadata": {
        "id": "8CMw_dSQKfhT"
      },
      "source": [
        "## Prepare it to be used\n",
        "\n",
        "### Install Dependencies\n",
        "\n",
        "First we download the model and install some dependencies. This step takes at least 5 minutes (possibly longer depending on server load).\n",
        "\n",
        "!!! **Make sure you are using a TPU runtime!** !!!"
      ]
    },
    {
      "cell_type": "code",
      "metadata": {
        "id": "YT1XmBc7BHwI"
      },
      "source": [
        "#@title Install Tensorflow\n",
        "!pip install tensorflow==2.5.0"
      ],
      "execution_count": null,
      "outputs": []
    },
    {
      "cell_type": "code",
      "metadata": {
        "cellView": "form",
        "id": "n7xAFw-LOYfe"
      },
      "source": [
        "#@title Install GPT-J-6B\n",
        "!apt install zstd\n",
        "\n",
        "# the \"slim\" version contain only bf16 weights and no optimizer parameters, which minimizes bandwidth and memory\n",
        "!time wget -c https://the-eye.eu/public/AI/GPT-J-6B/step_383500_slim.tar.zstd\n",
        "\n",
        "!time tar -I zstd -xf step_383500_slim.tar.zstd\n",
        "\n",
        "!git clone https://github.com/kingoflolz/mesh-transformer-jax.git\n",
        "!pip install -r mesh-transformer-jax/requirements.txt\n",
        "\n",
        "# jax 0.2.12 is required due to a regression with xmap in 0.2.13\n",
        "!pip install mesh-transformer-jax/ jax==0.2.12"
      ],
      "execution_count": null,
      "outputs": []
    },
    {
      "cell_type": "markdown",
      "metadata": {
        "id": "aO1UXepF-0Uq"
      },
      "source": [
        "## Setup Model\n",
        "\n",
        "You may have to restart your runtime before this will work. \n",
        "\n"
      ]
    },
    {
      "cell_type": "code",
      "metadata": {
        "cellView": "form",
        "id": "ex0qJgaueZtJ"
      },
      "source": [
        "#@title Setup JAX for TPU use\n",
        "import os\n",
        "import requests \n",
        "from jax.config import config\n",
        "\n",
        "colab_tpu_addr = os.environ['COLAB_TPU_ADDR'].split(':')[0]\n",
        "url = f'http://{colab_tpu_addr}:8475/requestversion/tpu_driver0.1_dev20210607'\n",
        "requests.post(url)\n",
        "\n",
        "# The following is required to use TPU Driver as JAX's backend.\n",
        "config.FLAGS.jax_xla_backend = \"tpu_driver\"\n",
        "config.FLAGS.jax_backend_target = \"grpc://\" + os.environ['COLAB_TPU_ADDR']"
      ],
      "execution_count": null,
      "outputs": []
    },
    {
      "cell_type": "markdown",
      "metadata": {
        "id": "NIgUVdFLe4A8"
      },
      "source": [
        "Sometimes the next step errors for some reason, just run it again ¯\\\\\\_(ツ)\\_/¯"
      ]
    },
    {
      "cell_type": "code",
      "metadata": {
        "id": "-A5IGYSaeze3"
      },
      "source": [
        "#@title Import libraries\n",
        "import time\n",
        "\n",
        "import jax\n",
        "from jax.experimental import maps\n",
        "import numpy as np\n",
        "import optax\n",
        "import transformers\n",
        "\n",
        "from mesh_transformer.checkpoint import read_ckpt\n",
        "from mesh_transformer.sampling import nucleaus_sample\n",
        "from mesh_transformer.transformer_shard import CausalTransformer"
      ],
      "execution_count": null,
      "outputs": []
    },
    {
      "cell_type": "code",
      "metadata": {
        "id": "QAgKq-X2kmba",
        "cellView": "form"
      },
      "source": [
        "#@title Set Network Parameters \n",
        "params = {\n",
        "  \"layers\": 28,\n",
        "  \"d_model\": 4096,\n",
        "  \"n_heads\": 16,\n",
        "  \"n_vocab\": 50400,\n",
        "  \"norm\": \"layernorm\",\n",
        "  \"pe\": \"rotary\",\n",
        "  \"pe_rotary_dims\": 64,\n",
        "\n",
        "  \"seq\": 2048,\n",
        "  \"cores_per_replica\": 8,\n",
        "  \"per_replica_batch\": 1,\n",
        "}\n",
        "\n",
        "per_replica_batch = params[\"per_replica_batch\"]\n",
        "cores_per_replica = params[\"cores_per_replica\"]\n",
        "seq = params[\"seq\"]\n",
        "\n",
        "\n",
        "params[\"sampler\"] = nucleaus_sample\n",
        "\n",
        "# here we \"remove\" the optimizer parameters from the model (as we don't need them for inference)\n",
        "params[\"optimizer\"] = optax.scale(0)\n",
        "\n",
        "mesh_shape = (jax.device_count() // cores_per_replica, cores_per_replica)\n",
        "devices = np.array(jax.devices()).reshape(mesh_shape)\n",
        "\n",
        "maps.thread_resources.env = maps.ResourceEnv(maps.Mesh(devices, ('dp', 'mp')))\n",
        "\n",
        "tokenizer = transformers.GPT2TokenizerFast.from_pretrained('gpt2')"
      ],
      "execution_count": null,
      "outputs": []
    },
    {
      "cell_type": "code",
      "metadata": {
        "cellView": "form",
        "id": "T7kJZTkVQ2CZ"
      },
      "source": [
        "#@title Install Tracery \n",
        "#@markdown Tracery is a gramar for spining articles, stories, and text in general. https://github.com/aparrish/pytracery\n",
        "!pip install tracery"
      ],
      "execution_count": null,
      "outputs": []
    },
    {
      "cell_type": "code",
      "metadata": {
        "id": "-xgsL0IFTZt0"
      },
      "source": [
        "#@title Tidy things up\n",
        "from IPython.display import clear_output\n",
        "clear_output()"
      ],
      "execution_count": null,
      "outputs": []
    },
    {
      "cell_type": "code",
      "metadata": {
        "colab": {
          "base_uri": "https://localhost:8080/"
        },
        "id": "lwNETD2Uk8nu",
        "outputId": "0239e4c2-a775-43aa-fec5-3e229bd2e218"
      },
      "source": [
        "#@title Create the network\n",
        "#@markdown ...loading neural weights from the downloaded files. \n",
        "#@markdown\n",
        "#@markdown  > *This can take around 5 minutes.*\n",
        "total_batch = per_replica_batch * jax.device_count() // cores_per_replica\n",
        "\n",
        "network = CausalTransformer(params)\n",
        "\n",
        "network.state = read_ckpt(network.state, \"step_383500/\", devices.shape[1])\n",
        "\n",
        "network.state = network.move_xmap(network.state, np.zeros(cores_per_replica))"
      ],
      "execution_count": 7,
      "outputs": [
        {
          "output_type": "stream",
          "name": "stdout",
          "text": [
            "Total parameters: 6053381344\n",
            "read from disk/gcs in 34.895s\n"
          ]
        }
      ]
    },
    {
      "cell_type": "markdown",
      "metadata": {
        "id": "A-eT7Sw6if4J"
      },
      "source": [
        "# Run Model\n",
        "\n",
        "Finally, we are ready to infer with the model! The first sample takes around a minute due to compilation, but after that it should only take about 10 seconds per sample.\n",
        "\n",
        "Feel free to mess with the different sampling parameters (top_p and temp), as well as the length of the generations (gen_len, causes a recompile when initially changed - recompiles will be cached).\n",
        "\n",
        "You can also change other things like per_replica_batch in the previous cells to change how many generations are done in parallel. A larger batch has higher latency but higher throughput when measured in tokens generated/s. This is useful for doing things like best-of-n cherry picking.\n",
        "\n",
        "*Tip for best results: Make sure your prompt does not have any trailing spaces, which tend to confuse the model due to the BPE tokenization used during training.*"
      ]
    },
    {
      "cell_type": "code",
      "metadata": {
        "id": "TuZq54dh8opl",
        "cellView": "form"
      },
      "source": [
        "#@markdown We allow for text wrapping of whitespace via css injection.\n",
        "\n",
        "# allow text wrapping in generated output: https://stackoverflow.com/a/61401455\n",
        "from IPython.display import HTML, display\n",
        "\n",
        "def set_css():\n",
        "  display(HTML('''\n",
        "  <style>\n",
        "    pre {\n",
        "        white-space: pre-wrap;\n",
        "    }\n",
        "  </style>\n",
        "  '''))\n",
        "get_ipython().events.register('pre_run_cell', set_css)"
      ],
      "execution_count": 8,
      "outputs": []
    },
    {
      "cell_type": "code",
      "metadata": {
        "colab": {
          "base_uri": "https://localhost:8080/",
          "height": 17
        },
        "id": "ZVzs2TYlvYeX",
        "outputId": "95be584f-c13a-4622-a706-0f5973cc7ef3"
      },
      "source": [
        "#@title Define our infer function. \n",
        "def infer(context, top_p=0.9, temp=1.0, gen_len=256):\n",
        "    tokens = tokenizer.encode(context)\n",
        "\n",
        "    provided_ctx = len(tokens)\n",
        "    pad_amount = seq - provided_ctx\n",
        "\n",
        "    padded_tokens = np.pad(tokens, ((pad_amount, 0),)).astype(np.uint32)\n",
        "    batched_tokens = np.array([padded_tokens] * total_batch)\n",
        "    length = np.ones(total_batch, dtype=np.uint32) * len(tokens)\n",
        "\n",
        "    start = time.time()\n",
        "    output = network.generate(batched_tokens, length, gen_len, {\"top_p\": np.ones(total_batch) * top_p, \"temp\": np.ones(total_batch) * temp})\n",
        "\n",
        "    samples = []\n",
        "    decoded_tokens = output[1][0]\n",
        "\n",
        "    for o in decoded_tokens[:, :, 0]:\n",
        "      samples.append(f\"\\033[1m{context}\\033[0m{tokenizer.decode(o)}\")\n",
        "\n",
        "    #print(f\"completion done in {time.time() - start:06}s\")\n",
        "    #this should instead be added to the object returned infered.samples and infered.completion_time\n",
        "    return samples\n",
        "\n",
        "\n"
      ],
      "execution_count": 9,
      "outputs": [
        {
          "output_type": "display_data",
          "data": {
            "text/html": [
              "\n",
              "  <style>\n",
              "    pre {\n",
              "        white-space: pre-wrap;\n",
              "    }\n",
              "  </style>\n",
              "  "
            ],
            "text/plain": [
              "<IPython.core.display.HTML object>"
            ]
          },
          "metadata": {}
        }
      ]
    },
    {
      "cell_type": "code",
      "metadata": {
        "colab": {
          "base_uri": "https://localhost:8080/",
          "height": 1000
        },
        "id": "rjWw1zkEOP8z",
        "outputId": "216beab6-a7a2-4a47-df4a-538c799e5e55"
      },
      "source": [
        "#@title Warmup our inference engine \n",
        "#@markdown The first time that infrences are run for a given length takes imensly longer than on repeated runs. For this reason we spin up the inference engine with a few sample runs. With this out of the way we can quickly experiment with our infrence engine. \n",
        "\n",
        "context = \"\"\"# A NEW WAY TO WORK IN THE OLD PORT OF MONTREAL AT SPACES CITÉ MULTIMÉDIA\n",
        "\n",
        "## The Old Port of Montreal is a\"\"\"\n",
        "\n",
        "for i in [32,64,128,256,512,1024]:\n",
        "  print(\"- - - - - - - - - - - - - - - - - - - - - - - - - - - - - - - - - - - - - - - - - - - - -\")\n",
        "  print(f\" ## Infering context with a gen_len of {i} this should take ~ {i/16} sec. when run again ##\")\n",
        "  print(\"- - - - - - - - - - - - - - - - - - - - - - - - - - - - - - - - - - - - - - - - - - - - -\")\n",
        "  print(infer(context, gen_len=i)[0])"
      ],
      "execution_count": 10,
      "outputs": [
        {
          "output_type": "display_data",
          "data": {
            "text/html": [
              "\n",
              "  <style>\n",
              "    pre {\n",
              "        white-space: pre-wrap;\n",
              "    }\n",
              "  </style>\n",
              "  "
            ],
            "text/plain": [
              "<IPython.core.display.HTML object>"
            ]
          },
          "metadata": {}
        },
        {
          "output_type": "stream",
          "name": "stdout",
          "text": [
            "- - - - - - - - - - - - - - - - - - - - - - - - - - - - - - - - - - - - - - - - - - - - -\n",
            " ## Infering context with a gen_len of 32 this should take ~ 2.0 sec. when run again ##\n",
            "- - - - - - - - - - - - - - - - - - - - - - - - - - - - - - - - - - - - - - - - - - - - -\n",
            "\u001b[1m# A NEW WAY TO WORK IN THE OLD PORT OF MONTREAL AT SPACES CITÉ MULTIMÉDIA\n",
            "\n",
            "## The Old Port of Montreal is a\u001b[0m large urban park for all to enjoy, offering more than four hundred _places_ for leisure, the arts, sports, study, and relaxation, along with numerous\n",
            "- - - - - - - - - - - - - - - - - - - - - - - - - - - - - - - - - - - - - - - - - - - - -\n",
            " ## Infering context with a gen_len of 64 this should take ~ 4.0 sec. when run again ##\n",
            "- - - - - - - - - - - - - - - - - - - - - - - - - - - - - - - - - - - - - - - - - - - - -\n",
            "\u001b[1m# A NEW WAY TO WORK IN THE OLD PORT OF MONTREAL AT SPACES CITÉ MULTIMÉDIA\n",
            "\n",
            "## The Old Port of Montreal is a\u001b[0m Field of Opportunity\n",
            "\n",
            "Barcelona has been a city of international distinction for decades. However, a greater part of its economy, particularly the service economy, remains a national affair. Only about 20 percent of its total value is contributed by its cultural industry. Moreover, only 2 percent of the services industry in the city is\n",
            "- - - - - - - - - - - - - - - - - - - - - - - - - - - - - - - - - - - - - - - - - - - - -\n",
            " ## Infering context with a gen_len of 128 this should take ~ 8.0 sec. when run again ##\n",
            "- - - - - - - - - - - - - - - - - - - - - - - - - - - - - - - - - - - - - - - - - - - - -\n",
            "\u001b[1m# A NEW WAY TO WORK IN THE OLD PORT OF MONTREAL AT SPACES CITÉ MULTIMÉDIA\n",
            "\n",
            "## The Old Port of Montreal is a\u001b[0m traditional working neighbourhood that is being reinvented by Montreal's new waves of immigrants\n",
            "\n",
            "### Michael J. Fox (2007)\n",
            "\n",
            "In the Old Port, which was once Montreal's entry into the fishing industry, and which has now become a small, distinct neighbourhood on the border of downtown, old and new coexist without friction. It's the same on the banks of the Saint Lawrence river where many immigrants from Korea and Haiti have settled for over 40 years and have brought their traditional styles with them. The entire neighbourhood is in the midst of a process of gentrification, even though it remains extremely diverse and is still marked by an accent\n",
            "- - - - - - - - - - - - - - - - - - - - - - - - - - - - - - - - - - - - - - - - - - - - -\n",
            " ## Infering context with a gen_len of 256 this should take ~ 16.0 sec. when run again ##\n",
            "- - - - - - - - - - - - - - - - - - - - - - - - - - - - - - - - - - - - - - - - - - - - -\n",
            "\u001b[1m# A NEW WAY TO WORK IN THE OLD PORT OF MONTREAL AT SPACES CITÉ MULTIMÉDIA\n",
            "\n",
            "## The Old Port of Montreal is a\u001b[0m Confluence of Cultures\n",
            "\n",
            "Places de Montréal | Source\n",
            "\n",
            "Spaces de la Cité Multimédia was launched in 2005 with the goal of bringing more places to Montreal to benefit from the density of creative people and their businesses. The aim was also to add a cultural dimension to our collective experience. Today, Spaces de la Cité Multimédia welcomes nearly 20 different organizations and more than 40 venues. We are committed to helping businesses and creative people work out of these venues.\n",
            "\n",
            "[Visit spacescdn.ca/en](http://spacescdn.ca/en)\n",
            "\n",
            "This space for creative work includes, among other things:\n",
            "\n",
            "  * Alternative weekly and monthly magazines such as MonDroit, FGM and  _Multitudes_ (MonDroit)\n",
            "  * Museums and art galleries such as the Montreal Museum of Contemporary Art, Société d'art contemporain, and the CAFE\n",
            "  * Theatre, dance, music and literary organizations\n",
            "  * Distilleries and wineries such as Les Chevaliers du cidre, Cidréroys, Maisonneuve, Énergie-Île et L'Eau, Château\n",
            "- - - - - - - - - - - - - - - - - - - - - - - - - - - - - - - - - - - - - - - - - - - - -\n",
            " ## Infering context with a gen_len of 512 this should take ~ 32.0 sec. when run again ##\n",
            "- - - - - - - - - - - - - - - - - - - - - - - - - - - - - - - - - - - - - - - - - - - - -\n",
            "\u001b[1m# A NEW WAY TO WORK IN THE OLD PORT OF MONTREAL AT SPACES CITÉ MULTIMÉDIA\n",
            "\n",
            "## The Old Port of Montreal is a\u001b[0m perfect example of an abandoned waterfront—a space full of potential, barely taken advantage of. Once part of an industrial area, and then a commercial area, this district was mainly left to decay and become a space full of garbage, thus enhancing the image of a rustic, dirty, and slightly disreputable city.\n",
            "\n",
            "On the occasion of a series of events in 2016, this space was considered for the first time by the owner, Culture Québec, in conjunction with the city of Montreal, as a cultural site, within the framework of a pilot project aimed at using abandoned areas to develop new artistic and cultural initiatives. In this case, the theme is creative and experimental activities, using the existing infrastructure of the site and its history of waterfront activities.\n",
            "\n",
            "The first work developed on this site included the transformation of the Mirabito, the Café Rivard, and a small store into the Salomé Follet reading room and library, devoted to supporting and enriching reading practices in the city of Montreal. The aim was to preserve the city's material heritage and the space's history while increasing its visibility and offering a new vision of reading and leisure. The café and store were totally transformed using the space of the two rooftops of the building. The Café Rivard also serves as a meeting point for young Quebecois people living on the periphery. The information desk serves as a table for people waiting to be served and gives passersby more details about this space.\n",
            "\n",
            "The second development is also based on the idea that an abandoned area can be transformed into a place where creative cultural initiatives can flourish. Within the frame of this work, a workshop space was proposed for experimentation and production. This workshop will be based on the experience of the ceramic artist Hector Salomé Follet, who creates work with memory. With this workshop, Hector will develop his personal projects, which will then be shared with the community. As a first step, he will propose the creation of a small workshop that will be open to a broader public. In fact, the ideas of Hector Salomé Follet will be a key element in the creation of this unique space.\n",
            "\n",
            "These two projects demonstrate a creative and experimental approach in using abandoned spaces, offering a novel vision and enriching the cultural life of the city.\n",
            "\n",
            "# PART II\n",
            "\n",
            "# SENSING THE CITY\n",
            "\n",
            "# FROM BEAUTY TO THE INTELLIGIBLE\n",
            "\n",
            "## Following nature's path\n",
            "\n",
            "At the risk of repeating the same message, it is essential\n",
            "- - - - - - - - - - - - - - - - - - - - - - - - - - - - - - - - - - - - - - - - - - - - -\n",
            " ## Infering context with a gen_len of 1024 this should take ~ 64.0 sec. when run again ##\n",
            "- - - - - - - - - - - - - - - - - - - - - - - - - - - - - - - - - - - - - - - - - - - - -\n",
            "\u001b[1m# A NEW WAY TO WORK IN THE OLD PORT OF MONTREAL AT SPACES CITÉ MULTIMÉDIA\n",
            "\n",
            "## The Old Port of Montreal is a\u001b[0m private sector success story\n",
            "\n",
            "Dr. Paul Saulnier\n",
            "\n",
            "Pierre Leduc, Office of the Deputy Mayor (Economic Development and Employment)\n",
            "\n",
            "Rémy Maillet, Vice-President of the Société de développement économique du centre-ville (SODEC)\n",
            "\n",
            "Linda Pichette, Executive Director, Centre de coopération culturelle métropolitaine\n",
            "\n",
            "Lisa Gauthier, Executive Director, Recherches Stratégiques\n",
            "\n",
            "Serge Sarrailh-Gagneux, President, CPE YD\n",
            "\n",
            "Roseline Jugois-Filion, CPE Développement Économique de Montréal\n",
            "\n",
            "Wendy Sampson, Executive Director, Network Development Alliance for Montreal\n",
            "\n",
            "Leif Landgren, Director General, Ospedale Provinciale de Montréal\n",
            "\n",
            "Pierre Pétition, CPE Expression visuelle\n",
            "\n",
            "Béatrice Rioux, Co-Founder, Productive City\n",
            "\n",
            "Patrice Duchaine, SPEXCITE\n",
            "\n",
            "Luc Bouchard, Paris-Montréal Institute\n",
            "\n",
            "## The Old Port of Montreal is the beating heart of Montreal and its unique entrepreneurial spirit is alive and well.\n",
            "\n",
            "Paul Saulnier, PhD\n",
            "\n",
            "Executive Director, Productive City, City of Montreal\n",
            "\n",
            "## In what ways has the Old Port developed and evolved over time?\n",
            "\n",
            "When the Old Port was first established, a medieval quarter that comprised the borough of Montreal, it was the site of some of the city's most active enterprises in timber, textiles, paper, textiles, food processing and shipbuilding. After the 1867 fire, entrepreneurs built new commercial buildings along the walls and wooden quays. The south side of the Old Port remained the industrial area with small scale processing and manufacturing facilities. The northern and eastern part of the Old Port became a commercial centre with hotels, restaurants, commercial buildings and the commercial exchanges.\n",
            "\n",
            "The Old Port then evolved as part of an urban design process that involved a complete redesign of the commercial core area, complete with new traffic and lighting control, and the overall expansion of the scope of what was called the administrative centre of Montreal. This monumental move made the Old Port part of Montreal's commercial capital for a century.\n",
            "\n",
            "Over the last few decades, the Old Port has been undergoing another transformation with the return of heritage buildings, a revitalized culinary and cultural scene, a revitalized culture and shopping environment, a rise in personal and professional services, technology, life sciences, start-ups and more.\n",
            "\n",
            "## In the last decade, what challenges have the businesses and organizations operating in the Old Port and the city of Montreal faced?\n",
            "\n",
            "The decline of industries, the opening of new services, the many proposed changes in regulations and zoning, and the rise of real estate values and rental prices have all played a part in the increase in rental prices and the need to attract tenants.\n",
            "\n",
            "Within the Old Port, restaurants and shops have had to adjust to the increasing demand for dining options, changing tastes and consumer habits. The Old Port now also includes a number of cultural venues and artistic presentations, which has also resulted in the need to adapt the buildings to accommodate such activities.\n",
            "\n",
            "Lovers of the culinary arts will find the Old Port's new generation of restaurants well worth exploring. Boutiques, small businesses and social entrepreneurs need to find ways to ensure that their investment is profitable.\n",
            "\n",
            "## Can we recognize any progress in the overall health of the Old Port?\n",
            "\n",
            "Yes! The major event that marked the renewal of the Old Port of Montreal in the 2000s was the replacement of the grey granite and slate with gleaming glass and green on the green roof.\n",
            "\n",
            "## In general, what do we feel are the main issues that are limiting the opportunities and competitiveness of small businesses in the Old Port?\n",
            "\n",
            "We feel that a limiting factor for the development of businesses is the lack of available facilities. There is little space for growth. Larger companies have a larger footprint. Smaller businesses have a harder time securing their place in the market and of finding a more stable footing.\n",
            "\n",
            "Larger enterprises and organizations have the capacity to offer more facilities, which is not the case for many entrepreneurs and small businesses. Smaller enterprises and organizations have more constraints on available spaces and infrastructure and a harder time securing the space they need.\n",
            "\n",
            "The Old Port of Montreal has played a key role in the revitalization of its core. The redevelopment of the Old Port, with the addition of new services and infrastructures, and the overall transformation of the commercial capital of Montreal has been part of the city's strategy for growth and prosperity. The Old Port, the Old Port Commercial Centre (OPCC) and the Old Port Corporation (OPC) have come to play a significant role in the rebirth of the city.\n",
            "\n",
            "## The development of the OPC and the OPCC has included such things as\n"
          ]
        }
      ]
    },
    {
      "cell_type": "markdown",
      "metadata": {
        "id": "mO89-sKMrucR"
      },
      "source": [
        "# Example prompts\n",
        "\n",
        "We've compiled the model. At this point it should only take about 15 seconds per sample. The first time you run inference on a new dataset takes longer than usual because of compilation to build the graph and write data into disk buffers for fast access by CPUs/GPUs.\n",
        "\n",
        "The following parameters can be adjusted: top_p, temp, gen_len. When changing the length of generations (gen_len), recompilation is required to maintain accuracy and consistency in results.\n",
        "\n",
        "You can also change other things like the number of generations done in parallel and how many samples are generated. In addition, you can increase or decrease the batch size for latency/throughput tradeoffs as well. This is useful when performing best-of-n cherry picking tasks where throughput needs to be maximized with minimum batch time delay on each sample generation process.\n",
        "\n",
        "To get the best results, make sure your prompt does not have any trailing spaces. This is because BPE tokenization can be confused by them."
      ]
    },
    {
      "cell_type": "markdown",
      "metadata": {
        "id": "g-ViSfFkOUbS"
      },
      "source": [
        "## Simple Inference "
      ]
    },
    {
      "cell_type": "markdown",
      "metadata": {
        "id": "EStwU8WqXnBD"
      },
      "source": [
        "### Set Sampling Parameters\n"
      ]
    },
    {
      "cell_type": "code",
      "metadata": {
        "colab": {
          "base_uri": "https://localhost:8080/",
          "height": 17
        },
        "id": "akM-tZFTXnBE",
        "cellView": "form",
        "outputId": "9cb449ce-d69a-4ca8-8a25-99e891fa56a3"
      },
      "source": [
        "#@markdown ### Leave this alone unless you know what you are doing ... or are just having fun experimenting.\n",
        "#@markdown \n",
        "#@markdown - - - \n",
        "#@markdown Top_p controls diversity/quality. The higher our top_p the more rich and nuanced oir inferences can be.\n",
        "top_p = 0.9 #@param {type:\"slider\", min:0, max:1, step:0.1}\n",
        "#@markdown - - - \n",
        "#@markdown Temp controls randomnes. Low temps make for mechanical inferences.\n",
        "temp = 0.9 #@param {type:\"slider\", min:0, max:1, step:0.1}\n",
        "#@markdown - - - \n",
        "#@markdown Gen_len adjects the length of text infered.\n",
        "#@markdown Specifcily it adustes the nember of tokens (~4 per engish word).\n",
        "#@markdown\n",
        "#@markdown *Note: Changing gen_len will cause long wait times when first setting lengs that have not been set before.*\n",
        "#@markdown  \n",
        "gen_len = 64 #@param {type: \"slider\", min:64, max: 1024, step: 64}\n",
        "#@markdown - - - \n",
        "#@markdown Generate controls the number of inferences that will be generated.\n",
        "generate = 1 #@param {type: \"slider\", min:1, max: 12, step: 1}\n"
      ],
      "execution_count": 11,
      "outputs": [
        {
          "output_type": "display_data",
          "data": {
            "text/html": [
              "\n",
              "  <style>\n",
              "    pre {\n",
              "        white-space: pre-wrap;\n",
              "    }\n",
              "  </style>\n",
              "  "
            ],
            "text/plain": [
              "<IPython.core.display.HTML object>"
            ]
          },
          "metadata": {}
        }
      ]
    },
    {
      "cell_type": "markdown",
      "metadata": {
        "id": "0wUL-ryfYueS"
      },
      "source": [
        "### Text examples"
      ]
    },
    {
      "cell_type": "code",
      "metadata": {
        "colab": {
          "base_uri": "https://localhost:8080/",
          "height": 357
        },
        "id": "nvlAK6RbCJYg",
        "outputId": "c8365269-cb99-4629-8fe3-6fecc940487b"
      },
      "source": [
        "#@title Raw Context \n",
        "#@markdown This is an example of simple summery infrence.\n",
        "\n",
        "#print(\"Enter/Paste your content. Ctrl-D or Ctrl-Z ( windows ) to save it.\")\n",
        "#context = []\n",
        "#while True:\n",
        "#    try:\n",
        "#        line = input()\n",
        "#    except EOFError:\n",
        "#        break\n",
        "#    context.append(line)\n",
        "\n",
        "context = \"\"\"\"\n",
        "\n",
        "Article:\n",
        "\n",
        "t’s an intense crypto dogfight as dogecoin (DOGE) and shiba inu (SHIB), two of the most popular meme coins, battle it out for the ninth spot on the list of top digital assets by market capitalization. Some traders are profiting from the action by taking spread trades.\n",
        "\n",
        "DOGE has come alive after lagging SHIB by a significant margin earlier this month. The joke cryptocurrency surged to $0.335 on Coinbase on Thursday, hitting the highest level since Aug. 20. It was last trading near $0.30, representing a 22% gain on the day.\n",
        "\n",
        "Meanwhile, SHIB crashed as much as 30% to $0.00006 earlier today, having chalked out a rally to $0.00009 in the seven days to Oct. 27.\n",
        "\n",
        "Summery:\"\"\"\n",
        "\n",
        "print(infer(top_p=top_p, temp=1, gen_len=64, context=context)[0])"
      ],
      "execution_count": 38,
      "outputs": [
        {
          "output_type": "display_data",
          "data": {
            "text/html": [
              "\n",
              "  <style>\n",
              "    pre {\n",
              "        white-space: pre-wrap;\n",
              "    }\n",
              "  </style>\n",
              "  "
            ],
            "text/plain": [
              "<IPython.core.display.HTML object>"
            ]
          },
          "metadata": {}
        },
        {
          "output_type": "stream",
          "name": "stdout",
          "text": [
            "\u001b[1m\"\n",
            "\n",
            "Article:\n",
            "\n",
            "t’s an intense crypto dogfight as dogecoin (DOGE) and shiba inu (SHIB), two of the most popular meme coins, battle it out for the ninth spot on the list of top digital assets by market capitalization. Some traders are profiting from the action by taking spread trades.\n",
            "\n",
            "DOGE has come alive after lagging SHIB by a significant margin earlier this month. The joke cryptocurrency surged to $0.335 on Coinbase on Thursday, hitting the highest level since Aug. 20. It was last trading near $0.30, representing a 22% gain on the day.\n",
            "\n",
            "Meanwhile, SHIB crashed as much as 30% to $0.00006 earlier today, having chalked out a rally to $0.00009 in the seven days to Oct. 27.\n",
            "\n",
            "Summery:\u001b[0m\n",
            "\n",
            "Both DOGE and SHIB have registered consecutive gains over the past week. DOGE has been on an uptrend and is expected to gain further momentum in the near term. However, the sentiment has started to weaken and the coin is at risk of testing the bearish trendline. As SHIB\n"
          ]
        }
      ]
    },
    {
      "cell_type": "code",
      "metadata": {
        "colab": {
          "base_uri": "https://localhost:8080/",
          "height": 1000
        },
        "id": "g2omRWxDivro",
        "outputId": "124a901c-f64d-4613-95c9-b641a2a59ff6"
      },
      "source": [
        "#@title Expand into a script \n",
        "#@markdown The will expand a lead into a script bassed on the opening of pulp fiction.\n",
        "write_script_on_this = \"Feline biology is amazing\" #@param {type:\"string\"}\n",
        "\n",
        "#@markdown - - - - - - - - - - - - - - - - - - - - - - - - -\n",
        "#@markdown These options don't need to be adjusted.\n",
        "top_p = 0.9 #@ param {type:\"slider\", min:0, max:1, step:0.1}\n",
        "temp = 0.9 #@ param {type:\"slider\", min:0, max:1, step:0.1}\n",
        "gen_len = 512 #@param {type: \"slider\", min:64, max: 2048, step: 64}\n",
        "generate = 1 #@ param {type: \"slider\", min:1, max: 12, step: 1}\n",
        "#@markdown - - - - - - - - - - - - - - - - - - - - - - - - -\n",
        "\n",
        "\n",
        "context = \"\"\"\n",
        "\n",
        "INT. COMPUTER LAB – MORNING\n",
        "\n",
        "A normal computer lab, an office or university, Toronto Canada.\n",
        "It's about 9:00 in the morning. While the place isn't jammed,\n",
        "there's a healthy number of people working, drinking coffee, \n",
        "reading at their computers.\n",
        "\n",
        "Two of these people are a YOUNG MAN and a YOUNG WOMAN. The\n",
        "Young Man has a slight working-class English accent.\n",
        "\n",
        "             YOUNG MAN\n",
        "  I want to tell you about what we've been studying.\n",
        "\n",
        "             YOUNG WOMAN\n",
        "  Oh? What have you been focusing on? \n",
        "\n",
        "             YOUNG MAN\n",
        "  {expand_this}. For example\"\"\"\n",
        "\n",
        "\n",
        "for x in range(generate):\n",
        "  try:\n",
        "    print(infer(top_p=top_p, \n",
        "                temp=temp, \n",
        "                gen_len=gen_len, \n",
        "                context=context.format(expand_this = expand_this))[0])\n",
        "  except:\n",
        "    pass"
      ],
      "execution_count": 13,
      "outputs": [
        {
          "output_type": "display_data",
          "data": {
            "text/html": [
              "\n",
              "  <style>\n",
              "    pre {\n",
              "        white-space: pre-wrap;\n",
              "    }\n",
              "  </style>\n",
              "  "
            ],
            "text/plain": [
              "<IPython.core.display.HTML object>"
            ]
          },
          "metadata": {}
        },
        {
          "output_type": "stream",
          "name": "stdout",
          "text": [
            "\u001b[1m\n",
            "\n",
            "INT. COMPUTER LAB – MORNING\n",
            "\n",
            "A normal computer lab, an office or university, Toronto Canada.\n",
            "It's about 9:00 in the morning. While the place isn't jammed,\n",
            "there's a healthy number of people working, drinking coffee, \n",
            "reading at their computers.\n",
            "\n",
            "Two of these people are a YOUNG MAN and a YOUNG WOMAN. The\n",
            "Young Man has a slight working-class English accent.\n",
            "\n",
            "             YOUNG MAN\n",
            "  I want to tell you about what we've been studying.\n",
            "\n",
            "             YOUNG WOMAN\n",
            "  Oh? What have you been focusing on? \n",
            "\n",
            "             YOUNG MAN\n",
            "  Feline biology is amazing. For example\u001b[0m, they can talk.\n",
            "\n",
            "             YOUNG WOMAN\n",
            "  You're making that up.\n",
            "\n",
            "             YOUNG MAN\n",
            "  I've been doing research.\n",
            "                            \n",
            "  We've been studying more about felines, though.\n",
            "\n",
            "The two of them chat and their eyes meet, and there is a\n",
            "moment of connection. They smile at each other. They're\n",
            "friends. Then they get back to work.\n",
            "\n",
            "INT. TERRACE – DAY\n",
            "\n",
            "             YOUNG MAN\n",
            "  I'm looking for a good biologist.\n",
            "\n",
            "             YOUNG WOMAN\n",
            "  You are?\n",
            "\n",
            "             YOUNG MAN\n",
            "  Yes. I'm a \"feline biology specialist.\"\n",
            "                            \n",
            "  I'm having trouble finding one.\n",
            "                            \n",
            "  I don't want to put an ad in the paper. That's too\n",
            "  mainstream, and I would get...a lot of wrong responses.\n",
            "                            \n",
            "  I want someone who works in private. It would be better\n",
            "  for her to work alone. \n",
            "\n",
            "             YOUNG WOMAN\n",
            "  A biologist?\n",
            "                            \n",
            "  I'll see what I can find.\n",
            "\n",
            "...\n",
            "\n",
            "             YOUNG MAN\n",
            "  That's great!\n",
            "                            \n",
            "  I'm not great at finding things...but I'll keep my ears\n",
            "  open.\n",
            "\n",
            "   \n"
          ]
        }
      ]
    },
    {
      "cell_type": "code",
      "metadata": {
        "colab": {
          "base_uri": "https://localhost:8080/",
          "height": 221
        },
        "id": "eN8f4mvA97nG",
        "outputId": "d653adac-939f-44d4-d5a8-68ca6253f7ee"
      },
      "source": [
        "#@title Make a title sound more academic \n",
        "#@markdown  \n",
        "improve_this = \"we're going ti make an instrument using the potentiometer \" #@param {type:\"string\"}\n",
        "#@markdown - - -\n",
        "top_p = 0.9 #@param {type:\"slider\", min:0, max:1, step:0.1}\n",
        "temp = 0.9 #@param {type:\"slider\", min:0, max:1, step:0.1}\n",
        "gen_len = 64 #@param {type: \"slider\", min:64, max: 2048, step: 64}\n",
        "generate = 12 #@param {type: \"slider\", min:1, max: 12, step: 1}\n",
        "\n",
        "context = \"\"\"\n",
        "Instead of saying, \"{improve_this}\" a better shibboleth would be, \\\"\"\"\"\n",
        "\n",
        "#Indie Hackers want to click on titles such as \n",
        "#use something with more punch\n",
        "\n",
        "for x in range(generate):\n",
        "  try:\n",
        "    print(infer(top_p=top_p, \n",
        "                temp=temp, \n",
        "                gen_len=gen_len, \n",
        "                context=context.format(improve_this = improve_this))[0].split('\"')[3])\n",
        "  except:\n",
        "    pass"
      ],
      "execution_count": 14,
      "outputs": [
        {
          "output_type": "display_data",
          "data": {
            "text/html": [
              "\n",
              "  <style>\n",
              "    pre {\n",
              "        white-space: pre-wrap;\n",
              "    }\n",
              "  </style>\n",
              "  "
            ],
            "text/plain": [
              "<IPython.core.display.HTML object>"
            ]
          },
          "metadata": {}
        },
        {
          "output_type": "stream",
          "name": "stdout",
          "text": [
            "\u001b[0mwe're going to make an instrument that does something.\n",
            "\u001b[0mwe're going to make an instrument that is made out of a potentiometer \n",
            "\u001b[0mwe're going to use a potentiometer.\n",
            "\u001b[0mwe're going ti make an instrument using the potentiometer \n",
            "\u001b[0mwe're going to use the MOSFET\n",
            "\u001b[0mwe're going ti find the value of R2 when the pot is fully open\n",
            "\u001b[0mwe're going to manufacture one.\n",
            "\u001b[0mwe're going ti ask a potiometer to make an instrument\n",
            "\u001b[0mwe're going to make an instrument that uses the potentiometer.\n",
            "\u001b[0mwe're going ti make a source of feedback using a potentiometer \n",
            "\u001b[0mwe're going to use the potentiometer \n",
            "\u001b[0mwhat are you going to do with the variable resistor?\n"
          ]
        }
      ]
    },
    {
      "cell_type": "code",
      "metadata": {
        "colab": {
          "base_uri": "https://localhost:8080/",
          "height": 238
        },
        "id": "Vf63EvRmipH2",
        "outputId": "f5fa28f2-0651-46f3-e812-95bbaac5cac3"
      },
      "source": [
        "#@title Give headlines some more Clickbait \n",
        "improve_this = \"Make an instrument using the a light sensor \" #@param {type:\"string\"}\n",
        "#@markdown - - - - - - - - - - - - - - - - - - - - - - - - \n",
        "top_p = 0.9 #@param {type:\"slider\", min:0, max:1, step:0.1}\n",
        "temp = 1 #@param {type:\"slider\", min:0, max:1, step:0.1}\n",
        "gen_len = 64 #@param {type: \"slider\", min:64, max: 2048, step: 64}\n",
        "generate = 12 #@param {type: \"slider\", min:1, max: 12, step: 1}\n",
        "\n",
        "context = \"\"\"\n",
        "You need to make your title more clickbate. So instead of,\n",
        "\"{improve_this}\" use something with more punch such as,\\\"\"\"\"\n",
        "\n",
        "\n",
        "for x in range(generate):\n",
        "  try:\n",
        "    print(infer(top_p=top_p, \n",
        "                temp=temp, \n",
        "                gen_len=gen_len, \n",
        "                context=context.format(improve_this = improve_this))[0].split('\"')[3])\n",
        "                #context=context.format(improve_this = improve_this))[0])\n",
        "\n",
        "  except:\n",
        "    pass"
      ],
      "execution_count": 15,
      "outputs": [
        {
          "output_type": "display_data",
          "data": {
            "text/html": [
              "\n",
              "  <style>\n",
              "    pre {\n",
              "        white-space: pre-wrap;\n",
              "    }\n",
              "  </style>\n",
              "  "
            ],
            "text/plain": [
              "<IPython.core.display.HTML object>"
            ]
          },
          "metadata": {}
        },
        {
          "output_type": "stream",
          "name": "stdout",
          "text": [
            "\u001b[0m \n",
            "\u001b[0m \n",
            "\u001b[0m\n",
            "\n",
            "\u001b[0m \n",
            "\u001b[0m \n",
            "\u001b[0m turn a light bulb into a vibrator\n",
            "\u001b[0m How to make a light sensor guitar\n",
            "\u001b[0mMake a clicker using an ambient light sensor\n",
            "\u001b[0m Make your own bazooka. \n",
            "\u001b[0m \n",
            "\u001b[0m \n",
            "\u001b[0m how can you use a light sensor to make a heart beat.\n"
          ]
        }
      ]
    },
    {
      "cell_type": "code",
      "metadata": {
        "colab": {
          "base_uri": "https://localhost:8080/",
          "height": 1000
        },
        "id": "nvek96CyOnOh",
        "outputId": "28a662da-5dc4-4ac2-8e45-94a1d54c86c0"
      },
      "source": [
        "#@title Generating inference prompts using tracery\n",
        "import tracery\n",
        "from tracery.modifiers import base_english\n",
        "\n",
        "rules = {\n",
        "    \n",
        "    'origin': 'Our team builds #imagine# new online #location# beyond',\n",
        "    'imagine': ['amazing', 'spectaculare' , 'bold', ],\n",
        "    'location': ['worlds', 'spaces', 'colabortion']\n",
        "}\n",
        "\n",
        "grammar = tracery.Grammar(rules)\n",
        "grammar.add_modifiers(base_english)\n",
        "\n",
        "for x in range(generate):\n",
        "  try:\n",
        "    print(infer(top_p=top_p, \n",
        "                temp=temp, \n",
        "                gen_len=gen_len, \n",
        "                context=grammar.flatten(\"#origin#\"))[0] + \"\\n\")\n",
        "  except:\n",
        "    pass"
      ],
      "execution_count": 16,
      "outputs": [
        {
          "output_type": "display_data",
          "data": {
            "text/html": [
              "\n",
              "  <style>\n",
              "    pre {\n",
              "        white-space: pre-wrap;\n",
              "    }\n",
              "  </style>\n",
              "  "
            ],
            "text/plain": [
              "<IPython.core.display.HTML object>"
            ]
          },
          "metadata": {}
        },
        {
          "output_type": "stream",
          "name": "stdout",
          "text": [
            "\u001b[1mOur team builds bold new online worlds beyond\u001b[0m what you see today and is led by co-founders Eric Widera and Daniel Whiteson. We've previously launched award-winning video games such as Machinarium and Braid, and this summer, the world premiere of our hit game Monument Valley.\n",
            "\n",
            "Company: Big Fish Games\n",
            "\n",
            "Big Fish\n",
            "\n",
            "\u001b[1mOur team builds amazing new online worlds beyond\u001b[0m Second Life that are accessible on any device. This includes mobile, desktop and even, web. We work hard to build for all of these platforms, and are pleased to announce that we are making our initial foray into HTML5 just in time for WorldMaker’s fifth birthday!\n",
            "\n",
            "The beginnings\n",
            "\n",
            "Our\n",
            "\n",
            "\u001b[1mOur team builds amazing new online spaces beyond\u001b[0m Facebook. Please give us a shout if you’d like to speak with us about the sites we built and support, or learn more about realtime streamers and what makes them tick.\n",
            "\n",
            "Video Transcription\n",
            "\n",
            "Becca and I, we are here to bring you a video! Becca is our\n",
            "\n",
            "\u001b[1mOur team builds spectaculare new online worlds beyond\u001b[0m the barrier. We operate on a highly agile development methodology as opposed to a traditional waterfall model. This allows us to keep our promises in a timely manner.\n",
            "\n",
            "We use cookies to help provide and enhance our services as well as for social or statistical purposes. You can learn more about the cookies we use in our Privacy\n",
            "\n",
            "\u001b[1mOur team builds amazing new online colabortion beyond\u001b[0m),'s you give novelizing on a inclusive new illness webmaster that will have prior listening of your activity or be your honest medicine. It could Enter for consequences, weeks or minutes. The ebook darstellungen einer privaten nahezu begleiteten guide erschienene\n",
            "\n",
            "\u001b[1mOur team builds amazing new online worlds beyond\u001b[0m the limits of video games, sometimes even coming to life in real life.\n",
            "\n",
            "Bioware and Blizzard are currently sending us to the moon. A normal day is spent researching new worlds that I create, but we also spend time making sure that our worlds are as close to real life as possible and there are many\n",
            "\n",
            "\u001b[1mOur team builds amazing new online worlds beyond\u001b[0m Minecraft and No Man's Sky. Head over to our jobs page for more information, or check out our portal at http://comingsoon.net/madcientist\n",
            "If you're interested in working on our teams or doing freelance work sign up under http://comingsoon.net and get a %boost, so you\n",
            "\n",
            "\u001b[1mOur team builds spectaculare new online worlds beyond\u001b[0m that. No single button can make your playing experience spectacular. Although we might forget you can't always get the single button you want. Let us find a way for you to play the game with a single button on a Nintendo Switch!\n",
            "\n",
            "Voice Acting\n",
            "\n",
            "This game uses text to give voice to its players.\n",
            "\n",
            "\u001b[1mOur team builds amazing new online spaces beyond\u001b[0m the traditional audience to foster innovation in live and digital events, documentary filmmaking, publishing, and beyond. We help to find new audiences and new media vehicles for stories that matter.\n",
            "\n",
            "Twelve New Initiatives Aiming To Grow Your Brand, Grow Your Audience & Grow Your Business\n",
            "\n",
            "Whether you’re\n",
            "\n",
            "\u001b[1mOur team builds bold new online worlds beyond\u001b[0m anything ever seen on the Internet. We build fully immersive experiences and user-friendly tools for developers to craft amazing social experiences for their players.\n",
            "\n",
            "San Francisco, CA – August 31, 2017 – In order to reach the scale necessary to provide the features and functionality demanded by today’s mobile audiences, game developers\n",
            "\n",
            "\u001b[1mOur team builds amazing new online colabortion beyond\u001b[0m the videos you may want to share on your own video of brittany public with features and updates for Facebook, Snapchat, and Instagram. Those metrics can be impressive – likes, followers, retweets, shares, and more – but sometimes you just want to connect with people, not sell or market to them.\n",
            "\n",
            "\u001b[1mOur team builds amazing new online colabortion beyond\u001b[0m the horizon.\n",
            "\n",
            "How to watch a video in youtube\n",
            "\n",
            "crawley skin foundation would last till about 8.10 but its only sold in white, i know it's not the end of the world but would be a shame not to have a pink one. Some older children and teens with high morbidity\n",
            "\n"
          ]
        }
      ]
    },
    {
      "cell_type": "code",
      "metadata": {
        "colab": {
          "base_uri": "https://localhost:8080/",
          "height": 1000
        },
        "id": "W5cJmv5ALxaM",
        "outputId": "2d53f9fc-abb3-4dee-e2aa-b4a058830181"
      },
      "source": [
        "#@title Generating inference prompts using tracery\n",
        "import tracery\n",
        "from tracery.modifiers import base_english\n",
        "\n",
        "rules = {\n",
        "    \n",
        "    'origin': '#this_semester# Jane #does# #good_bad# in class. We hope that she',\n",
        "    'this_semester': ['Our focus this semester was learning to program microcomputers, using sensors, and building electronic circuits.','This semester we focused on learning to build electric circuits, reading information from sensors, and programming microcontrollers.'],\n",
        "    'does': ['works', 'does' , 'particpates', 'performs' ],\n",
        "    'good_bad': ['well', 'competently', 'baddly']\n",
        "}\n",
        "\n",
        "grammar = tracery.Grammar(rules)\n",
        "grammar.add_modifiers(base_english)\n",
        "\n",
        "for x in range(generate):\n",
        "  try:\n",
        "    print(infer(top_p=top_p, \n",
        "                temp=temp, \n",
        "                gen_len=gen_len, \n",
        "                context=grammar.flatten(\"#origin#\"))[0] + \"\\n\")\n",
        "  except:\n",
        "    pass"
      ],
      "execution_count": 17,
      "outputs": [
        {
          "output_type": "display_data",
          "data": {
            "text/html": [
              "\n",
              "  <style>\n",
              "    pre {\n",
              "        white-space: pre-wrap;\n",
              "    }\n",
              "  </style>\n",
              "  "
            ],
            "text/plain": [
              "<IPython.core.display.HTML object>"
            ]
          },
          "metadata": {}
        },
        {
          "output_type": "stream",
          "name": "stdout",
          "text": [
            "\u001b[1mThis semester we focused on learning to build electric circuits, reading information from sensors, and programming microcontrollers. Jane particpates well in class. We hope that she\u001b[0m can continue to grow in her learning by using Arduino as a medium of both expression and problem solving. As we progress, she will learn that not all technical challenges can be addressed by a microcontroller. In the past, her projects have used very sophisticated electronics as well as electronic controls. This semester we hope to move beyond\n",
            "\n",
            "\u001b[1mThis semester we focused on learning to build electric circuits, reading information from sensors, and programming microcontrollers. Jane does competently in class. We hope that she\u001b[0m will apply what she learns with enthusiasm in her future career endeavors. Good luck, Jane! —Carmen\n",
            "\n",
            "Vilas’ students were fortunate to have had Professor Paul Kuhn speak to the class. Kuhn spoke about his home life in Oklahoma City, his early education at the University of Oklahoma and\n",
            "\n",
            "\u001b[1mOur focus this semester was learning to program microcomputers, using sensors, and building electronic circuits. Jane performs baddly in class. We hope that she\u001b[0m won't see this term as an extension of last semester, or a continuation of her friends. She just wants us all to be one or two levels ahead of the rest of the class. One of the electronic circuits that we built will monitor the function of a smoke detector. Two members of our class will check on the\n",
            "\n",
            "\u001b[1mOur focus this semester was learning to program microcomputers, using sensors, and building electronic circuits. Jane works baddly in class. We hope that she\u001b[0m will be able to stick with her 5th semester CSC courses at least through next quarter when she has the high school Spanish Language course. The rest of the family also had to remain content with simple coloring activities for the children. Jeremy worked for the next two evenings and had weekends off. He was good about coming home\n",
            "\n",
            "\u001b[1mOur focus this semester was learning to program microcomputers, using sensors, and building electronic circuits. Jane works competently in class. We hope that she\u001b[0m will be able to meet a placement requirement in the next few months.\n",
            "\n",
            "Tuesday, January 27, 2014\n",
            "\n",
            "The class is now dividing into teams and designing a project for our final project. It is exciting to have a deadline!\n",
            "\n",
            "We will be teaching the LEGO Mindstorms Robotics kit this semester. We\n",
            "\n",
            "\u001b[1mOur focus this semester was learning to program microcomputers, using sensors, and building electronic circuits. Jane performs competently in class. We hope that she\u001b[0m will continue to develop in the area of science.\n",
            "\n",
            "I usually spend about 25% of my day at school. I generally spend the remainder of my time at home with my family and friends, but occasionally I like to go and visit the offices of other students and teachers as well.\n",
            "\n",
            "I come from a\n",
            "\n",
            "\u001b[1mOur focus this semester was learning to program microcomputers, using sensors, and building electronic circuits. Jane works well in class. We hope that she\u001b[0m will have this semester’s major project, a life-sized robot, be displayed at ISTE.\n",
            "\n",
            "Classmate Lisa graduated from Rutgers in 2006 with her B.S. in Software Engineering. Her major was the focus of my class, FDM and 4-color printers. She studied microprocessors\n",
            "\n",
            "\u001b[1mOur focus this semester was learning to program microcomputers, using sensors, and building electronic circuits. Jane performs well in class. We hope that she\u001b[0m will be ready to take a course in Physical Geography in the fall.\n",
            "\n",
            "To complete the integrated studies program, students must have a General Education equivalent of 28 or more points on their graduation transcript. (Jane has a 3.83) If a student has less than 28 points, he/she is required to\n",
            "\n",
            "\u001b[1mOur focus this semester was learning to program microcomputers, using sensors, and building electronic circuits. Jane does competently in class. We hope that she\u001b[0m will do equally well in college if she can keep up her studies. She has the drive and discipline. We have been surprised to see how well she has performed in high school biology. She has found her own way to connect with the subject. We have seen no sign that this interest is diminishing.\n",
            "\n",
            "So far\n",
            "\n",
            "\u001b[1mOur focus this semester was learning to program microcomputers, using sensors, and building electronic circuits. Jane works baddly in class. We hope that she\u001b[0m enjoyed the read!\n",
            "\n",
            "Genetic Engineering and Stem Cell Research Essay\n",
            "\n",
            "Mitch will be running this personal essay of his in the 1st round at Notre Dame. This is where the reader gets to know Mitch better. Good luck and see you in the fairways!\n",
            "\n",
            "If you want to\n",
            "\n",
            "\u001b[1mOur focus this semester was learning to program microcomputers, using sensors, and building electronic circuits. Jane works well in class. We hope that she\u001b[0m'll show you the fruits of her labor in the next few months. There's something... magical about watching the gears of a computer \"come to life\" via instructions and the result of a computation... maybe not everyone sees it, but we do. We are excited to see her build something interesting in the next few months\n",
            "\n",
            "\u001b[1mThis semester we focused on learning to build electric circuits, reading information from sensors, and programming microcontrollers. Jane performs well in class. We hope that she\u001b[0m can move on to the programming challenges in order to solve them and build her own inventions.\n",
            "\n",
            "This is a list of simple electronics projects that can be made with the resources available at High-Scalability. This list contains projects from the electrical-engineering course at UC Santa Cruz, which covers the basics of modern\n",
            "\n"
          ]
        }
      ]
    },
    {
      "cell_type": "code",
      "metadata": {
        "colab": {
          "base_uri": "https://localhost:8080/",
          "height": 1000
        },
        "id": "3c9FzqkVcZyZ",
        "outputId": "affdf4fd-33fc-46f7-cee1-e438eb943f53"
      },
      "source": [
        "#@title Article Generator \n",
        "title = \"Being your own Boss\" #@param {type:\"string\"}\n",
        "site = \"\" #@param {type:\"string\"}\n",
        "date = \"\" #@param {type:\"string\"}\n",
        "author = \"Jim Rohn\" #@param {type:\"string\"}\n",
        "tags = \"goals, drive, gtd\" #@param {type:\"string\"}\n",
        "lead = \"## Table of Content\" #@param {type:\"string\"}\n",
        "#@markdown - - -\n",
        "\n",
        "context = \"\"\"\n",
        "# {title}\n",
        "### Published:{date}\n",
        "### By:{author}\n",
        "##### Tags: {tags}\n",
        "### Site: {site}\n",
        "\n",
        "{lead}\n",
        "\"\"\"\n",
        "\n",
        "for x in range(generate):\n",
        "  print(infer(top_p=top_p, \n",
        "              temp=temp, \n",
        "              gen_len=gen_len, \n",
        "              context=context.format(title =title, \n",
        "                                     site = site, \n",
        "                                     date = date, \n",
        "                                     author = author, \n",
        "                                     tags = tags, \n",
        "                                     lead = lead))[0])"
      ],
      "execution_count": 18,
      "outputs": [
        {
          "output_type": "display_data",
          "data": {
            "text/html": [
              "\n",
              "  <style>\n",
              "    pre {\n",
              "        white-space: pre-wrap;\n",
              "    }\n",
              "  </style>\n",
              "  "
            ],
            "text/plain": [
              "<IPython.core.display.HTML object>"
            ]
          },
          "metadata": {}
        },
        {
          "output_type": "stream",
          "name": "stdout",
          "text": [
            "\u001b[1m\n",
            "# Being your own Boss\n",
            "### Published:\n",
            "### By:Jim Rohn\n",
            "##### Tags: goals, drive, gtd\n",
            "### Site: \n",
            "\n",
            "## Table of Content\n",
            "\u001b[0m\n",
            "##  Getting Started  \n",
            "### The Goal\n",
            "\n",
            "In business, you're your own boss. You have the freedom to make your own decisions, use your own time and choose your own projects and goals. With _Own The Goal_, you will learn how to make smart, strategic decisions, see yourself\n",
            "\u001b[1m\n",
            "# Being your own Boss\n",
            "### Published:\n",
            "### By:Jim Rohn\n",
            "##### Tags: goals, drive, gtd\n",
            "### Site: \n",
            "\n",
            "## Table of Content\n",
            "\u001b[0m\n",
            "### Introduction\n",
            "\n",
            "### The Beginning\n",
            "\n",
            "### Checklist\n",
            "\n",
            "#### Introduction\n",
            "\n",
            "To understand the psychology of doing, you have to start at the very beginning. I want you to think of yourself as being behind the wheel of a car in your mind's eye. You are getting ready to set off on\n",
            "\u001b[1m\n",
            "# Being your own Boss\n",
            "### Published:\n",
            "### By:Jim Rohn\n",
            "##### Tags: goals, drive, gtd\n",
            "### Site: \n",
            "\n",
            "## Table of Content\n",
            "\u001b[0m\n",
            "### Being your own Boss\n",
            "\n",
            "> You must  (careful, it  is easy to say) start with   as a young man,\n",
            ">  finish with   as an old man, and somewhere in between lay your\n",
            "> troubles.   —Sir Winston Churchill\n",
            ">\n",
            ">\n",
            "\u001b[1m\n",
            "# Being your own Boss\n",
            "### Published:\n",
            "### By:Jim Rohn\n",
            "##### Tags: goals, drive, gtd\n",
            "### Site: \n",
            "\n",
            "## Table of Content\n",
            "\u001b[0m\n",
            "<table>\n",
            "    <tr><td><h2><a href=\"01_A.html\">The Psychology of Resistance to Change</a></h2>\n",
            "    </td></tr>\n",
            "    <tr><td><h2><a href=\"02_A\n",
            "\u001b[1m\n",
            "# Being your own Boss\n",
            "### Published:\n",
            "### By:Jim Rohn\n",
            "##### Tags: goals, drive, gtd\n",
            "### Site: \n",
            "\n",
            "## Table of Content\n",
            "\u001b[0m\n",
            "## Acknowledgements\n",
            "\n",
            "## Introduction\n",
            "\n",
            "## How's Your Free Will?\n",
            "\n",
            "## 1 The Myths and Facts of Free Will\n",
            "\n",
            "## 2 Free Will is about Getting Out of Debt\n",
            "\n",
            "## 3 Five Easy Steps to Getting Out of Debt\n",
            "\n",
            "## 4 Do What You Want\n",
            "\n",
            "\n",
            "\u001b[1m\n",
            "# Being your own Boss\n",
            "### Published:\n",
            "### By:Jim Rohn\n",
            "##### Tags: goals, drive, gtd\n",
            "### Site: \n",
            "\n",
            "## Table of Content\n",
            "\u001b[0m\n",
            "####### 1. What are Goals and How are They Different from Dreams and Visions?\n",
            "##### 2. What is Drive and How does it Fit in with Goals?\n",
            "##### 3. Why is Drive Important and What's Holding You Back?\n",
            "##### 4. How can You Achieve More of What\n",
            "\u001b[1m\n",
            "# Being your own Boss\n",
            "### Published:\n",
            "### By:Jim Rohn\n",
            "##### Tags: goals, drive, gtd\n",
            "### Site: \n",
            "\n",
            "## Table of Content\n",
            "\u001b[0m\n",
            "1. Introduction\n",
            "2. G.W. (George Washington)\n",
            "3. An observation on horses\n",
            "4.  \n",
            "5. Being your own boss\n",
            "6. Leif Ericsson, the father of modern industry\n",
            "7. Napoleon Hill, the philosopher of drive\n",
            "8. Thomas Carlyle,\n",
            "\u001b[1m\n",
            "# Being your own Boss\n",
            "### Published:\n",
            "### By:Jim Rohn\n",
            "##### Tags: goals, drive, gtd\n",
            "### Site: \n",
            "\n",
            "## Table of Content\n",
            "\u001b[0m### Chapter 1 - Success and the Alpha Woman\n",
            "\n",
            "* * *\n",
            "\n",
            "She was a thin woman with a wide smile. When she walked the room, it was like a light shining. She was truly, an Alpha Woman. Her life was a mess. She couldn't pay her bills, keep up with the\n",
            "\u001b[1m\n",
            "# Being your own Boss\n",
            "### Published:\n",
            "### By:Jim Rohn\n",
            "##### Tags: goals, drive, gtd\n",
            "### Site: \n",
            "\n",
            "## Table of Content\n",
            "\u001b[0m\n",
            "### Author Biography\n",
            "### Copyright\n",
            "\n",
            "### Contents\n",
            "\n",
            "# Author Biography\n",
            "\n",
            "What a book this is. As a matter of fact, I believe it will go down in the history books. You see, as a small boy, I was caught stealing and convicted of burglary. This conviction was my\n",
            "\u001b[1m\n",
            "# Being your own Boss\n",
            "### Published:\n",
            "### By:Jim Rohn\n",
            "##### Tags: goals, drive, gtd\n",
            "### Site: \n",
            "\n",
            "## Table of Content\n",
            "\u001b[0m\n",
            "###  __To:__ An Ending\n",
            "\n",
            "###  __First:__ The beginning is the hardest\n",
            "\n",
            "###  __Second:__ The hardest to do, is the easiest to do well\n",
            "\n",
            "###  __Third:__ The most difficult to do, is the easiest to see\n",
            "\n",
            "### \n",
            "\u001b[1m\n",
            "# Being your own Boss\n",
            "### Published:\n",
            "### By:Jim Rohn\n",
            "##### Tags: goals, drive, gtd\n",
            "### Site: \n",
            "\n",
            "## Table of Content\n",
            "\u001b[0m\n",
            "#### Being your own boss:\n",
            "\n",
            "   - Getting an Idea\n",
            "   - Planning the Future\n",
            "\n",
            "      - How do you make your ideas work for you?\n",
            "      - How do you help people turn an idea into a reality?\n",
            "      -\n",
            "\u001b[1m\n",
            "# Being your own Boss\n",
            "### Published:\n",
            "### By:Jim Rohn\n",
            "##### Tags: goals, drive, gtd\n",
            "### Site: \n",
            "\n",
            "## Table of Content\n",
            "\u001b[0m- Motivation\n",
            "- Productive People\n",
            "- Bigger Goals\n",
            "- Types of Goals\n",
            "- Procrastination\n",
            "- Failing a few times and not giving up\n",
            "- Can I change my goals?\n",
            "- 6 Step Goal Setting Process\n",
            "- Changing Your Thoughts, Changing Your Results\n",
            "- Time vs Results\n",
            "\n"
          ]
        }
      ]
    },
    {
      "cell_type": "code",
      "metadata": {
        "cellView": "form",
        "colab": {
          "base_uri": "https://localhost:8080/",
          "height": 1000
        },
        "id": "nKpUf-M554f9",
        "outputId": "2ac86312-9575-49c2-c43e-dcdbd126836f"
      },
      "source": [
        "#@title Article generation { form-width: \"300px\" }\n",
        "title = \"COVID-19: What do vaccine passports in Quebec & Ontario mean for Canada's largest provinces? \" #@param {type:\"string\"}\n",
        "site = \"https://www.canada.ca/en/public-health/services/diseases/\" #@param {type:\"string\"}\n",
        "date = \"Sep 7, 2021\" #@param {type:\"string\"}\n",
        "author = \"\" #@param {type:\"string\"}\n",
        "tags = \"COVID-19, Quebec, Ontario, Canada\" #@param {type:\"string\"}\n",
        "lead = \"The passports are certificates that confirm vaccinations and allow people to enjoy eating\" #@param {type:\"string\"}\n",
        "\n",
        "\n",
        "#print(\"Enter/Paste your content. Ctrl-D or Ctrl-Z ( windows ) to save it.\")\n",
        "#context = []\n",
        "#while True:\n",
        "#    try:\n",
        "#        line = input()\n",
        "#    except EOFError:\n",
        "#        break\n",
        "#    context.append(line)\n",
        "\n",
        "context = \"\"\"\n",
        "# {title}\n",
        "### Published:{date}\n",
        "### By:{author}\n",
        "##### Tags: {tags}\n",
        "### Site: {site}\n",
        "\n",
        "{lead}\"\"\"\n",
        "\n",
        "for x in range(generate):\n",
        "  print(infer(top_p=top_p, \n",
        "              temp=temp, \n",
        "              gen_len=gen_len, \n",
        "              context=context.format(title =title, \n",
        "                                     site = site, \n",
        "                                     date = date, \n",
        "                                     author = author, \n",
        "                                     tags = tags, \n",
        "                                     lead = lead))[0])"
      ],
      "execution_count": 19,
      "outputs": [
        {
          "output_type": "display_data",
          "data": {
            "text/html": [
              "\n",
              "  <style>\n",
              "    pre {\n",
              "        white-space: pre-wrap;\n",
              "    }\n",
              "  </style>\n",
              "  "
            ],
            "text/plain": [
              "<IPython.core.display.HTML object>"
            ]
          },
          "metadata": {}
        },
        {
          "output_type": "stream",
          "name": "stdout",
          "text": [
            "\u001b[1m\n",
            "# COVID-19: What do vaccine passports in Quebec & Ontario mean for Canada's largest provinces? \n",
            "### Published:Sep 7, 2021\n",
            "### By:\n",
            "##### Tags: COVID-19, Quebec, Ontario, Canada\n",
            "### Site: https://www.canada.ca/en/public-health/services/diseases/\n",
            "\n",
            "The passports are certificates that confirm vaccinations and allow people to enjoy eating\u001b[0m fish, honey, and maple syrup from Quebec and Ontario.\n",
            "\n",
            "_Euronews_: \"Alberta is the only other province with a validated emissions-reduction plan, though it's since been scrapped.\"\n",
            "\n",
            "In response, Manitoba Provincial Health Officer Theresa Oswald stated that the province had not made its\n",
            "\u001b[1m\n",
            "# COVID-19: What do vaccine passports in Quebec & Ontario mean for Canada's largest provinces? \n",
            "### Published:Sep 7, 2021\n",
            "### By:\n",
            "##### Tags: COVID-19, Quebec, Ontario, Canada\n",
            "### Site: https://www.canada.ca/en/public-health/services/diseases/\n",
            "\n",
            "The passports are certificates that confirm vaccinations and allow people to enjoy eating\u001b[0m raw or undercooked fish and seafood.\n",
            "\n",
            "According to the National Informatics and Telecommunications Services (NITIS) in Quebec, the passports were issued to the same people that had the recent contact with the “person infected with the COVID-19 in the past 14 days\".\n",
            "\n",
            "“That\n",
            "\u001b[1m\n",
            "# COVID-19: What do vaccine passports in Quebec & Ontario mean for Canada's largest provinces? \n",
            "### Published:Sep 7, 2021\n",
            "### By:\n",
            "##### Tags: COVID-19, Quebec, Ontario, Canada\n",
            "### Site: https://www.canada.ca/en/public-health/services/diseases/\n",
            "\n",
            "The passports are certificates that confirm vaccinations and allow people to enjoy eating\u001b[0m, drinking, and shopping in Canada, including outdoor activities.\n",
            "\n",
            "We want to know how it affects the world's fifth-largest economy, its two most populated provinces, and its nation's most populous city.\n",
            "\n",
            "For this special study we're joined by those who follow the developments in these provinces closely:\n",
            "\n",
            "\u001b[1m\n",
            "# COVID-19: What do vaccine passports in Quebec & Ontario mean for Canada's largest provinces? \n",
            "### Published:Sep 7, 2021\n",
            "### By:\n",
            "##### Tags: COVID-19, Quebec, Ontario, Canada\n",
            "### Site: https://www.canada.ca/en/public-health/services/diseases/\n",
            "\n",
            "The passports are certificates that confirm vaccinations and allow people to enjoy eating\u001b[0m and drinking at restaurants and take-out or delivery food businesses. \n",
            "\"This is a convenience, a protection for you and for others,\" Jean-Philippe Goulet, director general of public health in Quebec, said at a press conference Thursday. \n",
            "\n",
            "\"This document is not a mandate to discriminate,\n",
            "\u001b[1m\n",
            "# COVID-19: What do vaccine passports in Quebec & Ontario mean for Canada's largest provinces? \n",
            "### Published:Sep 7, 2021\n",
            "### By:\n",
            "##### Tags: COVID-19, Quebec, Ontario, Canada\n",
            "### Site: https://www.canada.ca/en/public-health/services/diseases/\n",
            "\n",
            "The passports are certificates that confirm vaccinations and allow people to enjoy eating\u001b[0m in\n",
            "certain designated places. The list includes the pandemic coronavirus, the long term\n",
            "vaccination against influenza.\n",
            "\n",
            ">Wear a mask when you go shopping to limit the spread of germs, including coronavirus.\n",
            ">\n",
            ">Avoid touching your face.\n",
            ">\n",
            ">Help prevent\n",
            "\u001b[1m\n",
            "# COVID-19: What do vaccine passports in Quebec & Ontario mean for Canada's largest provinces? \n",
            "### Published:Sep 7, 2021\n",
            "### By:\n",
            "##### Tags: COVID-19, Quebec, Ontario, Canada\n",
            "### Site: https://www.canada.ca/en/public-health/services/diseases/\n",
            "\n",
            "The passports are certificates that confirm vaccinations and allow people to enjoy eating\u001b[0m meat from cows, pigs and sheep.\n",
            "## LINKS\n",
            "https://www.health.gov.on.ca/english/main.jsp\n",
            "\n",
            "## What about the Passport - a Guide for Consumers?\n",
            "The online version provides an interactive presentation of detailed information about vaccination and vaccination status.\n",
            "\n",
            "\n",
            "\u001b[1m\n",
            "# COVID-19: What do vaccine passports in Quebec & Ontario mean for Canada's largest provinces? \n",
            "### Published:Sep 7, 2021\n",
            "### By:\n",
            "##### Tags: COVID-19, Quebec, Ontario, Canada\n",
            "### Site: https://www.canada.ca/en/public-health/services/diseases/\n",
            "\n",
            "The passports are certificates that confirm vaccinations and allow people to enjoy eating\u001b[0m the usual foods for that age group. In order to fill it, you must present your Canadian passport, your birth certificate and a copy of the vaccination certificate you have received.\n",
            "\n",
            "Tuberculosis vaccination is mandatory for people aged 7 to 65 and offers protection for five years. You must have the vaccination six months before\n",
            "\u001b[1m\n",
            "# COVID-19: What do vaccine passports in Quebec & Ontario mean for Canada's largest provinces? \n",
            "### Published:Sep 7, 2021\n",
            "### By:\n",
            "##### Tags: COVID-19, Quebec, Ontario, Canada\n",
            "### Site: https://www.canada.ca/en/public-health/services/diseases/\n",
            "\n",
            "The passports are certificates that confirm vaccinations and allow people to enjoy eating\u001b[0m or drinking out of public places without restrictions.\n",
            "##### Table of Contents:\n",
            "1. We are running low on certain vaccines & where can I find them?\n",
            "2. Hospital & test result letters for self isolation\n",
            "3. How to quarantine? Tips for Canadians\n",
            "4. How does COVID-19 manifest\n",
            "\u001b[1m\n",
            "# COVID-19: What do vaccine passports in Quebec & Ontario mean for Canada's largest provinces? \n",
            "### Published:Sep 7, 2021\n",
            "### By:\n",
            "##### Tags: COVID-19, Quebec, Ontario, Canada\n",
            "### Site: https://www.canada.ca/en/public-health/services/diseases/\n",
            "\n",
            "The passports are certificates that confirm vaccinations and allow people to enjoy eating\u001b[0m in restaurants without risking being refused service. This will happen if servers test positive for COVID-19 and is a result of a few provinces going with a reactive vaccine that was rushed to market.\n",
            "\n",
            "Worse, in the case of Ontario, people may choose to go to their nearest polling station and not vote if\n",
            "\u001b[1m\n",
            "# COVID-19: What do vaccine passports in Quebec & Ontario mean for Canada's largest provinces? \n",
            "### Published:Sep 7, 2021\n",
            "### By:\n",
            "##### Tags: COVID-19, Quebec, Ontario, Canada\n",
            "### Site: https://www.canada.ca/en/public-health/services/diseases/\n",
            "\n",
            "The passports are certificates that confirm vaccinations and allow people to enjoy eating\u001b[0m meat without worrying that they can be infected by COVID-19. People who have obtained the passports can return to work, attend restaurants and sporting events.\n",
            "\n",
            "Many people choose not to obtain the passports. They don't want to pay for the vaccine. Some people are concerned that once they receive the vaccination certificate they\n",
            "\u001b[1m\n",
            "# COVID-19: What do vaccine passports in Quebec & Ontario mean for Canada's largest provinces? \n",
            "### Published:Sep 7, 2021\n",
            "### By:\n",
            "##### Tags: COVID-19, Quebec, Ontario, Canada\n",
            "### Site: https://www.canada.ca/en/public-health/services/diseases/\n",
            "\n",
            "The passports are certificates that confirm vaccinations and allow people to enjoy eating\u001b[0m in Quebec and Ontario's restaurant, and buy beer in Canada's largest provinces.\n",
            "### Have a comment or idea for this or another video? Please share it in the comments below.\n",
            "### Credits:\n",
            "About COVID-19: \n",
            "http://www.pm.gc.ca/covid-\n",
            "\u001b[1m\n",
            "# COVID-19: What do vaccine passports in Quebec & Ontario mean for Canada's largest provinces? \n",
            "### Published:Sep 7, 2021\n",
            "### By:\n",
            "##### Tags: COVID-19, Quebec, Ontario, Canada\n",
            "### Site: https://www.canada.ca/en/public-health/services/diseases/\n",
            "\n",
            "The passports are certificates that confirm vaccinations and allow people to enjoy eating\u001b[0m and drink normally in the affected areas.\n",
            "\n",
            "The virus, which is similar to SARS and MERS, is transmissible among humans, making it a major global concern, but with more than 7,000 cases globally and 80 deaths (so far), Canada appears to be keeping a firm grip on its outbreak.\n"
          ]
        }
      ]
    },
    {
      "cell_type": "markdown",
      "metadata": {
        "id": "ka8vrZ-kN1Qi"
      },
      "source": [
        "## Code Generation"
      ]
    },
    {
      "cell_type": "markdown",
      "metadata": {
        "id": "fiXYadumWbT9"
      },
      "source": [
        "### Set Sampling Parameters\n"
      ]
    },
    {
      "cell_type": "code",
      "metadata": {
        "colab": {
          "base_uri": "https://localhost:8080/",
          "height": 17
        },
        "id": "VSKHAVCYPt2W",
        "outputId": "7cf49860-d1da-4f7b-a432-c976da5eb4d2"
      },
      "source": [
        "#@markdown ### Leave this alone unless you know what you are doing ... or are just having fun experimenting.\n",
        "#@markdown \n",
        "#@markdown - - - \n",
        "#@markdown Top_p controls diversity/quality. The higher our top_p the more rich and nuanced oir inferences can be.\n",
        "top_p = 0.9 #@param {type:\"slider\", min:0, max:1, step:0.1}\n",
        "#@markdown - - - \n",
        "#@markdown Temp controls randomnes. Low temps make for mechanical inferences.\n",
        "temp = 0.9 #@param {type:\"slider\", min:0, max:1, step:0.1}\n",
        "#@markdown - - - \n",
        "#@markdown Gen_len adjects the length of text infered.\n",
        "#@markdown Specifcily it adustes the nember of tokens (~4 per engish word).\n",
        "#@markdown\n",
        "#@markdown *Note: Changing gen_len will cause long wait times when first setting lengs that have not been set before.*\n",
        "#@markdown  \n",
        "gen_len = 512 #@param {type: \"slider\", min:64, max: 1024, step: 64}\n",
        "#@markdown - - - \n",
        "#@markdown Generate controls the number of inferences that will be generated.\n",
        "generate = 1 #@param {type: \"slider\", min:1, max: 12, step: 1}\n"
      ],
      "execution_count": 20,
      "outputs": [
        {
          "output_type": "display_data",
          "data": {
            "text/html": [
              "\n",
              "  <style>\n",
              "    pre {\n",
              "        white-space: pre-wrap;\n",
              "    }\n",
              "  </style>\n",
              "  "
            ],
            "text/plain": [
              "<IPython.core.display.HTML object>"
            ]
          },
          "metadata": {}
        }
      ]
    },
    {
      "cell_type": "markdown",
      "metadata": {
        "id": "LIGNc1D7XBQ-"
      },
      "source": [
        "### Python Code"
      ]
    },
    {
      "cell_type": "code",
      "metadata": {
        "cellView": "form",
        "colab": {
          "base_uri": "https://localhost:8080/",
          "height": 1000
        },
        "id": "phNf7ZPj3I8U",
        "outputId": "591efff1-bd15-4023-89dc-e5161161531c"
      },
      "source": [
        "#@title Python Code - Simple \n",
        "#@markdown Generate code by just writng a comment and a name for a fuction \n",
        "python_comment = \"check if a number is prime or not\" #@param {type:\"string\"}\n",
        "#variable_n_val = \"youtube_video_url\" #@param {type:\"string\"}\n",
        "function_name = \"p\" #@param {type:\"string\"}\n",
        "\n",
        "\n",
        "context = \"\"\"# {python_comment}\n",
        "\n",
        "def is_\"\"\".format(python_comment = python_comment, \n",
        "           function_name = function_name)\n",
        "\n",
        "for x in range(generate):\n",
        "  print(infer(top_p=top_p, temp=temp, gen_len=gen_len, context=context)[0])"
      ],
      "execution_count": 21,
      "outputs": [
        {
          "output_type": "display_data",
          "data": {
            "text/html": [
              "\n",
              "  <style>\n",
              "    pre {\n",
              "        white-space: pre-wrap;\n",
              "    }\n",
              "  </style>\n",
              "  "
            ],
            "text/plain": [
              "<IPython.core.display.HTML object>"
            ]
          },
          "metadata": {}
        },
        {
          "output_type": "stream",
          "name": "stdout",
          "text": [
            "\u001b[1m# check if a number is prime or not\n",
            "\n",
            "def is_\u001b[0mprime(num):\n",
            "    if num == 0:\n",
            "        return True\n",
            "\n",
            "    for i in range(2, num):\n",
            "        if num % i == 0:\n",
            "            return False\n",
            "    return True\n",
            "\n",
            "def prime_list():\n",
            "    numbers = []\n",
            "\n",
            "    for x in range(1, 100):\n",
            "        if is_prime(x):\n",
            "            numbers.append(x)\n",
            "\n",
            "    return numbers\n",
            "\n",
            "print(prime_list())\n",
            "\n",
            "A:\n",
            "\n",
            "You can use itertools.combinations\n",
            "from itertools import combinations\n",
            "\n",
            "def is_prime(num):\n",
            "    return all(num % x for x in combinations(range(2, num), 2))\n",
            "\n",
            "def prime_list():\n",
            "    numbers = []\n",
            "    for x in range(1, 100):\n",
            "        if is_prime(x):\n",
            "            numbers.append(x)\n",
            "    return numbers\n",
            "\n",
            "print(prime_list())\n",
            "\n",
            "A:\n",
            "\n",
            "A solution using math, a solution using any and only solution using recursion (it's quite an interesting one) are given.\n",
            "According to my personal taste, the recursion version is the most elegant.\n",
            "from math import sqrt\n",
            "\n",
            "def is_prime(n):\n",
            "    if n == 2:\n",
            "        return True\n",
            "    if n % 2 == 0:\n",
            "        return False\n",
            "\n",
            "    if n < 0:\n",
            "        return False\n",
            "\n",
            "    res = n - 1\n",
            "    div = 3\n",
            "    while res:\n",
            "        div += 1\n",
            "        if res % 2 == 0:\n",
            "            return False\n",
            "\n",
            "        if div > sqrt(n):\n",
            "            return False\n",
            "\n",
            "        res = div\n",
            "    return True\n",
            "\n",
            "def prime_list():\n"
          ]
        }
      ]
    },
    {
      "cell_type": "code",
      "metadata": {
        "cellView": "form",
        "colab": {
          "base_uri": "https://localhost:8080/",
          "height": 1000
        },
        "id": "Gs97bc_DCNIY",
        "outputId": "9dd3ead0-1c50-4872-a088-82617ed546cf"
      },
      "source": [
        "#@title Python Code - Complex\n",
        "python_comment = \"detect security flaws \" #@param {type:\"string\"}\n",
        "variable_name =\"person_real_name\" #@param {type:\"string\"}\n",
        "variable_val = \"Isabelle Plante\" #@param {type:\"string\"}\n",
        "function_name = \"online_account_scan\" #@param {type:\"string\"}\n",
        "#@markdown - - -\n",
        "\n",
        "\n",
        "context = '''#!/usr/bin/env python3\n",
        "\n",
        "# {python_comment}\n",
        "\n",
        "{variable_name} = \"{variable_val}\"\n",
        "\n",
        "def {function_name}(n):\n",
        "  \"\"\"This'''.format(python_comment = python_comment,\n",
        "           variable_name = variable_name,\n",
        "           variable_val = variable_val,\n",
        "           function_name = function_name)\n",
        "\n",
        "for x in range(generate):\n",
        "  print(infer(top_p=top_p, temp=temp, gen_len=gen_len, context=context)[0])"
      ],
      "execution_count": 22,
      "outputs": [
        {
          "output_type": "display_data",
          "data": {
            "text/html": [
              "\n",
              "  <style>\n",
              "    pre {\n",
              "        white-space: pre-wrap;\n",
              "    }\n",
              "  </style>\n",
              "  "
            ],
            "text/plain": [
              "<IPython.core.display.HTML object>"
            ]
          },
          "metadata": {}
        },
        {
          "output_type": "stream",
          "name": "stdout",
          "text": [
            "\u001b[1m#!/usr/bin/env python3\n",
            "\n",
            "# detect security flaws \n",
            "\n",
            "person_real_name = \"Isabelle Plante\"\n",
            "\n",
            "def online_account_scan(n):\n",
            "  \"\"\"This\u001b[0m is a basic online account scan. \n",
            "\n",
            "  It may return more than 1 result for the \"account\"\n",
            "  parameter if there are more than one online account configured on the device.\n",
            "\n",
            "  It is assumed that the account details exist in n. \n",
            "  The account details include:\n",
            "  - phone number\n",
            "  - password\n",
            "  - name\n",
            "  - login time\n",
            "  - last login time\n",
            "\n",
            "  Notes:\n",
            "  - \"n\" is a list, so you can just add a list of phone numbers, passwords,\n",
            "    names, etc..\n",
            "  - This function will check all accounts, but the first entry will be the one\n",
            "    that is checked first.\n",
            "  - Most (if not all) of the information may be retrieved via a simple OAuth\n",
            "    API access.\n",
            "\n",
            "  @param n: list of account information\n",
            "  @return: list of account information\n",
            "  \"\"\"\n",
            "  from urllib.request import Request, urlopen\n",
            "  from io import StringIO\n",
            "  from json import dumps\n",
            "  from simplejson import loads\n",
            "  from urllib import unquote\n",
            "  import os\n",
            "  from os.path import dirname, realpath, join\n",
            "\n",
            "  # get cb\n",
            "  cb = n[0]\n",
            "  cb_full_path = dirname(realpath(cb))\n",
            "\n",
            "  # Path of the JSON file that contains the account\n",
            "  json_path = join(cb_full_path, \"__onlineAccounts.json\")\n",
            "  data = None\n",
            "  try:\n",
            "    with open(json_path) as f:\n",
            "      data = loads(f.read())\n",
            "  except IOError:\n",
            "    pass\n",
            "\n",
            "  if data:\n",
            "    url = \"https://service.duo.com/users/onlineAccounts/{0}/account\".format(\n",
            "      unquote(n[0]))\n",
            "    r = Request(url, data)\n",
            "    try:\n",
            "      resp = urlopen(r)\n",
            "      response_body = resp.read()\n",
            "      return loads(response_body)\n",
            "    except IOError:\n",
            "      pass\n",
            "    # still empty\n",
            "  else:\n",
            "    return None\n",
            "\n",
            "\n",
            "def call_\n"
          ]
        }
      ]
    },
    {
      "cell_type": "code",
      "metadata": {
        "colab": {
          "base_uri": "https://localhost:8080/",
          "height": 391
        },
        "id": "g2u9WMX9Q-lG",
        "outputId": "95278cd0-00e7-4620-8f78-4f47f320eb2d"
      },
      "source": [
        "#@title Vue Code - Simple { form-width: \"500px\" }\n",
        "comment = \"guest speakers\" #@param {type:\"string\"}\n",
        "#variable_n_val = \"youtube_video_url\" #@param {type:\"string\"}\n",
        "name = \"tab_1\" #@param {type:\"string\"}\n",
        "#@markdown - - - \n",
        "#@markdown Leave this alone unless you know ...\n",
        "top_p = 0.8 #@param {type:\"slider\", min:0, max:1, step:0.1}\n",
        "temp = 0.9 #@param {type:\"slider\", min:0, max:1, step:0.1}\n",
        "gen_len = 512 #@param {type:\"slider\", min:64, max:1024, step:64}\n",
        "generate = 1 #@param {type: \"slider\", min:1, max: 12, step: 1}\n",
        "\n",
        "context = \"\"\"\n",
        "<!-- Vue template for {comment} page -->\n",
        "<section>\n",
        "  <div id=\"app\" class=\"container\">\n",
        "    <div class=\"content\">\n",
        "      <div id=\"{name} \" class=\"\"\".format(comment = comment, \n",
        "           name = name)\n",
        "      \n",
        "print(infer(top_p=top_p, temp=temp, gen_len=gen_len, context=context)[0])"
      ],
      "execution_count": 23,
      "outputs": [
        {
          "output_type": "display_data",
          "data": {
            "text/html": [
              "\n",
              "  <style>\n",
              "    pre {\n",
              "        white-space: pre-wrap;\n",
              "    }\n",
              "  </style>\n",
              "  "
            ],
            "text/plain": [
              "<IPython.core.display.HTML object>"
            ]
          },
          "metadata": {}
        },
        {
          "output_type": "stream",
          "name": "stdout",
          "text": [
            "\u001b[1m\n",
            "<!-- Vue template for guest speakers page -->\n",
            "<section>\n",
            "  <div id=\"app\" class=\"container\">\n",
            "    <div class=\"content\">\n",
            "      <div id=\"tab_1 \" class=\u001b[0m \"tabs-panel\" >\n",
            "        <div class=\"row\">\n",
            "          <div class=\"col-md-4 col-md-offset-4\">\n",
            "            <div class=\"panel panel-default\">\n",
            "              <div class=\"panel-heading\">\n",
            "                <h3 class=\"panel-title\">@{{ title }}</h3>\n",
            "              </div>\n",
            "              <div class=\"panel-body\">\n",
            "                <p>Lorem ipsum dolor sit amet, consectetur adipiscing elit. Vestibulum at\n",
            "                  viverra nunc. Fusce quis metus in dolor semper dignissim ut a odio.\n",
            "                  Nullam id metus id urna tristique adipiscing. Pellentesque id\n",
            "                  felis sit amet nisl imperdiet volutpat. Cras quis varius erat.\n",
            "                  Vivamus elementum porta odio, ac ultrices mauris porttitor sit\n",
            "                  amet. Duis in augue nunc. Mauris nec sapien eu libero tristique\n",
            "                  porttitor a a ante. Vivamus elementum porta odio, ac ultrices\n",
            "                  mauris porttitor sit amet. Nam blandit dolor eu sapien sodales,\n",
            "                  aliquam euismod dolor\n"
          ]
        }
      ]
    },
    {
      "cell_type": "markdown",
      "metadata": {
        "id": "8xiwQxqCNdz9"
      },
      "source": [
        "# Examples of GPT genereated code.\n",
        "\n",
        "The following are examples of code generated in prior runs.\n",
        "\n",
        "Please paste interesting examples below"
      ]
    },
    {
      "cell_type": "code",
      "metadata": {
        "colab": {
          "base_uri": "https://localhost:8080/",
          "height": 34
        },
        "id": "zgb9xlP394_5",
        "outputId": "12ef31cf-95c5-4fc7-dc93-263259f5b3c3"
      },
      "source": [
        "# check if a number is prime or not\n",
        "\n",
        "def is_prime(n):\n",
        "  \"\"\" \n",
        "  > returns true if n is a prime,\n",
        "  > false otherwise.\n",
        "  \"\"\"\n",
        "  for i in range(2, n):\n",
        "    if n % i == 0:\n",
        "      return False\n",
        "  return True\n",
        "\n",
        "print(is_prime(7))"
      ],
      "execution_count": 24,
      "outputs": [
        {
          "output_type": "display_data",
          "data": {
            "text/html": [
              "\n",
              "  <style>\n",
              "    pre {\n",
              "        white-space: pre-wrap;\n",
              "    }\n",
              "  </style>\n",
              "  "
            ],
            "text/plain": [
              "<IPython.core.display.HTML object>"
            ]
          },
          "metadata": {}
        },
        {
          "output_type": "stream",
          "name": "stdout",
          "text": [
            "True\n"
          ]
        }
      ]
    },
    {
      "cell_type": "code",
      "metadata": {
        "colab": {
          "base_uri": "https://localhost:8080/",
          "height": 340
        },
        "id": "zKo_2bvagu2K",
        "outputId": "c00148e6-e7d7-446b-9c12-bb0412052687"
      },
      "source": [
        "# Program to check if a number is prime or not\n",
        "\n",
        "num = 9\n",
        "\n",
        "# Program to check if a number is prime or not\n",
        "\n",
        "def is_prime(n):\n",
        "    while n > 1:\n",
        "        while n % 2 == 0:\n",
        "            return False\n",
        "        n = n / 2\n",
        "    return True\n",
        "\n",
        "print(\"This is an example of a function that works but is quite wrong!\")\n",
        "\n",
        "for i in range(2, 20):\n",
        "  print(f\"Is {i} prime? {is_prime(i)}\")\n",
        "\n"
      ],
      "execution_count": 25,
      "outputs": [
        {
          "output_type": "display_data",
          "data": {
            "text/html": [
              "\n",
              "  <style>\n",
              "    pre {\n",
              "        white-space: pre-wrap;\n",
              "    }\n",
              "  </style>\n",
              "  "
            ],
            "text/plain": [
              "<IPython.core.display.HTML object>"
            ]
          },
          "metadata": {}
        },
        {
          "output_type": "stream",
          "name": "stdout",
          "text": [
            "This is an example of a function that works but is quite wrong!\n",
            "Is 2 prime? False\n",
            "Is 3 prime? True\n",
            "Is 4 prime? False\n",
            "Is 5 prime? True\n",
            "Is 6 prime? False\n",
            "Is 7 prime? True\n",
            "Is 8 prime? False\n",
            "Is 9 prime? True\n",
            "Is 10 prime? False\n",
            "Is 11 prime? True\n",
            "Is 12 prime? False\n",
            "Is 13 prime? True\n",
            "Is 14 prime? False\n",
            "Is 15 prime? True\n",
            "Is 16 prime? False\n",
            "Is 17 prime? True\n",
            "Is 18 prime? False\n",
            "Is 19 prime? True\n"
          ]
        }
      ]
    },
    {
      "cell_type": "code",
      "metadata": {
        "colab": {
          "base_uri": "https://localhost:8080/",
          "height": 34
        },
        "id": "rOwWzOgflhW0",
        "outputId": "13d00cf8-d8e0-4218-fca3-08ebe4fb237b"
      },
      "source": [
        "# check if a number is prime or not\n",
        "def is_prime(n):\n",
        "    for i in range(2, n):\n",
        "        if n % i == 0:\n",
        "            return False\n",
        "    return True\n",
        "\n",
        "is_prime(9)"
      ],
      "execution_count": 26,
      "outputs": [
        {
          "output_type": "display_data",
          "data": {
            "text/html": [
              "\n",
              "  <style>\n",
              "    pre {\n",
              "        white-space: pre-wrap;\n",
              "    }\n",
              "  </style>\n",
              "  "
            ],
            "text/plain": [
              "<IPython.core.display.HTML object>"
            ]
          },
          "metadata": {}
        },
        {
          "output_type": "execute_result",
          "data": {
            "text/plain": [
              "False"
            ]
          },
          "metadata": {},
          "execution_count": 26
        }
      ]
    },
    {
      "cell_type": "code",
      "metadata": {
        "id": "TA5qvTVnS0q8"
      },
      "source": [
        "!pip install grip"
      ],
      "execution_count": null,
      "outputs": []
    },
    {
      "cell_type": "code",
      "metadata": {
        "colab": {
          "base_uri": "https://localhost:8080/",
          "height": 34
        },
        "id": "YXng0F4dSi4i",
        "outputId": "790b5411-6db4-4e8c-b983-d5f5ab2d2b9d"
      },
      "source": [
        "from google.colab.output import eval_js\n",
        "print(eval_js(\"google.colab.kernel.proxyPort(8000)\"))"
      ],
      "execution_count": 27,
      "outputs": [
        {
          "output_type": "display_data",
          "data": {
            "text/html": [
              "\n",
              "  <style>\n",
              "    pre {\n",
              "        white-space: pre-wrap;\n",
              "    }\n",
              "  </style>\n",
              "  "
            ],
            "text/plain": [
              "<IPython.core.display.HTML object>"
            ]
          },
          "metadata": {}
        },
        {
          "output_type": "stream",
          "name": "stdout",
          "text": [
            "https://luw643h0rjp-496ff2e9c6d22116-8000-colab.googleusercontent.com/\n"
          ]
        }
      ]
    },
    {
      "cell_type": "code",
      "metadata": {
        "id": "Shgf_1CZSkI1"
      },
      "source": [
        ""
      ],
      "execution_count": null,
      "outputs": []
    }
  ]
}