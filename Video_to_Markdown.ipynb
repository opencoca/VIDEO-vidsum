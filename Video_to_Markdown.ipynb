{
  "nbformat": 4,
  "nbformat_minor": 0,
  "metadata": {
    "colab": {
      "name": "Video to Markdown.ipynb",
      "provenance": [],
      "include_colab_link": true
    },
    "kernelspec": {
      "name": "python3",
      "display_name": "Python 3"
    },
    "language_info": {
      "name": "python"
    }
  },
  "cells": [
    {
      "cell_type": "markdown",
      "metadata": {
        "id": "view-in-github",
        "colab_type": "text"
      },
      "source": [
        "<a href=\"https://colab.research.google.com/github/opencoca/vidsum/blob/master/Video_to_Markdown.ipynb\" target=\"_parent\"><img src=\"https://colab.research.google.com/assets/colab-badge.svg\" alt=\"Open In Colab\"/></a>"
      ]
    },
    {
      "cell_type": "code",
      "metadata": {
        "colab": {
          "base_uri": "https://localhost:8080/"
        },
        "id": "shgCLeCzcsVk",
        "outputId": "be7fca28-51e4-4044-bfeb-cb7275bf2e0a"
      },
      "source": [
        "!git clone https://github.com/opencoca/vidsum.git\n",
        "!pip install pipenv --quiet"
      ],
      "execution_count": 2,
      "outputs": [
        {
          "output_type": "stream",
          "name": "stdout",
          "text": [
            "Cloning into 'vidsum'...\n",
            "remote: Enumerating objects: 423, done.\u001b[K\n",
            "remote: Counting objects: 100% (161/161), done.\u001b[K\n",
            "remote: Compressing objects: 100% (133/133), done.\u001b[K\n",
            "remote: Total 423 (delta 91), reused 45 (delta 22), pack-reused 262\u001b[K\n",
            "Receiving objects: 100% (423/423), 3.54 MiB | 28.58 MiB/s, done.\n",
            "Resolving deltas: 100% (204/204), done.\n",
            "\u001b[K     |████████████████████████████████| 3.9 MB 5.1 MB/s \n",
            "\u001b[K     |████████████████████████████████| 5.3 MB 39.2 MB/s \n",
            "\u001b[K     |████████████████████████████████| 496 kB 48.3 MB/s \n",
            "\u001b[?25h"
          ]
        }
      ]
    },
    {
      "cell_type": "code",
      "metadata": {
        "id": "03879psHe9Aj",
        "colab": {
          "base_uri": "https://localhost:8080/"
        },
        "outputId": "aeb7e13f-e3b8-4af6-872c-b995dd13a8d0"
      },
      "source": [
        "%cd vidsum"
      ],
      "execution_count": 4,
      "outputs": [
        {
          "output_type": "stream",
          "name": "stdout",
          "text": [
            "/content/vidsum\n"
          ]
        }
      ]
    },
    {
      "cell_type": "code",
      "metadata": {
        "id": "YPKr50Nfs_ZW",
        "colab": {
          "base_uri": "https://localhost:8080/"
        },
        "outputId": "46b0e8f8-78e7-4696-9203-aaabb2e2ee1d"
      },
      "source": [
        "!pipenv install --python /usr/bin/python3\n",
        "%cd code"
      ],
      "execution_count": 5,
      "outputs": [
        {
          "output_type": "stream",
          "name": "stdout",
          "text": [
            "\u001b[39m\u001b[1mCreating a virtualenv for this project...\u001b[39m\u001b[22m\n",
            "Pipfile: \u001b[33m\u001b[1m/content/vidsum/Pipfile\u001b[39m\u001b[22m\n",
            "\u001b[39m\u001b[1mUsing\u001b[39m\u001b[22m \u001b[33m\u001b[1m/usr/bin/python3\u001b[39m\u001b[22m \u001b[32m\u001b[22m(3.7.12)\u001b[39m\u001b[22m \u001b[39m\u001b[1mto create virtualenv...\u001b[39m\u001b[22m\n",
            "⠹\u001b[0m Creating virtual environment...\u001b[K\u001b[36m\u001b[22mcreated virtual environment CPython3.7.12.final.0-64 in 772ms\n",
            "  creator CPython3Posix(dest=/root/.local/share/virtualenvs/vidsum-GVAHJg4y, clear=False, no_vcs_ignore=False, global=False)\n",
            "  seeder FromAppData(download=False, pip=bundle, setuptools=bundle, wheel=bundle, via=copy, app_data_dir=/root/.local/share/virtualenv)\n",
            "    added seed packages: pip==21.2.4, setuptools==58.1.0, wheel==0.37.0\n",
            "  activators BashActivator,CShellActivator,FishActivator,NushellActivator,PowerShellActivator,PythonActivator\n",
            "\u001b[39m\u001b[22m\n",
            "\u001b[K\u001b[?25h\u001b[32m\u001b[22m✔ Successfully created virtual environment!\u001b[39m\u001b[22m\u001b[0m \n",
            "Virtualenv location: \u001b[32m\u001b[22m/root/.local/share/virtualenvs/vidsum-GVAHJg4y\u001b[39m\u001b[22m\n",
            "\u001b[31m\u001b[1mWarning\u001b[39m\u001b[22m: Your Pipfile requires \u001b[39m\u001b[1mpython_version\u001b[39m\u001b[22m \u001b[36m\u001b[22m3.8\u001b[39m\u001b[22m, but you are using \u001b[36m\u001b[22m3.7.12\u001b[39m\u001b[22m (\u001b[32m\u001b[22m/root/.local/share/v/v/bin/python\u001b[39m\u001b[22m).\n",
            "  \u001b[32m\u001b[22m$ pipenv --rm\u001b[39m\u001b[22m and rebuilding the virtual environment may resolve the issue.\n",
            "  \u001b[33m\u001b[22m$ pipenv check\u001b[39m\u001b[22m will surely fail.\n",
            "\u001b[39m\u001b[1mInstalling dependencies from Pipfile.lock (c2f124)...\u001b[39m\u001b[22m\n",
            "\u001b[33m\u001b[22mIgnoring appnope: markers 'sys_platform == \"darwin\"' don't match your environment\u001b[39m\u001b[22m\n",
            "  🐍   \u001b[32m\u001b[1m▉\u001b[39m\u001b[22m\u001b[32m\u001b[1m▉\u001b[39m\u001b[22m\u001b[32m\u001b[1m▉\u001b[39m\u001b[22m\u001b[32m\u001b[1m▉\u001b[39m\u001b[22m\u001b[32m\u001b[1m▉\u001b[39m\u001b[22m\u001b[32m\u001b[1m▉\u001b[39m\u001b[22m\u001b[32m\u001b[1m▉\u001b[39m\u001b[22m\u001b[32m\u001b[1m▉\u001b[39m\u001b[22m\u001b[32m\u001b[1m▉\u001b[39m\u001b[22m\u001b[32m\u001b[1m▉\u001b[39m\u001b[22m\u001b[32m\u001b[1m▉\u001b[39m\u001b[22m\u001b[32m\u001b[1m▉\u001b[39m\u001b[22m\u001b[32m\u001b[1m▉\u001b[39m\u001b[22m\u001b[32m\u001b[1m▉\u001b[39m\u001b[22m\u001b[32m\u001b[1m▉\u001b[39m\u001b[22m\u001b[32m\u001b[1m▉\u001b[39m\u001b[22m\u001b[32m\u001b[1m▉\u001b[39m\u001b[22m\u001b[32m\u001b[1m▉\u001b[39m\u001b[22m\u001b[32m\u001b[1m▉\u001b[39m\u001b[22m\u001b[32m\u001b[1m▉\u001b[39m\u001b[22m\u001b[32m\u001b[1m▉\u001b[39m\u001b[22m\u001b[32m\u001b[1m▉\u001b[39m\u001b[22m\u001b[32m\u001b[1m▉\u001b[39m\u001b[22m\u001b[32m\u001b[1m▉\u001b[39m\u001b[22m\u001b[32m\u001b[1m▉\u001b[39m\u001b[22m\u001b[32m\u001b[1m▉\u001b[39m\u001b[22m\u001b[32m\u001b[1m▉\u001b[39m\u001b[22m\u001b[32m\u001b[1m▉\u001b[39m\u001b[22m\u001b[32m\u001b[1m▉\u001b[39m\u001b[22m\u001b[32m\u001b[1m▉\u001b[39m\u001b[22m\u001b[32m\u001b[1m▉\u001b[39m\u001b[22m\u001b[32m\u001b[1m▉\u001b[39m\u001b[22m 37/37 — \u001b[30m\u001b[22m00:00:46\u001b[39m\u001b[22m\n",
            "To activate this project's virtualenv, run \u001b[33m\u001b[22mpipenv shell\u001b[39m\u001b[22m.\n",
            "Alternatively, run a command inside the virtualenv with \u001b[33m\u001b[22mpipenv run\u001b[39m\u001b[22m.\n",
            "\u001b[0m"
          ]
        }
      ]
    },
    {
      "cell_type": "code",
      "metadata": {
        "colab": {
          "base_uri": "https://localhost:8080/"
        },
        "id": "IaKSnserH2Vy",
        "outputId": "ebe8b82b-c477-42f4-f242-aa43645c1cbe"
      },
      "source": [
        "!pipenv run python ./sum.py -k -u https://www.youtube.com/watch?v=cKYmVf5_8UU "
      ],
      "execution_count": null,
      "outputs": [
        {
          "output_type": "stream",
          "name": "stdout",
          "text": [
            "\u001b[31m\u001b[1mWarning\u001b[39m\u001b[22m: Your Pipfile requires \u001b[39m\u001b[1mpython_version\u001b[39m\u001b[22m \u001b[36m\u001b[22m3.8\u001b[39m\u001b[22m, but you are using \u001b[36m\u001b[22m3.7.12\u001b[39m\u001b[22m (\u001b[32m\u001b[22m/root/.local/share/v/v/bin/python\u001b[39m\u001b[22m).\n",
            "  \u001b[32m\u001b[22m$ pipenv --rm\u001b[39m\u001b[22m and rebuilding the virtual environment may resolve the issue.\n",
            "  \u001b[33m\u001b[22m$ pipenv check\u001b[39m\u001b[22m will surely fail.\n",
            "Imageio: 'ffmpeg.linux64' was not found on your computer; downloading it now.\n",
            "Try 1. Download from https://github.com/imageio/imageio-binaries/raw/master/ffmpeg/ffmpeg.linux64 (27.2 MB)\n",
            "Downloading: 8192/28549024 bytes (0.0%)\b\b\b\b\b\b\b\b\b\b\b\b\b\b\b\b\b\b\b\b\b\b\b\b\b\b2179072/28549024 bytes (7.6%)\b\b\b\b\b\b\b\b\b\b\b\b\b\b\b\b\b\b\b\b\b\b\b\b\b\b\b\b\b5349376/28549024 bytes (18.7%)\b\b\b\b\b\b\b\b\b\b\b\b\b\b\b\b\b\b\b\b\b\b\b\b\b\b\b\b\b\b8437760/28549024 bytes (29.6%)\b\b\b\b\b\b\b\b\b\b\b\b\b\b\b\b\b\b\b\b\b\b\b\b\b\b\b\b\b\b11640832/28549024 bytes (40.8%)\b\b\b\b\b\b\b\b\b\b\b\b\b\b\b\b\b\b\b\b\b\b\b\b\b\b\b\b\b\b\b14966784/28549024 bytes (52.4%)\b\b\b\b\b\b\b\b\b\b\b\b\b\b\b\b\b\b\b\b\b\b\b\b\b\b\b\b\b\b\b18210816/28549024 bytes (63.8%)\b\b\b\b\b\b\b\b\b\b\b\b\b\b\b\b\b\b\b\b\b\b\b\b\b\b\b\b\b\b\b21700608/28549024 bytes (76.0%)\b\b\b\b\b\b\b\b\b\b\b\b\b\b\b\b\b\b\b\b\b\b\b\b\b\b\b\b\b\b\b25157632/28549024 bytes (88.1%)\b\b\b\b\b\b\b\b\b\b\b\b\b\b\b\b\b\b\b\b\b\b\b\b\b\b\b\b\b\b\b28549024/28549024 bytes (100.0%)\n",
            "  Done\n",
            "File saved as /root/.imageio/ffmpeg/ffmpeg.linux64.\n",
            "[nltk_data] Downloading package punkt to /root/nltk_data...\n",
            "[nltk_data]   Unzipping tokenizers/punkt.zip.\n",
            "[youtube] cKYmVf5_8UU: Downloading webpage\n",
            "\u001b[0;33mWARNING:\u001b[0m No subtitle format found matching \"srt\" for language en, using vtt\n",
            "[info] Writing video subtitles to: 1.en.vtt\n",
            "[download] Destination: 1.mp4\n",
            "\u001b[K[download]  24.8% of 114.15MiB at 54.90KiB/s ETA 26:40"
          ]
        }
      ]
    }
  ]
}