{
  "nbformat": 4,
  "nbformat_minor": 0,
  "metadata": {
    "colab": {
      "name": "Video to Markdown.ipynb",
      "provenance": [],
      "include_colab_link": true
    },
    "kernelspec": {
      "name": "python3",
      "display_name": "Python 3"
    },
    "language_info": {
      "name": "python"
    }
  },
  "cells": [
    {
      "cell_type": "markdown",
      "metadata": {
        "id": "view-in-github",
        "colab_type": "text"
      },
      "source": [
        "<a href=\"https://colab.research.google.com/github/opencoca/vidsum/blob/master/Video_to_Markdown.ipynb\" target=\"_parent\"><img src=\"https://colab.research.google.com/assets/colab-badge.svg\" alt=\"Open In Colab\"/></a>"
      ]
    },
    {
      "cell_type": "markdown",
      "metadata": {
        "id": "3fJC9jrZrRF_"
      },
      "source": [
        "#VidSum -- Video To Markdown\n",
        "\n",
        "Making it easy for you to convert videos from YouTube, Vimeo and other sources into media-rich Markdown content and summary videos.\n",
        "\n",
        "Media assets can be uploaded to Google Drive, a Github Repo, or simply Downloaded as a Zip."
      ]
    },
    {
      "cell_type": "code",
      "metadata": {
        "id": "l2mKO99zYZ1M",
        "cellView": "form",
        "outputId": "f27b665d-d2ec-4071-b2c3-d24b4fe079c1",
        "colab": {
          "base_uri": "https://localhost:8080/"
        }
      },
      "source": [
        "#@title Connect to Google drive \n",
        "\n",
        "from google.colab import drive\n",
        "drive.mount('/content/drive')\n",
        "#@markdown > \n"
      ],
      "execution_count": 1,
      "outputs": [
        {
          "output_type": "stream",
          "name": "stdout",
          "text": [
            "Drive already mounted at /content/drive; to attempt to forcibly remount, call drive.mount(\"/content/drive\", force_remount=True).\n"
          ]
        }
      ]
    },
    {
      "cell_type": "markdown",
      "metadata": {
        "id": "bgkMJtdKrU2-"
      },
      "source": [
        "# Setup Env"
      ]
    },
    {
      "cell_type": "code",
      "metadata": {
        "cellView": "form",
        "id": "gSMYLlotEPEe",
        "outputId": "d6a0fdf1-819e-4a4d-98fd-313181fe3dd6",
        "colab": {
          "base_uri": "https://localhost:8080/"
        }
      },
      "source": [
        "#@title Install and setup PyEnv and PipEnv\n",
        "#@markdown \n",
        "#@markdown Pyenv is the perfect solution for developers who want to stay on top of their game and keep multiple Python versions up-to-date. It provides clean, efficient system management without unnecessary package bloat that can otherwise prove cumbersome when dealing with different installations in one environment!\n",
        "#@markdown \n",
        "#@markdown > Note: PyEnv not used at in Colab at this time.\n",
        "#@markdown \n",
        "#@markdown PipEnv is ....\n",
        "\n",
        "!apt-get update -y --quiet > /dev/null\n",
        "!apt-get install -y make build-essential libssl-dev zlib1g-dev \\\n",
        "> libbz2-dev libreadline-dev libsqlite3-dev wget curl llvm libncurses5-dev\\\n",
        "> libncursesw5-dev xz-utils tk-dev libffi-dev liblzma-dev python-openssl\\\n",
        "> git > /dev/null\n",
        "\n",
        "!git clone https://github.com/pyenv/pyenv.git ~/.pyenv\n",
        "\n",
        "%env PYENV_ROOT=\"/root/.pyenv\"\n",
        "%env PATH=/root/.pyenv/bin:/usr/local/nvidia/bin:/usr/local/cuda/bin:/usr/local/sbin:/usr/local/bin:/usr/sbin:/usr/bin:/sbin:/bin:/tools/node/bin:/tools/google-cloud-sdk/bin:/opt/bin\n",
        "\n",
        "%rehashx \n",
        "\n",
        "#!if command -v pyenv >/dev/null; then eval \"$(pyenv init -)\"; fi && pyenv install py --f\n",
        "\n",
        "!pip install pipenv --quiet"
      ],
      "execution_count": 2,
      "outputs": [
        {
          "output_type": "stream",
          "name": "stdout",
          "text": [
            "fatal: destination path '/root/.pyenv' already exists and is not an empty directory.\n",
            "env: PYENV_ROOT=\"/root/.pyenv\"\n",
            "env: PATH=/root/.pyenv/bin:/usr/local/nvidia/bin:/usr/local/cuda/bin:/usr/local/sbin:/usr/local/bin:/usr/sbin:/usr/bin:/sbin:/bin:/tools/node/bin:/tools/google-cloud-sdk/bin:/opt/bin\n",
            "\u001b[33mWARNING: Running pip as the 'root' user can result in broken permissions and conflicting behaviour with the system package manager. It is recommended to use a virtual environment instead: https://pip.pypa.io/warnings/venv\u001b[0m\u001b[33m\n",
            "\u001b[0m"
          ]
        }
      ]
    },
    {
      "cell_type": "code",
      "metadata": {
        "id": "shgCLeCzcsVk",
        "cellView": "form",
        "outputId": "b30eccb6-4220-4f5a-a8cc-67d453498023",
        "colab": {
          "base_uri": "https://localhost:8080/"
        }
      },
      "source": [
        "#@title Clone project repo and cd into it...\n",
        "!git clone https://github.com/opencoca/vidsum.git\n",
        "%cd vidsum"
      ],
      "execution_count": 3,
      "outputs": [
        {
          "output_type": "stream",
          "name": "stdout",
          "text": [
            "fatal: destination path 'vidsum' already exists and is not an empty directory.\n",
            "/content/vidsum\n"
          ]
        }
      ]
    },
    {
      "cell_type": "code",
      "source": [
        "!pip install -U yt-dlp"
      ],
      "metadata": {
        "id": "hiEOo86Afmll",
        "outputId": "59dc4fe8-54cc-4ee2-fd36-f4fc60f713d7",
        "colab": {
          "base_uri": "https://localhost:8080/"
        }
      },
      "execution_count": 4,
      "outputs": [
        {
          "output_type": "stream",
          "name": "stdout",
          "text": [
            "Looking in indexes: https://pypi.org/simple, https://us-python.pkg.dev/colab-wheels/public/simple/\n",
            "Requirement already satisfied: yt-dlp in /usr/local/lib/python3.7/dist-packages (2022.5.18)\n",
            "Requirement already satisfied: mutagen in /usr/local/lib/python3.7/dist-packages (from yt-dlp) (1.45.1)\n",
            "Requirement already satisfied: pycryptodomex in /usr/local/lib/python3.7/dist-packages (from yt-dlp) (3.14.1)\n",
            "Requirement already satisfied: brotli in /usr/local/lib/python3.7/dist-packages (from yt-dlp) (1.0.9)\n",
            "Requirement already satisfied: websockets in /usr/local/lib/python3.7/dist-packages (from yt-dlp) (10.3)\n",
            "Requirement already satisfied: certifi in /usr/local/lib/python3.7/dist-packages (from yt-dlp) (2022.5.18.1)\n",
            "\u001b[33mWARNING: Running pip as the 'root' user can result in broken permissions and conflicting behaviour with the system package manager. It is recommended to use a virtual environment instead: https://pip.pypa.io/warnings/venv\u001b[0m\u001b[33m\n",
            "\u001b[0m"
          ]
        }
      ]
    },
    {
      "cell_type": "code",
      "source": [
        "import yt_dlp"
      ],
      "metadata": {
        "id": "AnTHH3hIf3cP"
      },
      "execution_count": 5,
      "outputs": []
    },
    {
      "cell_type": "code",
      "metadata": {
        "id": "YPKr50Nfs_ZW",
        "outputId": "bedccc84-3fc2-488d-c84f-7d905c451529",
        "colab": {
          "base_uri": "https://localhost:8080/"
        }
      },
      "source": [
        "#@title Install project's pipenv and youtube_dl for notebook\n",
        "\n",
        "#!pip install youtube_dl\n",
        "#import youtube_dl\n",
        "\n",
        "!pipenv install\n",
        "!pipenv install matplotlib google-colab\n",
        "%cd code"
      ],
      "execution_count": 6,
      "outputs": [
        {
          "output_type": "stream",
          "name": "stdout",
          "text": [
            "\u001b[39m\u001b[1mInstalling dependencies from Pipfile.lock (345363)...\u001b[39m\u001b[22m\n",
            "  🐍   \u001b[32m\u001b[1m▉\u001b[39m\u001b[22m\u001b[32m\u001b[1m▉\u001b[39m\u001b[22m\u001b[32m\u001b[1m▉\u001b[39m\u001b[22m\u001b[32m\u001b[1m▉\u001b[39m\u001b[22m\u001b[32m\u001b[1m▉\u001b[39m\u001b[22m\u001b[32m\u001b[1m▉\u001b[39m\u001b[22m\u001b[32m\u001b[1m▉\u001b[39m\u001b[22m\u001b[32m\u001b[1m▉\u001b[39m\u001b[22m\u001b[32m\u001b[1m▉\u001b[39m\u001b[22m\u001b[32m\u001b[1m▉\u001b[39m\u001b[22m\u001b[32m\u001b[1m▉\u001b[39m\u001b[22m\u001b[32m\u001b[1m▉\u001b[39m\u001b[22m\u001b[32m\u001b[1m▉\u001b[39m\u001b[22m\u001b[32m\u001b[1m▉\u001b[39m\u001b[22m\u001b[32m\u001b[1m▉\u001b[39m\u001b[22m\u001b[32m\u001b[1m▉\u001b[39m\u001b[22m\u001b[32m\u001b[1m▉\u001b[39m\u001b[22m\u001b[32m\u001b[1m▉\u001b[39m\u001b[22m\u001b[32m\u001b[1m▉\u001b[39m\u001b[22m\u001b[32m\u001b[1m▉\u001b[39m\u001b[22m\u001b[32m\u001b[1m▉\u001b[39m\u001b[22m\u001b[32m\u001b[1m▉\u001b[39m\u001b[22m\u001b[32m\u001b[1m▉\u001b[39m\u001b[22m\u001b[32m\u001b[1m▉\u001b[39m\u001b[22m\u001b[32m\u001b[1m▉\u001b[39m\u001b[22m\u001b[32m\u001b[1m▉\u001b[39m\u001b[22m\u001b[32m\u001b[1m▉\u001b[39m\u001b[22m\u001b[32m\u001b[1m▉\u001b[39m\u001b[22m\u001b[32m\u001b[1m▉\u001b[39m\u001b[22m\u001b[32m\u001b[1m▉\u001b[39m\u001b[22m\u001b[32m\u001b[1m▉\u001b[39m\u001b[22m\u001b[32m\u001b[1m▉\u001b[39m\u001b[22m 0/0 — \u001b[30m\u001b[22m00:00:00\u001b[39m\u001b[22m\n",
            "To activate this project's virtualenv, run \u001b[33m\u001b[22mpipenv shell\u001b[39m\u001b[22m.\n",
            "Alternatively, run a command inside the virtualenv with \u001b[33m\u001b[22mpipenv run\u001b[39m\u001b[22m.\n",
            "\u001b[0m\u001b[39m\u001b[1mInstalling \u001b[32m\u001b[1mmatplotlib\u001b[39m\u001b[22m...\u001b[39m\u001b[22m\n",
            "\u001b[K\u001b[39m\u001b[1mAdding\u001b[39m\u001b[22m \u001b[32m\u001b[1mmatplotlib\u001b[39m\u001b[22m \u001b[39m\u001b[1mto Pipfile's\u001b[39m\u001b[22m \u001b[33m\u001b[1m[packages]\u001b[39m\u001b[22m\u001b[39m\u001b[1m...\u001b[39m\u001b[22m\n",
            "\u001b[K\u001b[?25h✔ Installation Succeeded\u001b[0m \n",
            "\u001b[39m\u001b[1mInstalling \u001b[32m\u001b[1mgoogle-colab\u001b[39m\u001b[22m...\u001b[39m\u001b[22m\n",
            "\u001b[K\u001b[39m\u001b[1mAdding\u001b[39m\u001b[22m \u001b[32m\u001b[1mgoogle-colab\u001b[39m\u001b[22m \u001b[39m\u001b[1mto Pipfile's\u001b[39m\u001b[22m \u001b[33m\u001b[1m[packages]\u001b[39m\u001b[22m\u001b[39m\u001b[1m...\u001b[39m\u001b[22m\n",
            "\u001b[K\u001b[?25h✔ Installation Succeeded\u001b[0m \n",
            "\u001b[39m\u001b[1mInstalling dependencies from Pipfile.lock (345363)...\u001b[39m\u001b[22m\n",
            "  🐍   \u001b[32m\u001b[1m▉\u001b[39m\u001b[22m\u001b[32m\u001b[1m▉\u001b[39m\u001b[22m\u001b[32m\u001b[1m▉\u001b[39m\u001b[22m\u001b[32m\u001b[1m▉\u001b[39m\u001b[22m\u001b[32m\u001b[1m▉\u001b[39m\u001b[22m\u001b[32m\u001b[1m▉\u001b[39m\u001b[22m\u001b[32m\u001b[1m▉\u001b[39m\u001b[22m\u001b[32m\u001b[1m▉\u001b[39m\u001b[22m\u001b[32m\u001b[1m▉\u001b[39m\u001b[22m\u001b[32m\u001b[1m▉\u001b[39m\u001b[22m\u001b[32m\u001b[1m▉\u001b[39m\u001b[22m\u001b[32m\u001b[1m▉\u001b[39m\u001b[22m\u001b[32m\u001b[1m▉\u001b[39m\u001b[22m\u001b[32m\u001b[1m▉\u001b[39m\u001b[22m\u001b[32m\u001b[1m▉\u001b[39m\u001b[22m\u001b[32m\u001b[1m▉\u001b[39m\u001b[22m\u001b[32m\u001b[1m▉\u001b[39m\u001b[22m\u001b[32m\u001b[1m▉\u001b[39m\u001b[22m\u001b[32m\u001b[1m▉\u001b[39m\u001b[22m\u001b[32m\u001b[1m▉\u001b[39m\u001b[22m\u001b[32m\u001b[1m▉\u001b[39m\u001b[22m\u001b[32m\u001b[1m▉\u001b[39m\u001b[22m\u001b[32m\u001b[1m▉\u001b[39m\u001b[22m\u001b[32m\u001b[1m▉\u001b[39m\u001b[22m\u001b[32m\u001b[1m▉\u001b[39m\u001b[22m\u001b[32m\u001b[1m▉\u001b[39m\u001b[22m\u001b[32m\u001b[1m▉\u001b[39m\u001b[22m\u001b[32m\u001b[1m▉\u001b[39m\u001b[22m\u001b[32m\u001b[1m▉\u001b[39m\u001b[22m\u001b[32m\u001b[1m▉\u001b[39m\u001b[22m\u001b[32m\u001b[1m▉\u001b[39m\u001b[22m\u001b[32m\u001b[1m▉\u001b[39m\u001b[22m 0/0 — \u001b[30m\u001b[22m00:00:00\u001b[39m\u001b[22m\n",
            "To activate this project's virtualenv, run \u001b[33m\u001b[22mpipenv shell\u001b[39m\u001b[22m.\n",
            "Alternatively, run a command inside the virtualenv with \u001b[33m\u001b[22mpipenv run\u001b[39m\u001b[22m.\n",
            "\u001b[0m/content/vidsum/code\n"
          ]
        }
      ]
    },
    {
      "cell_type": "markdown",
      "metadata": {
        "id": "0Ny8qlFwqEu4"
      },
      "source": [
        "# Choose Video From YouTube"
      ]
    },
    {
      "cell_type": "code",
      "metadata": {
        "id": "XwV4Lhw5qWvm",
        "cellView": "form"
      },
      "source": [
        "youtube_video_url = 'https://www.youtube.com/watch?v=j0Gix4nmF8U' #@param {type:\"string\"}\n"
      ],
      "execution_count": 7,
      "outputs": []
    },
    {
      "cell_type": "markdown",
      "metadata": {
        "id": "vMzbhMYrrHhX"
      },
      "source": [
        "\n",
        "# Now convert videos and enjoy"
      ]
    },
    {
      "cell_type": "code",
      "metadata": {
        "id": "Ctp4gO3tl7OH",
        "cellView": "form"
      },
      "source": [
        "#@title Delete any local files so we can create a fresh doc archive.\n",
        "!rm /content/vidsum/code/*.{jpg,md,mp4,srt,vtt} 2>/dev/null"
      ],
      "execution_count": 8,
      "outputs": []
    },
    {
      "cell_type": "code",
      "metadata": {
        "id": "IaKSnserH2Vy",
        "outputId": "73e6687a-3cf7-4e6a-d151-c3ecf320973a",
        "colab": {
          "base_uri": "https://localhost:8080/"
        }
      },
      "source": [
        "#@title Download and process video.\n",
        "\n",
        "#@markdown > Note: This process can take a long time especially on Google Colab. Downloads are at times throttled....\n",
        "#@markdown\n",
        "#@markdown * Videos are downloaded along with their subtiles.\n",
        "#@markdown * Subtitles are analyzed for for important segments.\n",
        "#@markdown * Stills at begining of important segments are extracted.\n",
        "#@markdown * Subtitles are converted to markdown and images are placed into markdown document\n",
        "#@markdown\n",
        "#@markdown > Note: Don't be alarmed by the UnknownBackend error. As long as you end up with a 1.final.en.md in `./vidsum/code` we're golden. :D\n",
        "\n",
        "with yt_dlp.YoutubeDL() as ydl:\n",
        "    info_dict = ydl.extract_info(youtube_video_url, download=False)\n",
        "    video_title = info_dict.get('title', None)\n",
        "\n",
        "print(f'Downloading {video_title}')\n",
        "\n",
        "!pipenv run python ./sum.py -k -u {youtube_video_url}\n",
        "\n"
      ],
      "execution_count": null,
      "outputs": [
        {
          "output_type": "stream",
          "name": "stdout",
          "text": [
            "[youtube] j0Gix4nmF8U: Downloading webpage\n",
            "[youtube] j0Gix4nmF8U: Downloading android player API JSON\n",
            "Downloading Companies Do Not Care About Staff Loyalty (Anymore) - How Money Works\n",
            "[nltk_data] Downloading package punkt to /root/nltk_data...\n",
            "[nltk_data]   Package punkt is already up-to-date!\n",
            "[youtube] j0Gix4nmF8U: Downloading webpage\n",
            "\u001b[0;33mWARNING:\u001b[0m No subtitle format found matching \"srt\" for language en, using vtt\n",
            "[info] Writing video subtitles to: 1.en.vtt\n",
            "[download] Resuming download at byte 5992321\n",
            "[download] Destination: 1.mp4\n",
            "\u001b[K[download]  12.1% of 71.19MiB at 44.14KiB/s ETA 24:11"
          ]
        }
      ]
    },
    {
      "cell_type": "code",
      "metadata": {
        "id": "2iHH4J_ylD01"
      },
      "source": [
        "#@title copy Markdown Document:\n",
        "video_title = video_title.replace(\"'\", \"_\")\n",
        "video_title = video_title.replace(\".\", \"\")\n",
        "video_title = video_title.replace(\" \", \"_\")\n",
        "\n",
        "print(f'copying to markdown/{video_title}')\n",
        "!mkdir -p '/content/drive/MyDrive/markdown/{video_title}'\n",
        "!read -t 5 -p 'Pausing for 5 secords to allow GDrive to create folder'\n",
        "!cp /content/vidsum/code/*.jpg '/content/drive/MyDrive/markdown/{video_title}'\n",
        "!cp /content/vidsum/code/*.md '/content/drive/MyDrive/markdown/{video_title}'\n",
        "!cp /content/vidsum/code/*.srt '/content/drive/MyDrive/markdown/{video_title}'\n",
        "!cp /content/vidsum/code/*.vtt '/content/drive/MyDrive/markdown/{video_title}'\n",
        "!cp /content/vidsum/code/*.mp4 '/content/drive/MyDrive/markdown/{video_title}'"
      ],
      "execution_count": null,
      "outputs": []
    }
  ]
}