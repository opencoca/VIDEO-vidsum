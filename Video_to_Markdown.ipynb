{
  "nbformat": 4,
  "nbformat_minor": 0,
  "metadata": {
    "colab": {
      "name": "Video to Markdown.ipynb",
      "provenance": [],
      "toc_visible": true,
      "include_colab_link": true
    },
    "kernelspec": {
      "name": "python3",
      "display_name": "Python 3"
    },
    "language_info": {
      "name": "python"
    }
  },
  "cells": [
    {
      "cell_type": "markdown",
      "metadata": {
        "id": "view-in-github",
        "colab_type": "text"
      },
      "source": [
        "<a href=\"https://colab.research.google.com/github/opencoca/vidsum/blob/master/Video_to_Markdown.ipynb\" target=\"_parent\"><img src=\"https://colab.research.google.com/assets/colab-badge.svg\" alt=\"Open In Colab\"/></a>"
      ]
    },
    {
      "cell_type": "markdown",
      "metadata": {
        "id": "3fJC9jrZrRF_"
      },
      "source": [
        "#VidSum -- Video To Markdown\n",
        "\n",
        "Making it easy for you to convert videos from YouTube, Vimeo and other sources into media-rich Markdown content and summary videos.\n",
        "\n",
        "Media assets can be uploaded to Google Drive, a Github Repo, or simply Downloaded as a Zip."
      ]
    },
    {
      "cell_type": "code",
      "metadata": {
        "id": "l2mKO99zYZ1M",
        "cellView": "form"
      },
      "source": [
        "#@title Connect to Google drive \n",
        "\n",
        "from google.colab import drive\n",
        "drive.mount('/content/drive')\n",
        "#@markdown > \n"
      ],
      "execution_count": null,
      "outputs": []
    },
    {
      "cell_type": "markdown",
      "metadata": {
        "id": "bgkMJtdKrU2-"
      },
      "source": [
        "# Setup Env"
      ]
    },
    {
      "cell_type": "code",
      "metadata": {
        "cellView": "form",
        "id": "gSMYLlotEPEe"
      },
      "source": [
        "#@title Install and setup PyEnv and PipEnv\n",
        "#@markdown \n",
        "#@markdown Pyenv is the perfect solution for developers who want to stay on top of their game and keep multiple Python versions up-to-date. It provides clean, efficient system management without unnecessary package bloat that can otherwise prove cumbersome when dealing with different installations in one environment!\n",
        "#@markdown \n",
        "#@markdown > Note: PyEnv not used at in Colab at this time.\n",
        "#@markdown \n",
        "#@markdown PipEnv is ....\n",
        "\n",
        "!apt-get update -y --quiet > /dev/null\n",
        "!apt-get install -y make build-essential libssl-dev zlib1g-dev \\\n",
        "> libbz2-dev libreadline-dev libsqlite3-dev wget curl llvm libncurses5-dev\\\n",
        "> libncursesw5-dev xz-utils tk-dev libffi-dev liblzma-dev python-openssl\\\n",
        "> git > /dev/null\n",
        "\n",
        "!git clone https://github.com/pyenv/pyenv.git ~/.pyenv\n",
        "\n",
        "%env PYENV_ROOT=\"/root/.pyenv\"\n",
        "%env PATH=/root/.pyenv/bin:/usr/local/nvidia/bin:/usr/local/cuda/bin:/usr/local/sbin:/usr/local/bin:/usr/sbin:/usr/bin:/sbin:/bin:/tools/node/bin:/tools/google-cloud-sdk/bin:/opt/bin\n",
        "\n",
        "%rehashx \n",
        "\n",
        "#!if command -v pyenv >/dev/null; then eval \"$(pyenv init -)\"; fi && pyenv install py --f\n",
        "\n",
        "!pip install pipenv --quiet"
      ],
      "execution_count": null,
      "outputs": []
    },
    {
      "cell_type": "code",
      "metadata": {
        "id": "shgCLeCzcsVk",
        "cellView": "form"
      },
      "source": [
        "#@title Clone project repo and cd into it...\n",
        "!git clone https://github.com/opencoca/vidsum.git\n",
        "%cd vidsum"
      ],
      "execution_count": null,
      "outputs": []
    },
    {
      "cell_type": "code",
      "metadata": {
        "id": "YPKr50Nfs_ZW",
        "cellView": "form",
        "outputId": "f3db10be-9e9f-4cb4-ce83-15eab3e680ac",
        "colab": {
          "base_uri": "https://localhost:8080/"
        }
      },
      "source": [
        "#@title Install project's pipenv and youtube_dl for notebook\n",
        "\n",
        "!pip install youtube_dl\n",
        "import youtube_dl\n",
        "\n",
        "!pipenv install\n",
        "!pipenv install matplotlib google-colab\n",
        "%cd code"
      ],
      "execution_count": null,
      "outputs": [
        {
          "output_type": "stream",
          "name": "stdout",
          "text": [
            "Successfully installed youtube-dl-2021.6.6\n",
            "\u001b[39m\u001b[1mCreating a virtualenv for this project...\u001b[39m\u001b[22m\n",
            "Pipfile: \u001b[33m\u001b[1m/content/vidsum/Pipfile\u001b[39m\u001b[22m\n",
            "\u001b[39m\u001b[1mUsing\u001b[39m\u001b[22m \u001b[33m\u001b[1m/usr/local/bin/python\u001b[39m\u001b[22m \u001b[32m\u001b[22m(3.7.12)\u001b[39m\u001b[22m \u001b[39m\u001b[1mto create virtualenv...\u001b[39m\u001b[22m\n",
            "⠼\u001b[0m Creating virtual environment...\u001b[K\u001b[36m\u001b[22mcreated virtual environment CPython3.7.12.final.0-64 in 889ms\n",
            "  creator CPython3Posix(dest=/root/.local/share/virtualenvs/vidsum-GVAHJg4y, clear=False, no_vcs_ignore=False, global=False)\n",
            "  seeder FromAppData(download=False, pip=bundle, setuptools=bundle, wheel=bundle, via=copy, app_data_dir=/root/.local/share/virtualenv)\n",
            "    added seed packages: pip==21.3.1, setuptools==58.3.0, wheel==0.37.0\n",
            "  activators BashActivator,CShellActivator,FishActivator,NushellActivator,PowerShellActivator,PythonActivator\n",
            "\u001b[39m\u001b[22m\n",
            "\u001b[K\u001b[?25h\u001b[32m\u001b[22m✔ Successfully created virtual environment!\u001b[39m\u001b[22m\u001b[0m \n",
            "Virtualenv location: \u001b[32m\u001b[22m/root/.local/share/virtualenvs/vidsum-GVAHJg4y\u001b[39m\u001b[22m\n",
            "\u001b[39m\u001b[1mPipfile.lock not found, creating...\u001b[39m\u001b[22m\n",
            "\u001b[39m\u001b[22mLocking\u001b[39m\u001b[22m \u001b[33m\u001b[22m[dev-packages]\u001b[39m\u001b[22m \u001b[39m\u001b[22mdependencies...\u001b[39m\u001b[22m\n",
            "\u001b[39m\u001b[22mLocking\u001b[39m\u001b[22m \u001b[33m\u001b[22m[packages]\u001b[39m\u001b[22m \u001b[39m\u001b[22mdependencies...\u001b[39m\u001b[22m\n",
            "\u001b[KBuilding requirements...\n",
            "\u001b[KResolving dependencies...\n",
            "\u001b[K\u001b[?25h\u001b[32m\u001b[22m✔ Success!\u001b[39m\u001b[22m\u001b[0m \n",
            "\u001b[39m\u001b[1mUpdated Pipfile.lock (99130f)!\u001b[39m\u001b[22m\n",
            "\u001b[39m\u001b[1mInstalling dependencies from Pipfile.lock (99130f)...\u001b[39m\u001b[22m\n"
          ]
        }
      ]
    },
    {
      "cell_type": "markdown",
      "metadata": {
        "id": "0Ny8qlFwqEu4"
      },
      "source": [
        "# Choose Video From YouTube"
      ]
    },
    {
      "cell_type": "code",
      "metadata": {
        "id": "XwV4Lhw5qWvm",
        "cellView": "form"
      },
      "source": [
        "youtube_video_url = 'https://www.youtube.com/watch?v=H2cWt5viG7w' #@param {type:\"string\"}\n"
      ],
      "execution_count": null,
      "outputs": []
    },
    {
      "cell_type": "markdown",
      "metadata": {
        "id": "vMzbhMYrrHhX"
      },
      "source": [
        "\n",
        "# Now convert videos and enjoy"
      ]
    },
    {
      "cell_type": "code",
      "metadata": {
        "id": "Ctp4gO3tl7OH",
        "cellView": "form"
      },
      "source": [
        "#@title Delete any local files so we can create a fresh doc archive.\n",
        "!rm /content/vidsum/code/*.{jpg,md,mp4,srt,vtt} 2>/dev/null"
      ],
      "execution_count": null,
      "outputs": []
    },
    {
      "cell_type": "code",
      "metadata": {
        "id": "IaKSnserH2Vy",
        "cellView": "form"
      },
      "source": [
        "#@title Download and process video.\n",
        "\n",
        "#@markdown > Note: This process can take a long time especially on Google Colab. Downloads are at times throttled....\n",
        "#@markdown\n",
        "#@markdown * Videos are downloaded along with their subtiles.\n",
        "#@markdown * Subtitles are analyzed for for important segments.\n",
        "#@markdown * Stills at begining of important segments are extracted.\n",
        "#@markdown * Subtitles are converted to markdown and images are placed into markdown document\n",
        "#@markdown\n",
        "#@markdown > Note: Don't be alarmed by the UnknownBackend error. As long as you end up with a 1.final.en.md in `./vidsum/code` we're golden. :D\n",
        "\n",
        "with youtube_dl.YoutubeDL() as ydl:\n",
        "    info_dict = ydl.extract_info(youtube_video_url, download=False)\n",
        "    video_title = info_dict.get('title', None)\n",
        "\n",
        "print(f'Downloading {video_title}')\n",
        "\n",
        "!pipenv run python ./sum.py -k -u {youtube_video_url} >/dev/null\n",
        "\n"
      ],
      "execution_count": null,
      "outputs": []
    },
    {
      "cell_type": "code",
      "metadata": {
        "id": "2iHH4J_ylD01",
        "cellView": "form"
      },
      "source": [
        "#@title copy Markdown Document:\n",
        "video_title = video_title.replace(\"'\", \"_\")\n",
        "video_title = video_title.replace(\".\", \"\")\n",
        "video_title = video_title.replace(\" \", \"_\")\n",
        "\n",
        "print(f'copying to markdown/{video_title}')\n",
        "!mkdir -p '/content/drive/MyDrive/markdown/{video_title}' &&\\\n",
        "read -t 5 -p 'Pausing for 5 secords to allow GDrive to create folder' &&\\\n",
        "cp /content/vidsum/code/*.jpg '/content/drive/MyDrive/markdown/{video_title}' &&\\\n",
        "cp /content/vidsum/code/*.md '/content/drive/MyDrive/markdown/{video_title}' &&\\\n",
        "cp /content/vidsum/code/*.srt '/content/drive/MyDrive/markdown/{video_title}' &&\\\n",
        "cp /content/vidsum/code/*.vtt '/content/drive/MyDrive/markdown/{video_title}' &&\\\n",
        "cp /content/vidsum/code/*.mp4 '/content/drive/MyDrive/markdown/{video_title}'"
      ],
      "execution_count": null,
      "outputs": []
    }
  ]
}