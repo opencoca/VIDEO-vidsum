{
  "nbformat": 4,
  "nbformat_minor": 0,
  "metadata": {
    "colab": {
      "name": "Video to Markdown.ipynb",
      "provenance": [],
      "include_colab_link": true
    },
    "kernelspec": {
      "name": "python3",
      "display_name": "Python 3"
    },
    "language_info": {
      "name": "python"
    }
  },
  "cells": [
    {
      "cell_type": "markdown",
      "metadata": {
        "id": "view-in-github",
        "colab_type": "text"
      },
      "source": [
        "<a href=\"https://colab.research.google.com/github/opencoca/vidsum/blob/master/Video_to_Markdown.ipynb\" target=\"_parent\"><img src=\"https://colab.research.google.com/assets/colab-badge.svg\" alt=\"Open In Colab\"/></a>"
      ]
    },
    {
      "cell_type": "code",
      "metadata": {
        "id": "uj8o9ug5LZEa"
      },
      "source": [
        "#@title VidSum -- Video To Markdown \n",
        "#@markdown Making it easy for you to convert videos from YouTube, Vimeo and other sources into media-rich Markdown content and summary videos. \n",
        "#@markdown\n",
        "#@markdown Media assets can be uploaded to Google Drive, a Github Repo, or simply Downloaded as a Zip.\n",
        "\n",
        "#@markdown > Editing is best experienced with a markdown editor that lets you see inline images."
      ],
      "execution_count": null,
      "outputs": []
    },
    {
      "cell_type": "code",
      "metadata": {
        "cellView": "form",
        "id": "gSMYLlotEPEe"
      },
      "source": [
        "#@title Install and setup PyEnv and PipEnv\n",
        "#@markdown \n",
        "#@markdown Pyenv is the perfect solution for developers who want to stay on top of their game and keep multiple Python versions up-to-date. It provides clean, efficient system management without unnecessary package bloat that can otherwise prove cumbersome when dealing with different installations in one environment!\n",
        "#@markdown \n",
        "#@markdown > Note: PyEnv not used at in Colab at this time.\n",
        "#@markdown \n",
        "#@markdown PipEnv is ....\n",
        "\n",
        "!apt-get update -y --quiet > /dev/null\n",
        "!apt-get install -y make build-essential libssl-dev zlib1g-dev \\\n",
        "> libbz2-dev libreadline-dev libsqlite3-dev wget curl llvm libncurses5-dev\\\n",
        "> libncursesw5-dev xz-utils tk-dev libffi-dev liblzma-dev python-openssl\\\n",
        "> git > /dev/null\n",
        "\n",
        "!git clone https://github.com/pyenv/pyenv.git ~/.pyenv\n",
        "\n",
        "%env PYENV_ROOT=\"/root/.pyenv\"\n",
        "%env PATH=/root/.pyenv/bin:/usr/local/nvidia/bin:/usr/local/cuda/bin:/usr/local/sbin:/usr/local/bin:/usr/sbin:/usr/bin:/sbin:/bin:/tools/node/bin:/tools/google-cloud-sdk/bin:/opt/bin\n",
        "\n",
        "%rehashx \n",
        "\n",
        "#!if command -v pyenv >/dev/null; then eval \"$(pyenv init -)\"; fi && pyenv install py --f\n",
        "\n",
        "!pip install pipenv --quiet"
      ],
      "execution_count": null,
      "outputs": []
    },
    {
      "cell_type": "code",
      "metadata": {
        "id": "shgCLeCzcsVk",
        "cellView": "form"
      },
      "source": [
        "#@title Clone project repo and cd into it...\n",
        "!git clone https://github.com/opencoca/vidsum.git\n",
        "%cd vidsum"
      ],
      "execution_count": null,
      "outputs": []
    },
    {
      "cell_type": "code",
      "metadata": {
        "id": "YPKr50Nfs_ZW",
        "cellView": "form"
      },
      "source": [
        "#@title Install project's pipenv.\n",
        "!pipenv install\n",
        "!pipenv install matplotlib google-colab\n",
        "%cd code"
      ],
      "execution_count": null,
      "outputs": []
    },
    {
      "cell_type": "code",
      "metadata": {
        "id": "IaKSnserH2Vy",
        "cellView": "form"
      },
      "source": [
        "#@title Choose a video from YouTube and convert a Markdown Document.\n",
        "\n",
        "youtube_video_url = 'https://www.youtube.com/watch?v=NALNA27foSg' #@param {type:\"string\"}\n",
        "#@markdown > Note: This process can take a long time especially on Google Colab. Downloads are at times throttled....\n",
        "#@markdown * Videos are downloaded along with their subtiles.\n",
        "#@markdown * Subtitles are analyzed for for important segments.\n",
        "#@markdown * Stills at begining of important segments are extracted.\n",
        "#@markdown * Subtitles are converted to markdown and images are placed into markdown document\n",
        "#@markdown > Note: Don't be alarmed by the UnknownBackend error. As long as you end up with a 1.final.en.md in `./vidsum/code` we're golden. :D\n",
        "!pipenv run python ./sum.py -k -u {youtube_video_url} "
      ],
      "execution_count": null,
      "outputs": []
    },
    {
      "cell_type": "code",
      "metadata": {
        "cellView": "form",
        "id": "l2mKO99zYZ1M"
      },
      "source": [
        "#@title Connect to Google drive and copy Markdown Document and related files to folder with a title of:\n",
        "\n",
        "from google.colab import drive\n",
        "drive.mount('/content/drive')\n",
        "#@markdown > \n",
        "title = 'make an instrument using the potentiometer' #@param {type:\"string\"}\n",
        "!cd ..&&\\\n",
        "mkdir -p /content/drive/MyDrive/markdown/ &&\\\n",
        "cp -R ./code/. '/content/drive/MyDrive/markdown/{title}'"
      ],
      "execution_count": null,
      "outputs": []
    }
  ]
}