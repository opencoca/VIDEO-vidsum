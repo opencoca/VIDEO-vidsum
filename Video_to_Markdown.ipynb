{
  "nbformat": 4,
  "nbformat_minor": 0,
  "metadata": {
    "colab": {
      "name": "Video to Markdown.ipynb",
      "provenance": [],
      "authorship_tag": "ABX9TyMp5lNPCzMiSzvSFE/5KdBW",
      "include_colab_link": true
    },
    "kernelspec": {
      "name": "python3",
      "display_name": "Python 3"
    },
    "language_info": {
      "name": "python"
    }
  },
  "cells": [
    {
      "cell_type": "markdown",
      "metadata": {
        "id": "view-in-github",
        "colab_type": "text"
      },
      "source": [
        "<a href=\"https://colab.research.google.com/github/opencoca/vidsum/blob/master/Video_to_Markdown.ipynb\" target=\"_parent\"><img src=\"https://colab.research.google.com/assets/colab-badge.svg\" alt=\"Open In Colab\"/></a>"
      ]
    },
    {
      "cell_type": "code",
      "metadata": {
        "colab": {
          "base_uri": "https://localhost:8080/"
        },
        "id": "shgCLeCzcsVk",
        "outputId": "7cfa943c-a708-401c-80e9-bd5a703aa605"
      },
      "source": [
        "!git clone https://github.com/opencoca/vidsum.git"
      ],
      "execution_count": 1,
      "outputs": [
        {
          "output_type": "stream",
          "name": "stdout",
          "text": [
            "Cloning into 'vidsum'...\n",
            "remote: Enumerating objects: 351, done.\u001b[K\n",
            "remote: Counting objects: 100% (89/89), done.\u001b[K\n",
            "remote: Compressing objects: 100% (73/73), done.\u001b[K\n",
            "remote: Total 351 (delta 42), reused 26 (delta 10), pack-reused 262\u001b[K\n",
            "Receiving objects: 100% (351/351), 3.53 MiB | 41.54 MiB/s, done.\n",
            "Resolving deltas: 100% (155/155), done.\n"
          ]
        }
      ]
    },
    {
      "cell_type": "code",
      "metadata": {
        "id": "03879psHe9Aj"
      },
      "source": [
        "%cd vidsum"
      ],
      "execution_count": null,
      "outputs": []
    }
  ]
}
